{
 "cells": [
  {
   "cell_type": "markdown",
   "id": "9b771f9a",
   "metadata": {},
   "source": [
    "# Проект по теме \"Принятие решений в бизнесе\"**"
   ]
  },
  {
   "cell_type": "markdown",
   "id": "9f6e93c9",
   "metadata": {},
   "source": [
    "<div class=\"alert alert-warning\">\n",
    "<b>Комментарий ревьюера v1:</b>\n",
    "    \n",
    "Дополнительно было бы здорово оставить описание проекта, данных и задач. Описание проекта важная часть работы так как она дает вводные для стороннего читателя (будь то коллега-ревьюер или же бизнес-заказчик). На данном этапе также полезно выполнять декомпозицию задачи.\n"
   ]
  },
  {
   "cell_type": "markdown",
   "id": "5f512d8a",
   "metadata": {},
   "source": [
    "<div class=\"alert alert-info\"> <b>Комментарий студента:</b> Добавил описание проекта, данных и задач.</div>"
   ]
  },
  {
   "cell_type": "markdown",
   "id": "b8d01a45",
   "metadata": {},
   "source": [
    "**Описание проекта**\n",
    "\n",
    "**Контекст**\n",
    "\n",
    "Вы — аналитик крупного интернет-магазина. Вместе с отделом маркетинга вы подготовили список гипотез для увеличения выручки.\n",
    "Приоритизируйте гипотезы, запустите A/B-тест и проанализируйте результаты.\n",
    "\n",
    "**Описание данных**\n",
    "\n",
    "**Данные для первой части**\n",
    "\n",
    "Файл /datasets/hypothesis.csv. Скачать датасет\n",
    "\n",
    "-\tHypothesis — краткое описание гипотезы;\n",
    "-\tReach — охват пользователей по 10-балльной шкале;\n",
    "-\tImpact — влияние на пользователей по 10-балльной шкале;\n",
    "-\tConfidence — уверенность в гипотезе по 10-балльной шкале;\n",
    "-\tEfforts — затраты ресурсов на проверку гипотезы по 10-балльной шкале. Чем больше значение Efforts, тем дороже проверка гипотезы.\n",
    "\n",
    "**Данные для второй части**\n",
    "\n",
    "Файл /datasets/orders.csv. Скачать датасет\n",
    "-\ttransactionId — идентификатор заказа;\n",
    "-\tvisitorId — идентификатор пользователя, совершившего заказ;\n",
    "-\tdate — дата, когда был совершён заказ;\n",
    "-\trevenue — выручка заказа;\n",
    "-\tgroup — группа A/B-теста, в которую попал заказ.\n",
    "\n",
    "Файл /datasets/visitors.csv. Скачать датасет\n",
    "-\tdate — дата;\n",
    "-\tgroup — группа A/B-теста;\n",
    "-\tvisitors — количество пользователей в указанную дату в указанной группе A/B-теста\n",
    "\n",
    "**Задачи**\n",
    "\n",
    "**Часть 1. Приоритизация гипотез.**\n",
    "\n",
    "В файле /datasets/hypothesis.csv 9 гипотез по увеличению выручки интернет-магазина с указанными параметрами Reach, Impact, Confidence, Effort.\n",
    "\n",
    "**Задача:**\n",
    "\n",
    "- Примените фреймворк ICE для приоритизации гипотез. Отсортируйте их по убыванию приоритета.\n",
    "- Примените фреймворк RICE для приоритизации гипотез. Отсортируйте их по убыванию приоритета.\n",
    "- Укажите, как изменилась приоритизация гипотез при применении RICE вместо ICE. Объясните, почему так произошло.\n",
    "\n",
    "**Часть 2. Анализ A/B-теста**\n",
    "\n",
    "Вы провели A/B-тест и получили результаты, которые описаны в файлах /datasets/orders.csv и /datasets/visitors.csv.\n",
    "\n",
    "**Задача:**\n",
    "\n",
    "**Проанализируйте A/B-тест:**\n",
    "\n",
    "- Постройте график кумулятивной выручки по группам. Сделайте выводы и предположения.\n",
    "- Постройте график кумулятивного среднего чека по группам. Сделайте выводы и предположения.\n",
    "- Постройте график относительного изменения кумулятивного среднего чека группы B к группе A. Сделайте выводы и предположения.\n",
    "- Постройте график кумулятивной конверсии по группам. Сделайте выводы и предположения.\n",
    "- Постройте график относительного изменения кумулятивной конверсии группы B к группе A. Сделайте выводы и предположения.\n",
    "- Постройте точечный график количества заказов по пользователям. Сделайте выводы и предположения.\n",
    "- Посчитайте 95-й и 99-й перцентили количества заказов на пользователя. Выберите границу для определения аномальных пользователей.\n",
    "- Постройте точечный график стоимостей заказов. Сделайте выводы и предположения.\n",
    "- Посчитайте 95-й и 99-й перцентили стоимости заказов. Выберите границу для определения аномальных заказов.\n",
    "- Посчитайте статистическую значимость различий в конверсии между группами по «сырым» данным. Сделайте выводы и предположения.\n",
    "- Посчитайте статистическую значимость различий в среднем чеке заказа между группами по «сырым» данным. Сделайте выводы и предположения.\n",
    "- Посчитайте статистическую значимость различий в конверсии между группами по «очищенным» данным. Сделайте выводы и предположения.\n",
    "- Посчитайте статистическую значимость различий в среднем чеке заказа между группами по «очищенным» данным. Сделайте выводы и предположения.\n",
    "\n",
    "**Примите решение по результатам теста и объясните его. Варианты решений:**\n",
    "\n",
    "- Остановить тест, зафиксировать победу одной из групп.\n",
    "- Остановить тест, зафиксировать отсутствие различий между группами.\n",
    "- Продолжить тест."
   ]
  },
  {
   "cell_type": "markdown",
   "id": "26799af3",
   "metadata": {},
   "source": [
    "<div class=\"alert alert-success\">\n",
    "<b>Комментарий ревьюера v2:</b>\n",
    "    \n",
    "Здорово, что добавил подробное описание проекта.\n"
   ]
  },
  {
   "cell_type": "markdown",
   "id": "94e7adf8",
   "metadata": {},
   "source": [
    "# Подготовка данных к анализу "
   ]
  },
  {
   "cell_type": "markdown",
   "id": "abb4abc4",
   "metadata": {},
   "source": [
    "Загрузка библиотек:"
   ]
  },
  {
   "cell_type": "code",
   "execution_count": 1,
   "id": "1d9ac241",
   "metadata": {
    "ExecuteTime": {
     "end_time": "2022-09-18T21:30:50.315248Z",
     "start_time": "2022-09-18T21:30:48.027540Z"
    }
   },
   "outputs": [],
   "source": [
    "import matplotlib.pyplot as plt\n",
    "%matplotlib inline\n",
    "import numpy as np\n",
    "import seaborn as sns\n",
    "from scipy import stats as st\n",
    "from datetime import datetime, timedelta\n",
    "import pandas as pd\n",
    "pd.options.display.float_format = \"{:,.2f}\".format\n",
    "import scipy.stats as stats\n",
    "import datetime as dt"
   ]
  },
  {
   "cell_type": "markdown",
   "id": "ed741b49",
   "metadata": {},
   "source": [
    "Загрузка датафремов и анализ данных"
   ]
  },
  {
   "cell_type": "code",
   "execution_count": 2,
   "id": "779f0ce5",
   "metadata": {
    "ExecuteTime": {
     "end_time": "2022-09-18T21:30:50.346148Z",
     "start_time": "2022-09-18T21:30:50.318245Z"
    }
   },
   "outputs": [],
   "source": [
    "try:\n",
    "    hypothesis = pd.read_csv('/datasets/hypothesis.csv')\n",
    "    orders = pd.read_csv('/datasets/orders.csv')\n",
    "    visitors = pd.read_csv('/datasets/visitors.csv')\n",
    "    \n",
    "except:\n",
    "    hypothesis = pd.read_csv('hypothesis.csv')\n",
    "    orders = pd.read_csv('orders.csv')\n",
    "    visitors = pd.read_csv('visitors.csv')"
   ]
  },
  {
   "cell_type": "markdown",
   "id": "ea6bd11f",
   "metadata": {},
   "source": [
    "Просмотр содержания датафремов:"
   ]
  },
  {
   "cell_type": "code",
   "execution_count": 3,
   "id": "c9fe6d1e",
   "metadata": {
    "ExecuteTime": {
     "end_time": "2022-09-18T21:30:50.377101Z",
     "start_time": "2022-09-18T21:30:50.349140Z"
    }
   },
   "outputs": [
    {
     "name": "stdout",
     "output_type": "stream",
     "text": [
      "<class 'pandas.core.frame.DataFrame'>\n",
      "RangeIndex: 9 entries, 0 to 8\n",
      "Data columns (total 5 columns):\n",
      " #   Column      Non-Null Count  Dtype \n",
      "---  ------      --------------  ----- \n",
      " 0   Hypothesis  9 non-null      object\n",
      " 1   Reach       9 non-null      int64 \n",
      " 2   Impact      9 non-null      int64 \n",
      " 3   Confidence  9 non-null      int64 \n",
      " 4   Efforts     9 non-null      int64 \n",
      "dtypes: int64(4), object(1)\n",
      "memory usage: 488.0+ bytes\n"
     ]
    },
    {
     "data": {
      "text/html": [
       "<div>\n",
       "<style scoped>\n",
       "    .dataframe tbody tr th:only-of-type {\n",
       "        vertical-align: middle;\n",
       "    }\n",
       "\n",
       "    .dataframe tbody tr th {\n",
       "        vertical-align: top;\n",
       "    }\n",
       "\n",
       "    .dataframe thead th {\n",
       "        text-align: right;\n",
       "    }\n",
       "</style>\n",
       "<table border=\"1\" class=\"dataframe\">\n",
       "  <thead>\n",
       "    <tr style=\"text-align: right;\">\n",
       "      <th></th>\n",
       "      <th>Hypothesis</th>\n",
       "      <th>Reach</th>\n",
       "      <th>Impact</th>\n",
       "      <th>Confidence</th>\n",
       "      <th>Efforts</th>\n",
       "    </tr>\n",
       "  </thead>\n",
       "  <tbody>\n",
       "    <tr>\n",
       "      <th>0</th>\n",
       "      <td>Добавить два новых канала привлечения трафика,...</td>\n",
       "      <td>3</td>\n",
       "      <td>10</td>\n",
       "      <td>8</td>\n",
       "      <td>6</td>\n",
       "    </tr>\n",
       "    <tr>\n",
       "      <th>1</th>\n",
       "      <td>Запустить собственную службу доставки, что сок...</td>\n",
       "      <td>2</td>\n",
       "      <td>5</td>\n",
       "      <td>4</td>\n",
       "      <td>10</td>\n",
       "    </tr>\n",
       "    <tr>\n",
       "      <th>2</th>\n",
       "      <td>Добавить блоки рекомендаций товаров на сайт ин...</td>\n",
       "      <td>8</td>\n",
       "      <td>3</td>\n",
       "      <td>7</td>\n",
       "      <td>3</td>\n",
       "    </tr>\n",
       "    <tr>\n",
       "      <th>3</th>\n",
       "      <td>Изменить структура категорий, что увеличит кон...</td>\n",
       "      <td>8</td>\n",
       "      <td>3</td>\n",
       "      <td>3</td>\n",
       "      <td>8</td>\n",
       "    </tr>\n",
       "    <tr>\n",
       "      <th>4</th>\n",
       "      <td>Изменить цвет фона главной страницы, чтобы уве...</td>\n",
       "      <td>3</td>\n",
       "      <td>1</td>\n",
       "      <td>1</td>\n",
       "      <td>1</td>\n",
       "    </tr>\n",
       "    <tr>\n",
       "      <th>5</th>\n",
       "      <td>Добавить страницу отзывов клиентов о магазине,...</td>\n",
       "      <td>3</td>\n",
       "      <td>2</td>\n",
       "      <td>2</td>\n",
       "      <td>3</td>\n",
       "    </tr>\n",
       "    <tr>\n",
       "      <th>6</th>\n",
       "      <td>Показать на главной странице баннеры с актуаль...</td>\n",
       "      <td>5</td>\n",
       "      <td>3</td>\n",
       "      <td>8</td>\n",
       "      <td>3</td>\n",
       "    </tr>\n",
       "    <tr>\n",
       "      <th>7</th>\n",
       "      <td>Добавить форму подписки на все основные страни...</td>\n",
       "      <td>10</td>\n",
       "      <td>7</td>\n",
       "      <td>8</td>\n",
       "      <td>5</td>\n",
       "    </tr>\n",
       "    <tr>\n",
       "      <th>8</th>\n",
       "      <td>Запустить акцию, дающую скидку на товар в день...</td>\n",
       "      <td>1</td>\n",
       "      <td>9</td>\n",
       "      <td>9</td>\n",
       "      <td>5</td>\n",
       "    </tr>\n",
       "  </tbody>\n",
       "</table>\n",
       "</div>"
      ],
      "text/plain": [
       "                                          Hypothesis  Reach  Impact  \\\n",
       "0  Добавить два новых канала привлечения трафика,...      3      10   \n",
       "1  Запустить собственную службу доставки, что сок...      2       5   \n",
       "2  Добавить блоки рекомендаций товаров на сайт ин...      8       3   \n",
       "3  Изменить структура категорий, что увеличит кон...      8       3   \n",
       "4  Изменить цвет фона главной страницы, чтобы уве...      3       1   \n",
       "5  Добавить страницу отзывов клиентов о магазине,...      3       2   \n",
       "6  Показать на главной странице баннеры с актуаль...      5       3   \n",
       "7  Добавить форму подписки на все основные страни...     10       7   \n",
       "8  Запустить акцию, дающую скидку на товар в день...      1       9   \n",
       "\n",
       "   Confidence  Efforts  \n",
       "0           8        6  \n",
       "1           4       10  \n",
       "2           7        3  \n",
       "3           3        8  \n",
       "4           1        1  \n",
       "5           2        3  \n",
       "6           8        3  \n",
       "7           8        5  \n",
       "8           9        5  "
      ]
     },
     "metadata": {},
     "output_type": "display_data"
    }
   ],
   "source": [
    "hypothesis.info()\n",
    "\n",
    "display(hypothesis.head(10))\n"
   ]
  },
  {
   "cell_type": "code",
   "execution_count": 4,
   "id": "950c061b",
   "metadata": {
    "ExecuteTime": {
     "end_time": "2022-09-18T21:30:50.392059Z",
     "start_time": "2022-09-18T21:30:50.380056Z"
    }
   },
   "outputs": [
    {
     "name": "stdout",
     "output_type": "stream",
     "text": [
      "<class 'pandas.core.frame.DataFrame'>\n",
      "RangeIndex: 1197 entries, 0 to 1196\n",
      "Data columns (total 5 columns):\n",
      " #   Column         Non-Null Count  Dtype \n",
      "---  ------         --------------  ----- \n",
      " 0   transactionId  1197 non-null   int64 \n",
      " 1   visitorId      1197 non-null   int64 \n",
      " 2   date           1197 non-null   object\n",
      " 3   revenue        1197 non-null   int64 \n",
      " 4   group          1197 non-null   object\n",
      "dtypes: int64(3), object(2)\n",
      "memory usage: 46.9+ KB\n",
      "   transactionId   visitorId        date  revenue group\n",
      "0     3667963787  3312258926  2019-08-15     1650     B\n",
      "1     2804400009  3642806036  2019-08-15      730     B\n",
      "2     2961555356  4069496402  2019-08-15      400     A\n",
      "3     3797467345  1196621759  2019-08-15     9759     B\n",
      "4     2282983706  2322279887  2019-08-15     2308     B\n"
     ]
    }
   ],
   "source": [
    "orders.info()\n",
    "print(orders.head())"
   ]
  },
  {
   "cell_type": "code",
   "execution_count": 5,
   "id": "182fde23",
   "metadata": {
    "ExecuteTime": {
     "end_time": "2022-09-18T21:30:50.421976Z",
     "start_time": "2022-09-18T21:30:50.394024Z"
    }
   },
   "outputs": [
    {
     "name": "stdout",
     "output_type": "stream",
     "text": [
      "<class 'pandas.core.frame.DataFrame'>\n",
      "RangeIndex: 62 entries, 0 to 61\n",
      "Data columns (total 3 columns):\n",
      " #   Column    Non-Null Count  Dtype \n",
      "---  ------    --------------  ----- \n",
      " 0   date      62 non-null     object\n",
      " 1   group     62 non-null     object\n",
      " 2   visitors  62 non-null     int64 \n",
      "dtypes: int64(1), object(2)\n",
      "memory usage: 1.6+ KB\n",
      "         date group  visitors\n",
      "0  2019-08-01     A       719\n",
      "1  2019-08-02     A       619\n",
      "2  2019-08-03     A       507\n",
      "3  2019-08-04     A       717\n",
      "4  2019-08-05     A       756\n"
     ]
    }
   ],
   "source": [
    "visitors.info()\n",
    "print(visitors.head())"
   ]
  },
  {
   "cell_type": "markdown",
   "id": "e33b1846",
   "metadata": {},
   "source": [
    "Проверка на пропуски:"
   ]
  },
  {
   "cell_type": "code",
   "execution_count": 6,
   "id": "31c41796",
   "metadata": {
    "ExecuteTime": {
     "end_time": "2022-09-18T21:30:50.437902Z",
     "start_time": "2022-09-18T21:30:50.423987Z"
    }
   },
   "outputs": [
    {
     "data": {
      "text/plain": [
       "Hypothesis    0\n",
       "Reach         0\n",
       "Impact        0\n",
       "Confidence    0\n",
       "Efforts       0\n",
       "dtype: int64"
      ]
     },
     "metadata": {},
     "output_type": "display_data"
    },
    {
     "data": {
      "text/plain": [
       "transactionId    0\n",
       "visitorId        0\n",
       "date             0\n",
       "revenue          0\n",
       "group            0\n",
       "dtype: int64"
      ]
     },
     "metadata": {},
     "output_type": "display_data"
    },
    {
     "data": {
      "text/plain": [
       "date        0\n",
       "group       0\n",
       "visitors    0\n",
       "dtype: int64"
      ]
     },
     "metadata": {},
     "output_type": "display_data"
    }
   ],
   "source": [
    "display(hypothesis.isna().sum())\n",
    "display(orders.isna().sum())\n",
    "display(visitors.isna().sum())"
   ]
  },
  {
   "cell_type": "markdown",
   "id": "af3afbf9",
   "metadata": {},
   "source": [
    "Проверка на наличие дубликатов:"
   ]
  },
  {
   "cell_type": "code",
   "execution_count": 7,
   "id": "8bca9c73",
   "metadata": {
    "ExecuteTime": {
     "end_time": "2022-09-18T21:30:50.452863Z",
     "start_time": "2022-09-18T21:30:50.439897Z"
    }
   },
   "outputs": [
    {
     "data": {
      "text/plain": [
       "0"
      ]
     },
     "execution_count": 7,
     "metadata": {},
     "output_type": "execute_result"
    }
   ],
   "source": [
    "hypothesis.duplicated().sum()"
   ]
  },
  {
   "cell_type": "code",
   "execution_count": 8,
   "id": "3e707672",
   "metadata": {
    "ExecuteTime": {
     "end_time": "2022-09-18T21:30:50.468854Z",
     "start_time": "2022-09-18T21:30:50.455857Z"
    }
   },
   "outputs": [
    {
     "data": {
      "text/plain": [
       "0"
      ]
     },
     "execution_count": 8,
     "metadata": {},
     "output_type": "execute_result"
    }
   ],
   "source": [
    "orders.duplicated().sum()"
   ]
  },
  {
   "cell_type": "code",
   "execution_count": 9,
   "id": "ff3651ac",
   "metadata": {
    "ExecuteTime": {
     "end_time": "2022-09-18T21:30:50.483815Z",
     "start_time": "2022-09-18T21:30:50.470813Z"
    }
   },
   "outputs": [
    {
     "data": {
      "text/plain": [
       "0"
      ]
     },
     "execution_count": 9,
     "metadata": {},
     "output_type": "execute_result"
    }
   ],
   "source": [
    "visitors.duplicated().sum()"
   ]
  },
  {
   "cell_type": "markdown",
   "id": "6279f59b",
   "metadata": {},
   "source": [
    "В датафрейме hypothesis приведем названия колонок к нижнему регистру:"
   ]
  },
  {
   "cell_type": "code",
   "execution_count": 10,
   "id": "8bef6b6e",
   "metadata": {
    "ExecuteTime": {
     "end_time": "2022-09-18T21:30:50.499771Z",
     "start_time": "2022-09-18T21:30:50.486771Z"
    }
   },
   "outputs": [],
   "source": [
    "hypothesis.columns = map(str.lower, hypothesis.columns)"
   ]
  },
  {
   "cell_type": "markdown",
   "id": "bf0b9e2a",
   "metadata": {},
   "source": [
    "Переведем информацию о датах из типа object в тип datetime:"
   ]
  },
  {
   "cell_type": "code",
   "execution_count": 11,
   "id": "d9b63c91",
   "metadata": {
    "ExecuteTime": {
     "end_time": "2022-09-18T21:30:50.530691Z",
     "start_time": "2022-09-18T21:30:50.500734Z"
    }
   },
   "outputs": [],
   "source": [
    "orders['date'] = orders['date'].map(lambda x: dt.datetime.strptime(x, '%Y-%m-%d'))"
   ]
  },
  {
   "cell_type": "code",
   "execution_count": 12,
   "id": "e3428e02",
   "metadata": {
    "ExecuteTime": {
     "end_time": "2022-09-18T21:30:50.546639Z",
     "start_time": "2022-09-18T21:30:50.531685Z"
    }
   },
   "outputs": [],
   "source": [
    "visitors['date'] = visitors['date'].map(lambda x: dt.datetime.strptime(x, '%Y-%m-%d'))"
   ]
  },
  {
   "cell_type": "markdown",
   "id": "db4e1eb7",
   "metadata": {},
   "source": [
    "**В предоставленных данных нет дубликатов и пропусков. В процессе подготовки данных в датафрейме hypothesis названия колонок приведены к нижнему регистру, в остальных двух датафреймах изменен тип данных колонки date на datetime. Данные готовы к анализу**"
   ]
  },
  {
   "cell_type": "markdown",
   "id": "276f9b9d",
   "metadata": {},
   "source": [
    "<div class=\"alert alert-block alert-danger\">\n",
    "<b>Комментарий ревьюера v1:</b>\n",
    "\n",
    "Дополнительно было бы интересно проверить доступные данные:\n",
    "- Проверить не попадают ли у нас пользователи в обе группы и принять решение о том, что с ними делать.\n",
    "- За какой период нам доступны данные (даты начала и окончания теста).\n",
    "- Сколько у нас уникальных групп и количество пользователей в каждой.\n"
   ]
  },
  {
   "cell_type": "markdown",
   "id": "b20e9fac",
   "metadata": {},
   "source": [
    "<div class=\"alert alert-info\"> <b>Комментарий студента:</b> Добавил расчет кол-ва уникальных групп и пользователей, крайних дат периода за который доступны данные </div>"
   ]
  },
  {
   "cell_type": "markdown",
   "id": "abd94073",
   "metadata": {},
   "source": [
    "Посчитаем количество уникальных пользователей и кол-во групп, в которые они объеденены:"
   ]
  },
  {
   "cell_type": "code",
   "execution_count": 13,
   "id": "eaea2273",
   "metadata": {
    "ExecuteTime": {
     "end_time": "2022-09-18T21:30:50.561571Z",
     "start_time": "2022-09-18T21:30:50.548606Z"
    }
   },
   "outputs": [
    {
     "data": {
      "text/plain": [
       "array(['B', 'A'], dtype=object)"
      ]
     },
     "execution_count": 13,
     "metadata": {},
     "output_type": "execute_result"
    }
   ],
   "source": [
    "orders['group'].unique() "
   ]
  },
  {
   "cell_type": "code",
   "execution_count": 14,
   "id": "ee8574b7",
   "metadata": {
    "ExecuteTime": {
     "end_time": "2022-09-18T21:30:50.577528Z",
     "start_time": "2022-09-18T21:30:50.562569Z"
    }
   },
   "outputs": [
    {
     "name": "stdout",
     "output_type": "stream",
     "text": [
      "4256040402    11\n",
      "2458001652    11\n",
      "2378935119     9\n",
      "2038680547     8\n",
      "199603092      5\n",
      "              ..\n",
      "2406916810     1\n",
      "1255412427     1\n",
      "3866069709     1\n",
      "54447517       1\n",
      "3013339133     1\n",
      "Name: visitorId, Length: 1031, dtype: int64\n"
     ]
    }
   ],
   "source": [
    "visitor_unique = orders['visitorId'].value_counts()\n",
    "print(visitor_unique)"
   ]
  },
  {
   "cell_type": "markdown",
   "id": "8716435f",
   "metadata": {},
   "source": [
    "**Итак, 1031 уникальный пользователь сгруппированы в 2 группы**"
   ]
  },
  {
   "cell_type": "code",
   "execution_count": 15,
   "id": "bd933e2d",
   "metadata": {
    "ExecuteTime": {
     "end_time": "2022-09-18T21:30:50.592493Z",
     "start_time": "2022-09-18T21:30:50.578525Z"
    }
   },
   "outputs": [
    {
     "data": {
      "text/plain": [
       "4256040402    7\n",
       "2458001652    5\n",
       "2038680547    5\n",
       "2378935119    4\n",
       "237748145     4\n",
       "             ..\n",
       "834683205     1\n",
       "4227830084    1\n",
       "2947100995    1\n",
       "1658204305    1\n",
       "2147998719    1\n",
       "Name: visitorId, Length: 503, dtype: int64"
      ]
     },
     "metadata": {},
     "output_type": "display_data"
    }
   ],
   "source": [
    "ordersA = orders.loc[orders['group'] == \"A\"]\n",
    "display(ordersA['visitorId'].value_counts())"
   ]
  },
  {
   "cell_type": "code",
   "execution_count": 16,
   "id": "f437e0ba",
   "metadata": {
    "ExecuteTime": {
     "end_time": "2022-09-18T21:30:50.608474Z",
     "start_time": "2022-09-18T21:30:50.593485Z"
    }
   },
   "outputs": [
    {
     "data": {
      "text/plain": [
       "2458001652    6\n",
       "2378935119    5\n",
       "3062433592    4\n",
       "3803269165    4\n",
       "4256040402    4\n",
       "             ..\n",
       "3419266314    1\n",
       "943674707     1\n",
       "1893387602    1\n",
       "2395035985    1\n",
       "1455861274    1\n",
       "Name: visitorId, Length: 586, dtype: int64"
      ]
     },
     "metadata": {},
     "output_type": "display_data"
    }
   ],
   "source": [
    "ordersB = orders.loc[orders['group'] == \"B\"]\n",
    "display(ordersB['visitorId'].value_counts())"
   ]
  },
  {
   "cell_type": "markdown",
   "id": "aa4eac97",
   "metadata": {},
   "source": []
  },
  {
   "cell_type": "markdown",
   "id": "6335ffed",
   "metadata": {},
   "source": [
    "Проверим повторяющихся пользователей в группах:"
   ]
  },
  {
   "cell_type": "code",
   "execution_count": 17,
   "id": "f0499b36",
   "metadata": {
    "ExecuteTime": {
     "end_time": "2022-09-18T21:30:50.623448Z",
     "start_time": "2022-09-18T21:30:50.609443Z"
    }
   },
   "outputs": [
    {
     "name": "stdout",
     "output_type": "stream",
     "text": [
      "      transactionId   visitorId       date  revenue group\n",
      "2        2961555356  4069496402 2019-08-15      400     A\n",
      "20       2904772834   963407295 2019-08-15      300     B\n",
      "23       4252514150   351125977 2019-08-15    15185     B\n",
      "24       1162046357  3234906277 2019-08-15     7555     B\n",
      "26       2223239646   199603092 2019-08-15     3488     A\n",
      "...             ...         ...        ...      ...   ...\n",
      "1182     2682156369  1668030113 2019-08-14     1290     B\n",
      "1183     1458356232   963407295 2019-08-14     4940     A\n",
      "1184     1329499668  2949041841 2019-08-14    10380     B\n",
      "1189     4082620617   393266494 2019-08-14    31550     B\n",
      "1195     1947021204  1614305549 2019-08-14      100     A\n",
      "\n",
      "[181 rows x 5 columns]\n"
     ]
    }
   ],
   "source": [
    "ordersA = orders.loc[orders['group'] == \"A\"]\n",
    "ordersB = orders.loc[orders['group'] == \"B\"]\n",
    "repeated_users = orders.loc[orders['visitorId'].isin(ordersA['visitorId'])& orders['visitorId'].isin(ordersB['visitorId'])]\n",
    "print(repeated_users)\n"
   ]
  },
  {
   "cell_type": "code",
   "execution_count": 18,
   "id": "69fd4e34",
   "metadata": {
    "ExecuteTime": {
     "end_time": "2022-09-18T21:30:50.639397Z",
     "start_time": "2022-09-18T21:30:50.625403Z"
    }
   },
   "outputs": [
    {
     "name": "stdout",
     "output_type": "stream",
     "text": [
      "      transactionId   visitorId       date  revenue group\n",
      "0        3667963787  3312258926 2019-08-15     1650     B\n",
      "1        2804400009  3642806036 2019-08-15      730     B\n",
      "3        3797467345  1196621759 2019-08-15     9759     B\n",
      "4        2282983706  2322279887 2019-08-15     2308     B\n",
      "5         182168103   935554773 2019-08-15     2210     B\n",
      "...             ...         ...        ...      ...   ...\n",
      "1191     3592955527   608641596 2019-08-14    16490     B\n",
      "1192     2662137336  3733762160 2019-08-14     6490     B\n",
      "1193     2203539145   370388673 2019-08-14     3190     A\n",
      "1194     1807773912   573423106 2019-08-14    10550     A\n",
      "1196     3936777065  2108080724 2019-08-15   202740     B\n",
      "\n",
      "[1016 rows x 5 columns]\n"
     ]
    }
   ],
   "source": [
    "orders = orders.loc[~orders['visitorId'].isin(repeated_users['visitorId'])]\n",
    "print(orders)"
   ]
  },
  {
   "cell_type": "markdown",
   "id": "25d391f0",
   "metadata": {},
   "source": [
    "Расчет показал наличие повторений пользователей как в гр А так и в гр В. Данный факт не должен сильно повлиять на конечные результаты анализа, т.к. датафрейм visitors содержит кумулятивные данные. \n"
   ]
  },
  {
   "cell_type": "markdown",
   "id": "8796806c",
   "metadata": {},
   "source": [
    "<div class=\"alert alert-info\"> <b>Комментарий студента:</b> Тем не менее, я принял решение выполнить вариант анализа А/В теста без учета \"повторяющися\" пользователей, чтобы проверить как сильно изменяться данные с учетом \"повторяющихся\" пользователей от варианта без них </div>"
   ]
  },
  {
   "cell_type": "markdown",
   "id": "30125ff6",
   "metadata": {},
   "source": [
    "Посмотрим период за который предоставлены данные:"
   ]
  },
  {
   "cell_type": "code",
   "execution_count": 19,
   "id": "0b1a90e2",
   "metadata": {
    "ExecuteTime": {
     "end_time": "2022-09-18T21:30:51.211164Z",
     "start_time": "2022-09-18T21:30:50.640363Z"
    }
   },
   "outputs": [
    {
     "name": "stderr",
     "output_type": "stream",
     "text": [
      "/tmp/ipykernel_48/4197849394.py:1: FutureWarning: Treating datetime data as categorical rather than numeric in `.describe` is deprecated and will be removed in a future version of pandas. Specify `datetime_is_numeric=True` to silence this warning and adopt the future behavior now.\n",
      "  orders['date'].describe()\n"
     ]
    },
    {
     "data": {
      "text/plain": [
       "count                    1016\n",
       "unique                     31\n",
       "top       2019-08-05 00:00:00\n",
       "freq                       43\n",
       "first     2019-08-01 00:00:00\n",
       "last      2019-08-31 00:00:00\n",
       "Name: date, dtype: object"
      ]
     },
     "execution_count": 19,
     "metadata": {},
     "output_type": "execute_result"
    }
   ],
   "source": [
    "orders['date'].describe()"
   ]
  },
  {
   "cell_type": "code",
   "execution_count": 20,
   "id": "1a277a9c",
   "metadata": {
    "ExecuteTime": {
     "end_time": "2022-09-18T21:30:51.242109Z",
     "start_time": "2022-09-18T21:30:51.212161Z"
    }
   },
   "outputs": [
    {
     "name": "stderr",
     "output_type": "stream",
     "text": [
      "/tmp/ipykernel_48/511156166.py:1: FutureWarning: Treating datetime data as categorical rather than numeric in `.describe` is deprecated and will be removed in a future version of pandas. Specify `datetime_is_numeric=True` to silence this warning and adopt the future behavior now.\n",
      "  visitors['date'].describe()\n"
     ]
    },
    {
     "data": {
      "text/plain": [
       "count                      62\n",
       "unique                     31\n",
       "top       2019-08-27 00:00:00\n",
       "freq                        2\n",
       "first     2019-08-01 00:00:00\n",
       "last      2019-08-31 00:00:00\n",
       "Name: date, dtype: object"
      ]
     },
     "execution_count": 20,
     "metadata": {},
     "output_type": "execute_result"
    }
   ],
   "source": [
    "visitors['date'].describe()"
   ]
  },
  {
   "cell_type": "markdown",
   "id": "2c95e425",
   "metadata": {
    "ExecuteTime": {
     "end_time": "2022-09-18T13:14:06.204952Z",
     "start_time": "2022-09-18T13:14:06.193982Z"
    }
   },
   "source": [
    "**И в датасете orders и в датасете visitors нам доступны данные с 1 по 31 августа 2019 г.**"
   ]
  },
  {
   "cell_type": "markdown",
   "id": "2fafbb46",
   "metadata": {
    "ExecuteTime": {
     "end_time": "2022-09-18T17:46:35.516028Z",
     "start_time": "2022-09-18T17:46:35.516028Z"
    }
   },
   "source": [
    "<div class=\"alert alert-block alert-success\">\n",
    "<b>Комментарий ревьюера v2:</b>\n",
    "    \n",
    "Здорово, что расширил базовую проверку данных 😇  \n",
    "\n",
    "В целом ситуация с пользователями в двух группах неприятная и на реальном проекте стоит узнать у того кто собирал данные, что пошло не так. В данном случае пользователей не так много поэтому их также можно оставить как есть."
   ]
  },
  {
   "cell_type": "markdown",
   "id": "1a909afa",
   "metadata": {},
   "source": [
    "# Часть 1. Приоритизация гипотез."
   ]
  },
  {
   "cell_type": "markdown",
   "id": "06066401",
   "metadata": {},
   "source": [
    "## \tПрименим фреймворк ICE для приоритизации гипотез. Отсортируем их по убыванию приоритета."
   ]
  },
  {
   "cell_type": "markdown",
   "id": "35e3060d",
   "metadata": {},
   "source": [
    "Просмотр текста гипотез:"
   ]
  },
  {
   "cell_type": "code",
   "execution_count": 21,
   "id": "1c4f07af",
   "metadata": {
    "ExecuteTime": {
     "end_time": "2022-09-18T21:30:51.258075Z",
     "start_time": "2022-09-18T21:30:51.244081Z"
    }
   },
   "outputs": [
    {
     "data": {
      "text/html": [
       "<div>\n",
       "<style scoped>\n",
       "    .dataframe tbody tr th:only-of-type {\n",
       "        vertical-align: middle;\n",
       "    }\n",
       "\n",
       "    .dataframe tbody tr th {\n",
       "        vertical-align: top;\n",
       "    }\n",
       "\n",
       "    .dataframe thead th {\n",
       "        text-align: right;\n",
       "    }\n",
       "</style>\n",
       "<table border=\"1\" class=\"dataframe\">\n",
       "  <thead>\n",
       "    <tr style=\"text-align: right;\">\n",
       "      <th></th>\n",
       "      <th>hypothesis</th>\n",
       "      <th>reach</th>\n",
       "      <th>impact</th>\n",
       "      <th>confidence</th>\n",
       "      <th>efforts</th>\n",
       "    </tr>\n",
       "  </thead>\n",
       "  <tbody>\n",
       "    <tr>\n",
       "      <th>0</th>\n",
       "      <td>Добавить два новых канала привлечения трафика, что позволит привлекать на 30% больше пользователей</td>\n",
       "      <td>3</td>\n",
       "      <td>10</td>\n",
       "      <td>8</td>\n",
       "      <td>6</td>\n",
       "    </tr>\n",
       "    <tr>\n",
       "      <th>1</th>\n",
       "      <td>Запустить собственную службу доставки, что сократит срок доставки заказов</td>\n",
       "      <td>2</td>\n",
       "      <td>5</td>\n",
       "      <td>4</td>\n",
       "      <td>10</td>\n",
       "    </tr>\n",
       "    <tr>\n",
       "      <th>2</th>\n",
       "      <td>Добавить блоки рекомендаций товаров на сайт интернет магазина, чтобы повысить конверсию и средний чек заказа</td>\n",
       "      <td>8</td>\n",
       "      <td>3</td>\n",
       "      <td>7</td>\n",
       "      <td>3</td>\n",
       "    </tr>\n",
       "    <tr>\n",
       "      <th>3</th>\n",
       "      <td>Изменить структура категорий, что увеличит конверсию, т.к. пользователи быстрее найдут нужный товар</td>\n",
       "      <td>8</td>\n",
       "      <td>3</td>\n",
       "      <td>3</td>\n",
       "      <td>8</td>\n",
       "    </tr>\n",
       "    <tr>\n",
       "      <th>4</th>\n",
       "      <td>Изменить цвет фона главной страницы, чтобы увеличить вовлеченность пользователей</td>\n",
       "      <td>3</td>\n",
       "      <td>1</td>\n",
       "      <td>1</td>\n",
       "      <td>1</td>\n",
       "    </tr>\n",
       "    <tr>\n",
       "      <th>5</th>\n",
       "      <td>Добавить страницу отзывов клиентов о магазине, что позволит увеличить количество заказов</td>\n",
       "      <td>3</td>\n",
       "      <td>2</td>\n",
       "      <td>2</td>\n",
       "      <td>3</td>\n",
       "    </tr>\n",
       "    <tr>\n",
       "      <th>6</th>\n",
       "      <td>Показать на главной странице баннеры с актуальными акциями и распродажами, чтобы увеличить конверсию</td>\n",
       "      <td>5</td>\n",
       "      <td>3</td>\n",
       "      <td>8</td>\n",
       "      <td>3</td>\n",
       "    </tr>\n",
       "    <tr>\n",
       "      <th>7</th>\n",
       "      <td>Добавить форму подписки на все основные страницы, чтобы собрать базу клиентов для email-рассылок</td>\n",
       "      <td>10</td>\n",
       "      <td>7</td>\n",
       "      <td>8</td>\n",
       "      <td>5</td>\n",
       "    </tr>\n",
       "    <tr>\n",
       "      <th>8</th>\n",
       "      <td>Запустить акцию, дающую скидку на товар в день рождения</td>\n",
       "      <td>1</td>\n",
       "      <td>9</td>\n",
       "      <td>9</td>\n",
       "      <td>5</td>\n",
       "    </tr>\n",
       "  </tbody>\n",
       "</table>\n",
       "</div>"
      ],
      "text/plain": [
       "                                                                                                     hypothesis  \\\n",
       "0            Добавить два новых канала привлечения трафика, что позволит привлекать на 30% больше пользователей   \n",
       "1                                     Запустить собственную службу доставки, что сократит срок доставки заказов   \n",
       "2  Добавить блоки рекомендаций товаров на сайт интернет магазина, чтобы повысить конверсию и средний чек заказа   \n",
       "3           Изменить структура категорий, что увеличит конверсию, т.к. пользователи быстрее найдут нужный товар   \n",
       "4                              Изменить цвет фона главной страницы, чтобы увеличить вовлеченность пользователей   \n",
       "5                      Добавить страницу отзывов клиентов о магазине, что позволит увеличить количество заказов   \n",
       "6          Показать на главной странице баннеры с актуальными акциями и распродажами, чтобы увеличить конверсию   \n",
       "7              Добавить форму подписки на все основные страницы, чтобы собрать базу клиентов для email-рассылок   \n",
       "8                                                       Запустить акцию, дающую скидку на товар в день рождения   \n",
       "\n",
       "   reach  impact  confidence  efforts  \n",
       "0      3      10           8        6  \n",
       "1      2       5           4       10  \n",
       "2      8       3           7        3  \n",
       "3      8       3           3        8  \n",
       "4      3       1           1        1  \n",
       "5      3       2           2        3  \n",
       "6      5       3           8        3  \n",
       "7     10       7           8        5  \n",
       "8      1       9           9        5  "
      ]
     },
     "metadata": {},
     "output_type": "display_data"
    }
   ],
   "source": [
    "\n",
    "pd.set_option('display.max_colwidth', 500)\n",
    "display(hypothesis.head(10))"
   ]
  },
  {
   "cell_type": "code",
   "execution_count": null,
   "id": "d46a144f",
   "metadata": {
    "ExecuteTime": {
     "end_time": "2022-09-14T08:48:23.135971Z",
     "start_time": "2022-09-14T08:48:23.122010Z"
    }
   },
   "outputs": [],
   "source": []
  },
  {
   "cell_type": "code",
   "execution_count": 22,
   "id": "34136bba",
   "metadata": {
    "ExecuteTime": {
     "end_time": "2022-09-18T21:30:51.272996Z",
     "start_time": "2022-09-18T21:30:51.259036Z"
    }
   },
   "outputs": [
    {
     "data": {
      "text/html": [
       "<div>\n",
       "<style scoped>\n",
       "    .dataframe tbody tr th:only-of-type {\n",
       "        vertical-align: middle;\n",
       "    }\n",
       "\n",
       "    .dataframe tbody tr th {\n",
       "        vertical-align: top;\n",
       "    }\n",
       "\n",
       "    .dataframe thead th {\n",
       "        text-align: right;\n",
       "    }\n",
       "</style>\n",
       "<table border=\"1\" class=\"dataframe\">\n",
       "  <thead>\n",
       "    <tr style=\"text-align: right;\">\n",
       "      <th></th>\n",
       "      <th>hypothesis</th>\n",
       "      <th>reach</th>\n",
       "      <th>impact</th>\n",
       "      <th>confidence</th>\n",
       "      <th>efforts</th>\n",
       "      <th>ICE</th>\n",
       "    </tr>\n",
       "  </thead>\n",
       "  <tbody>\n",
       "    <tr>\n",
       "      <th>8</th>\n",
       "      <td>Запустить акцию, дающую скидку на товар в день рождения</td>\n",
       "      <td>1</td>\n",
       "      <td>9</td>\n",
       "      <td>9</td>\n",
       "      <td>5</td>\n",
       "      <td>16.20</td>\n",
       "    </tr>\n",
       "    <tr>\n",
       "      <th>0</th>\n",
       "      <td>Добавить два новых канала привлечения трафика, что позволит привлекать на 30% больше пользователей</td>\n",
       "      <td>3</td>\n",
       "      <td>10</td>\n",
       "      <td>8</td>\n",
       "      <td>6</td>\n",
       "      <td>13.33</td>\n",
       "    </tr>\n",
       "    <tr>\n",
       "      <th>7</th>\n",
       "      <td>Добавить форму подписки на все основные страницы, чтобы собрать базу клиентов для email-рассылок</td>\n",
       "      <td>10</td>\n",
       "      <td>7</td>\n",
       "      <td>8</td>\n",
       "      <td>5</td>\n",
       "      <td>11.20</td>\n",
       "    </tr>\n",
       "    <tr>\n",
       "      <th>6</th>\n",
       "      <td>Показать на главной странице баннеры с актуальными акциями и распродажами, чтобы увеличить конверсию</td>\n",
       "      <td>5</td>\n",
       "      <td>3</td>\n",
       "      <td>8</td>\n",
       "      <td>3</td>\n",
       "      <td>8.00</td>\n",
       "    </tr>\n",
       "    <tr>\n",
       "      <th>2</th>\n",
       "      <td>Добавить блоки рекомендаций товаров на сайт интернет магазина, чтобы повысить конверсию и средний чек заказа</td>\n",
       "      <td>8</td>\n",
       "      <td>3</td>\n",
       "      <td>7</td>\n",
       "      <td>3</td>\n",
       "      <td>7.00</td>\n",
       "    </tr>\n",
       "    <tr>\n",
       "      <th>1</th>\n",
       "      <td>Запустить собственную службу доставки, что сократит срок доставки заказов</td>\n",
       "      <td>2</td>\n",
       "      <td>5</td>\n",
       "      <td>4</td>\n",
       "      <td>10</td>\n",
       "      <td>2.00</td>\n",
       "    </tr>\n",
       "    <tr>\n",
       "      <th>5</th>\n",
       "      <td>Добавить страницу отзывов клиентов о магазине, что позволит увеличить количество заказов</td>\n",
       "      <td>3</td>\n",
       "      <td>2</td>\n",
       "      <td>2</td>\n",
       "      <td>3</td>\n",
       "      <td>1.33</td>\n",
       "    </tr>\n",
       "    <tr>\n",
       "      <th>3</th>\n",
       "      <td>Изменить структура категорий, что увеличит конверсию, т.к. пользователи быстрее найдут нужный товар</td>\n",
       "      <td>8</td>\n",
       "      <td>3</td>\n",
       "      <td>3</td>\n",
       "      <td>8</td>\n",
       "      <td>1.12</td>\n",
       "    </tr>\n",
       "    <tr>\n",
       "      <th>4</th>\n",
       "      <td>Изменить цвет фона главной страницы, чтобы увеличить вовлеченность пользователей</td>\n",
       "      <td>3</td>\n",
       "      <td>1</td>\n",
       "      <td>1</td>\n",
       "      <td>1</td>\n",
       "      <td>1.00</td>\n",
       "    </tr>\n",
       "  </tbody>\n",
       "</table>\n",
       "</div>"
      ],
      "text/plain": [
       "                                                                                                     hypothesis  \\\n",
       "8                                                       Запустить акцию, дающую скидку на товар в день рождения   \n",
       "0            Добавить два новых канала привлечения трафика, что позволит привлекать на 30% больше пользователей   \n",
       "7              Добавить форму подписки на все основные страницы, чтобы собрать базу клиентов для email-рассылок   \n",
       "6          Показать на главной странице баннеры с актуальными акциями и распродажами, чтобы увеличить конверсию   \n",
       "2  Добавить блоки рекомендаций товаров на сайт интернет магазина, чтобы повысить конверсию и средний чек заказа   \n",
       "1                                     Запустить собственную службу доставки, что сократит срок доставки заказов   \n",
       "5                      Добавить страницу отзывов клиентов о магазине, что позволит увеличить количество заказов   \n",
       "3           Изменить структура категорий, что увеличит конверсию, т.к. пользователи быстрее найдут нужный товар   \n",
       "4                              Изменить цвет фона главной страницы, чтобы увеличить вовлеченность пользователей   \n",
       "\n",
       "   reach  impact  confidence  efforts   ICE  \n",
       "8      1       9           9        5 16.20  \n",
       "0      3      10           8        6 13.33  \n",
       "7     10       7           8        5 11.20  \n",
       "6      5       3           8        3  8.00  \n",
       "2      8       3           7        3  7.00  \n",
       "1      2       5           4       10  2.00  \n",
       "5      3       2           2        3  1.33  \n",
       "3      8       3           3        8  1.12  \n",
       "4      3       1           1        1  1.00  "
      ]
     },
     "execution_count": 22,
     "metadata": {},
     "output_type": "execute_result"
    }
   ],
   "source": [
    "hypothesis['ICE'] = (hypothesis['impact'] * hypothesis['confidence']) / hypothesis['efforts']\n",
    "hypothesis.sort_values(by='ICE', ascending=False)"
   ]
  },
  {
   "cell_type": "markdown",
   "id": "5a36fc12",
   "metadata": {},
   "source": [
    "## \tПримените фреймворк RICE для приоритизации гипотез. Отсортируйте их по убыванию приоритета.\n"
   ]
  },
  {
   "cell_type": "code",
   "execution_count": 23,
   "id": "eee142d6",
   "metadata": {
    "ExecuteTime": {
     "end_time": "2022-09-18T21:30:51.288954Z",
     "start_time": "2022-09-18T21:30:51.274992Z"
    },
    "scrolled": true
   },
   "outputs": [
    {
     "data": {
      "text/html": [
       "<div>\n",
       "<style scoped>\n",
       "    .dataframe tbody tr th:only-of-type {\n",
       "        vertical-align: middle;\n",
       "    }\n",
       "\n",
       "    .dataframe tbody tr th {\n",
       "        vertical-align: top;\n",
       "    }\n",
       "\n",
       "    .dataframe thead th {\n",
       "        text-align: right;\n",
       "    }\n",
       "</style>\n",
       "<table border=\"1\" class=\"dataframe\">\n",
       "  <thead>\n",
       "    <tr style=\"text-align: right;\">\n",
       "      <th></th>\n",
       "      <th>hypothesis</th>\n",
       "      <th>reach</th>\n",
       "      <th>impact</th>\n",
       "      <th>confidence</th>\n",
       "      <th>efforts</th>\n",
       "      <th>ICE</th>\n",
       "      <th>RICE</th>\n",
       "    </tr>\n",
       "  </thead>\n",
       "  <tbody>\n",
       "    <tr>\n",
       "      <th>7</th>\n",
       "      <td>Добавить форму подписки на все основные страницы, чтобы собрать базу клиентов для email-рассылок</td>\n",
       "      <td>10</td>\n",
       "      <td>7</td>\n",
       "      <td>8</td>\n",
       "      <td>5</td>\n",
       "      <td>11.20</td>\n",
       "      <td>112.00</td>\n",
       "    </tr>\n",
       "    <tr>\n",
       "      <th>2</th>\n",
       "      <td>Добавить блоки рекомендаций товаров на сайт интернет магазина, чтобы повысить конверсию и средний чек заказа</td>\n",
       "      <td>8</td>\n",
       "      <td>3</td>\n",
       "      <td>7</td>\n",
       "      <td>3</td>\n",
       "      <td>7.00</td>\n",
       "      <td>56.00</td>\n",
       "    </tr>\n",
       "    <tr>\n",
       "      <th>0</th>\n",
       "      <td>Добавить два новых канала привлечения трафика, что позволит привлекать на 30% больше пользователей</td>\n",
       "      <td>3</td>\n",
       "      <td>10</td>\n",
       "      <td>8</td>\n",
       "      <td>6</td>\n",
       "      <td>13.33</td>\n",
       "      <td>40.00</td>\n",
       "    </tr>\n",
       "    <tr>\n",
       "      <th>6</th>\n",
       "      <td>Показать на главной странице баннеры с актуальными акциями и распродажами, чтобы увеличить конверсию</td>\n",
       "      <td>5</td>\n",
       "      <td>3</td>\n",
       "      <td>8</td>\n",
       "      <td>3</td>\n",
       "      <td>8.00</td>\n",
       "      <td>40.00</td>\n",
       "    </tr>\n",
       "    <tr>\n",
       "      <th>8</th>\n",
       "      <td>Запустить акцию, дающую скидку на товар в день рождения</td>\n",
       "      <td>1</td>\n",
       "      <td>9</td>\n",
       "      <td>9</td>\n",
       "      <td>5</td>\n",
       "      <td>16.20</td>\n",
       "      <td>16.20</td>\n",
       "    </tr>\n",
       "    <tr>\n",
       "      <th>3</th>\n",
       "      <td>Изменить структура категорий, что увеличит конверсию, т.к. пользователи быстрее найдут нужный товар</td>\n",
       "      <td>8</td>\n",
       "      <td>3</td>\n",
       "      <td>3</td>\n",
       "      <td>8</td>\n",
       "      <td>1.12</td>\n",
       "      <td>9.00</td>\n",
       "    </tr>\n",
       "    <tr>\n",
       "      <th>1</th>\n",
       "      <td>Запустить собственную службу доставки, что сократит срок доставки заказов</td>\n",
       "      <td>2</td>\n",
       "      <td>5</td>\n",
       "      <td>4</td>\n",
       "      <td>10</td>\n",
       "      <td>2.00</td>\n",
       "      <td>4.00</td>\n",
       "    </tr>\n",
       "    <tr>\n",
       "      <th>5</th>\n",
       "      <td>Добавить страницу отзывов клиентов о магазине, что позволит увеличить количество заказов</td>\n",
       "      <td>3</td>\n",
       "      <td>2</td>\n",
       "      <td>2</td>\n",
       "      <td>3</td>\n",
       "      <td>1.33</td>\n",
       "      <td>4.00</td>\n",
       "    </tr>\n",
       "    <tr>\n",
       "      <th>4</th>\n",
       "      <td>Изменить цвет фона главной страницы, чтобы увеличить вовлеченность пользователей</td>\n",
       "      <td>3</td>\n",
       "      <td>1</td>\n",
       "      <td>1</td>\n",
       "      <td>1</td>\n",
       "      <td>1.00</td>\n",
       "      <td>3.00</td>\n",
       "    </tr>\n",
       "  </tbody>\n",
       "</table>\n",
       "</div>"
      ],
      "text/plain": [
       "                                                                                                     hypothesis  \\\n",
       "7              Добавить форму подписки на все основные страницы, чтобы собрать базу клиентов для email-рассылок   \n",
       "2  Добавить блоки рекомендаций товаров на сайт интернет магазина, чтобы повысить конверсию и средний чек заказа   \n",
       "0            Добавить два новых канала привлечения трафика, что позволит привлекать на 30% больше пользователей   \n",
       "6          Показать на главной странице баннеры с актуальными акциями и распродажами, чтобы увеличить конверсию   \n",
       "8                                                       Запустить акцию, дающую скидку на товар в день рождения   \n",
       "3           Изменить структура категорий, что увеличит конверсию, т.к. пользователи быстрее найдут нужный товар   \n",
       "1                                     Запустить собственную службу доставки, что сократит срок доставки заказов   \n",
       "5                      Добавить страницу отзывов клиентов о магазине, что позволит увеличить количество заказов   \n",
       "4                              Изменить цвет фона главной страницы, чтобы увеличить вовлеченность пользователей   \n",
       "\n",
       "   reach  impact  confidence  efforts   ICE   RICE  \n",
       "7     10       7           8        5 11.20 112.00  \n",
       "2      8       3           7        3  7.00  56.00  \n",
       "0      3      10           8        6 13.33  40.00  \n",
       "6      5       3           8        3  8.00  40.00  \n",
       "8      1       9           9        5 16.20  16.20  \n",
       "3      8       3           3        8  1.12   9.00  \n",
       "1      2       5           4       10  2.00   4.00  \n",
       "5      3       2           2        3  1.33   4.00  \n",
       "4      3       1           1        1  1.00   3.00  "
      ]
     },
     "execution_count": 23,
     "metadata": {},
     "output_type": "execute_result"
    }
   ],
   "source": [
    "hypothesis['RICE'] = hypothesis['impact'] * hypothesis['confidence'] * hypothesis['reach'] / hypothesis['efforts']\n",
    "hypothesis.sort_values(by='RICE', ascending=False)"
   ]
  },
  {
   "cell_type": "markdown",
   "id": "acfdd6d6",
   "metadata": {},
   "source": [
    "## \tУкажите, как изменилась приоритизация гипотез при применении RICE вместо ICE. Объясните, почему так произошло."
   ]
  },
  {
   "cell_type": "code",
   "execution_count": 24,
   "id": "098b20e4",
   "metadata": {
    "ExecuteTime": {
     "end_time": "2022-09-18T21:30:51.303958Z",
     "start_time": "2022-09-18T21:30:51.289952Z"
    }
   },
   "outputs": [
    {
     "data": {
      "text/html": [
       "<div>\n",
       "<style scoped>\n",
       "    .dataframe tbody tr th:only-of-type {\n",
       "        vertical-align: middle;\n",
       "    }\n",
       "\n",
       "    .dataframe tbody tr th {\n",
       "        vertical-align: top;\n",
       "    }\n",
       "\n",
       "    .dataframe thead th {\n",
       "        text-align: right;\n",
       "    }\n",
       "</style>\n",
       "<table border=\"1\" class=\"dataframe\">\n",
       "  <thead>\n",
       "    <tr style=\"text-align: right;\">\n",
       "      <th></th>\n",
       "      <th>hypothesis</th>\n",
       "      <th>ICE</th>\n",
       "      <th>RICE</th>\n",
       "      <th>reach</th>\n",
       "    </tr>\n",
       "  </thead>\n",
       "  <tbody>\n",
       "    <tr>\n",
       "      <th>0</th>\n",
       "      <td>Добавить два новых канала привлечения трафика, что позволит привлекать на 30% больше пользователей</td>\n",
       "      <td>13.33</td>\n",
       "      <td>40.00</td>\n",
       "      <td>3</td>\n",
       "    </tr>\n",
       "    <tr>\n",
       "      <th>1</th>\n",
       "      <td>Запустить собственную службу доставки, что сократит срок доставки заказов</td>\n",
       "      <td>2.00</td>\n",
       "      <td>4.00</td>\n",
       "      <td>2</td>\n",
       "    </tr>\n",
       "    <tr>\n",
       "      <th>2</th>\n",
       "      <td>Добавить блоки рекомендаций товаров на сайт интернет магазина, чтобы повысить конверсию и средний чек заказа</td>\n",
       "      <td>7.00</td>\n",
       "      <td>56.00</td>\n",
       "      <td>8</td>\n",
       "    </tr>\n",
       "    <tr>\n",
       "      <th>3</th>\n",
       "      <td>Изменить структура категорий, что увеличит конверсию, т.к. пользователи быстрее найдут нужный товар</td>\n",
       "      <td>1.12</td>\n",
       "      <td>9.00</td>\n",
       "      <td>8</td>\n",
       "    </tr>\n",
       "    <tr>\n",
       "      <th>4</th>\n",
       "      <td>Изменить цвет фона главной страницы, чтобы увеличить вовлеченность пользователей</td>\n",
       "      <td>1.00</td>\n",
       "      <td>3.00</td>\n",
       "      <td>3</td>\n",
       "    </tr>\n",
       "    <tr>\n",
       "      <th>5</th>\n",
       "      <td>Добавить страницу отзывов клиентов о магазине, что позволит увеличить количество заказов</td>\n",
       "      <td>1.33</td>\n",
       "      <td>4.00</td>\n",
       "      <td>3</td>\n",
       "    </tr>\n",
       "    <tr>\n",
       "      <th>6</th>\n",
       "      <td>Показать на главной странице баннеры с актуальными акциями и распродажами, чтобы увеличить конверсию</td>\n",
       "      <td>8.00</td>\n",
       "      <td>40.00</td>\n",
       "      <td>5</td>\n",
       "    </tr>\n",
       "    <tr>\n",
       "      <th>7</th>\n",
       "      <td>Добавить форму подписки на все основные страницы, чтобы собрать базу клиентов для email-рассылок</td>\n",
       "      <td>11.20</td>\n",
       "      <td>112.00</td>\n",
       "      <td>10</td>\n",
       "    </tr>\n",
       "    <tr>\n",
       "      <th>8</th>\n",
       "      <td>Запустить акцию, дающую скидку на товар в день рождения</td>\n",
       "      <td>16.20</td>\n",
       "      <td>16.20</td>\n",
       "      <td>1</td>\n",
       "    </tr>\n",
       "  </tbody>\n",
       "</table>\n",
       "</div>"
      ],
      "text/plain": [
       "                                                                                                     hypothesis  \\\n",
       "0            Добавить два новых канала привлечения трафика, что позволит привлекать на 30% больше пользователей   \n",
       "1                                     Запустить собственную службу доставки, что сократит срок доставки заказов   \n",
       "2  Добавить блоки рекомендаций товаров на сайт интернет магазина, чтобы повысить конверсию и средний чек заказа   \n",
       "3           Изменить структура категорий, что увеличит конверсию, т.к. пользователи быстрее найдут нужный товар   \n",
       "4                              Изменить цвет фона главной страницы, чтобы увеличить вовлеченность пользователей   \n",
       "5                      Добавить страницу отзывов клиентов о магазине, что позволит увеличить количество заказов   \n",
       "6          Показать на главной странице баннеры с актуальными акциями и распродажами, чтобы увеличить конверсию   \n",
       "7              Добавить форму подписки на все основные страницы, чтобы собрать базу клиентов для email-рассылок   \n",
       "8                                                       Запустить акцию, дающую скидку на товар в день рождения   \n",
       "\n",
       "    ICE   RICE  reach  \n",
       "0 13.33  40.00      3  \n",
       "1  2.00   4.00      2  \n",
       "2  7.00  56.00      8  \n",
       "3  1.12   9.00      8  \n",
       "4  1.00   3.00      3  \n",
       "5  1.33   4.00      3  \n",
       "6  8.00  40.00      5  \n",
       "7 11.20 112.00     10  \n",
       "8 16.20  16.20      1  "
      ]
     },
     "execution_count": 24,
     "metadata": {},
     "output_type": "execute_result"
    }
   ],
   "source": [
    "hypothesis[['hypothesis', 'ICE', 'RICE', 'reach']]"
   ]
  },
  {
   "cell_type": "code",
   "execution_count": 25,
   "id": "ffa495be",
   "metadata": {
    "ExecuteTime": {
     "end_time": "2022-09-18T21:30:51.319872Z",
     "start_time": "2022-09-18T21:30:51.305913Z"
    }
   },
   "outputs": [
    {
     "data": {
      "text/html": [
       "<div>\n",
       "<style scoped>\n",
       "    .dataframe tbody tr th:only-of-type {\n",
       "        vertical-align: middle;\n",
       "    }\n",
       "\n",
       "    .dataframe tbody tr th {\n",
       "        vertical-align: top;\n",
       "    }\n",
       "\n",
       "    .dataframe thead th {\n",
       "        text-align: right;\n",
       "    }\n",
       "</style>\n",
       "<table border=\"1\" class=\"dataframe\">\n",
       "  <thead>\n",
       "    <tr style=\"text-align: right;\">\n",
       "      <th></th>\n",
       "      <th>hypothesis</th>\n",
       "      <th>reach</th>\n",
       "      <th>impact</th>\n",
       "      <th>confidence</th>\n",
       "      <th>efforts</th>\n",
       "      <th>ICE</th>\n",
       "      <th>RICE</th>\n",
       "    </tr>\n",
       "  </thead>\n",
       "  <tbody>\n",
       "    <tr>\n",
       "      <th>7</th>\n",
       "      <td>Добавить форму подписки на все основные страницы, чтобы собрать базу клиентов для email-рассылок</td>\n",
       "      <td>10</td>\n",
       "      <td>7</td>\n",
       "      <td>8</td>\n",
       "      <td>5</td>\n",
       "      <td>11.20</td>\n",
       "      <td>112.00</td>\n",
       "    </tr>\n",
       "    <tr>\n",
       "      <th>2</th>\n",
       "      <td>Добавить блоки рекомендаций товаров на сайт интернет магазина, чтобы повысить конверсию и средний чек заказа</td>\n",
       "      <td>8</td>\n",
       "      <td>3</td>\n",
       "      <td>7</td>\n",
       "      <td>3</td>\n",
       "      <td>7.00</td>\n",
       "      <td>56.00</td>\n",
       "    </tr>\n",
       "    <tr>\n",
       "      <th>0</th>\n",
       "      <td>Добавить два новых канала привлечения трафика, что позволит привлекать на 30% больше пользователей</td>\n",
       "      <td>3</td>\n",
       "      <td>10</td>\n",
       "      <td>8</td>\n",
       "      <td>6</td>\n",
       "      <td>13.33</td>\n",
       "      <td>40.00</td>\n",
       "    </tr>\n",
       "    <tr>\n",
       "      <th>6</th>\n",
       "      <td>Показать на главной странице баннеры с актуальными акциями и распродажами, чтобы увеличить конверсию</td>\n",
       "      <td>5</td>\n",
       "      <td>3</td>\n",
       "      <td>8</td>\n",
       "      <td>3</td>\n",
       "      <td>8.00</td>\n",
       "      <td>40.00</td>\n",
       "    </tr>\n",
       "    <tr>\n",
       "      <th>8</th>\n",
       "      <td>Запустить акцию, дающую скидку на товар в день рождения</td>\n",
       "      <td>1</td>\n",
       "      <td>9</td>\n",
       "      <td>9</td>\n",
       "      <td>5</td>\n",
       "      <td>16.20</td>\n",
       "      <td>16.20</td>\n",
       "    </tr>\n",
       "    <tr>\n",
       "      <th>3</th>\n",
       "      <td>Изменить структура категорий, что увеличит конверсию, т.к. пользователи быстрее найдут нужный товар</td>\n",
       "      <td>8</td>\n",
       "      <td>3</td>\n",
       "      <td>3</td>\n",
       "      <td>8</td>\n",
       "      <td>1.12</td>\n",
       "      <td>9.00</td>\n",
       "    </tr>\n",
       "    <tr>\n",
       "      <th>1</th>\n",
       "      <td>Запустить собственную службу доставки, что сократит срок доставки заказов</td>\n",
       "      <td>2</td>\n",
       "      <td>5</td>\n",
       "      <td>4</td>\n",
       "      <td>10</td>\n",
       "      <td>2.00</td>\n",
       "      <td>4.00</td>\n",
       "    </tr>\n",
       "    <tr>\n",
       "      <th>5</th>\n",
       "      <td>Добавить страницу отзывов клиентов о магазине, что позволит увеличить количество заказов</td>\n",
       "      <td>3</td>\n",
       "      <td>2</td>\n",
       "      <td>2</td>\n",
       "      <td>3</td>\n",
       "      <td>1.33</td>\n",
       "      <td>4.00</td>\n",
       "    </tr>\n",
       "    <tr>\n",
       "      <th>4</th>\n",
       "      <td>Изменить цвет фона главной страницы, чтобы увеличить вовлеченность пользователей</td>\n",
       "      <td>3</td>\n",
       "      <td>1</td>\n",
       "      <td>1</td>\n",
       "      <td>1</td>\n",
       "      <td>1.00</td>\n",
       "      <td>3.00</td>\n",
       "    </tr>\n",
       "  </tbody>\n",
       "</table>\n",
       "</div>"
      ],
      "text/plain": [
       "                                                                                                     hypothesis  \\\n",
       "7              Добавить форму подписки на все основные страницы, чтобы собрать базу клиентов для email-рассылок   \n",
       "2  Добавить блоки рекомендаций товаров на сайт интернет магазина, чтобы повысить конверсию и средний чек заказа   \n",
       "0            Добавить два новых канала привлечения трафика, что позволит привлекать на 30% больше пользователей   \n",
       "6          Показать на главной странице баннеры с актуальными акциями и распродажами, чтобы увеличить конверсию   \n",
       "8                                                       Запустить акцию, дающую скидку на товар в день рождения   \n",
       "3           Изменить структура категорий, что увеличит конверсию, т.к. пользователи быстрее найдут нужный товар   \n",
       "1                                     Запустить собственную службу доставки, что сократит срок доставки заказов   \n",
       "5                      Добавить страницу отзывов клиентов о магазине, что позволит увеличить количество заказов   \n",
       "4                              Изменить цвет фона главной страницы, чтобы увеличить вовлеченность пользователей   \n",
       "\n",
       "   reach  impact  confidence  efforts   ICE   RICE  \n",
       "7     10       7           8        5 11.20 112.00  \n",
       "2      8       3           7        3  7.00  56.00  \n",
       "0      3      10           8        6 13.33  40.00  \n",
       "6      5       3           8        3  8.00  40.00  \n",
       "8      1       9           9        5 16.20  16.20  \n",
       "3      8       3           3        8  1.12   9.00  \n",
       "1      2       5           4       10  2.00   4.00  \n",
       "5      3       2           2        3  1.33   4.00  \n",
       "4      3       1           1        1  1.00   3.00  "
      ]
     },
     "execution_count": 25,
     "metadata": {},
     "output_type": "execute_result"
    }
   ],
   "source": [
    "hypothesis.sort_values(by='RICE', ascending=False)"
   ]
  },
  {
   "cell_type": "markdown",
   "id": "9374a079",
   "metadata": {},
   "source": [
    "**Выводы:** \n",
    "\n",
    "ICE: на первых трех местах гипотезы с индексами 8, 0 и 7, с достаточно высоким показателем влияния изменений на пользователей (impact) и высокой уровнем уверенности в оценках парметров коэффициента (confidence)\n",
    "\n",
    "При приоритезации гипотез с помощью фреймворка RICE на первые места по приоретизации выходят гипотезы с индексами 7 (ICE на 3 месте), 2 (ICE на 5 месте) и 0 (ICE на 2 месте). Здесь на первое место по приоретизации выходят гипотезы с высоким параметром охвата пользователей и это гипотезы с индексами 7 и 2. \n",
    "\n",
    "Приоритет в дальнейшем тестировании отдается гипотезе с индексом 7 и возможно также необходимо проверить гипотезу 2. "
   ]
  },
  {
   "cell_type": "markdown",
   "id": "de1f7e67",
   "metadata": {},
   "source": [
    "<div class=\"alert alert-block alert-success\">\n",
    "<b>Комментарий ревьюера v1:</b>\n",
    "    \n",
    "Отлично :) Все выполнено правильно. Фреймворки `ICE` и `RICE` были рассчитаны верно. И по результатам теперь понятно, как фактор охвата (Reach) влияет на общую ценность гипотезы.\n",
    "\n",
    "Дополнительно было бы совсем здорово создать точечную диаграмму, чтобы сопоставить все метрики для каждой гипотезы и сравнить их.\n",
    "    \n",
    "Для стороннего читателя (например бизнес-заказчик) также было бы интересно добавить краткое описание фреймворков и как они работают.\n",
    "    \n",
    "Интересные примеры использования данных методов можно почитать тут:\n",
    "    \n",
    "- https://habr.com/ru/company/hygger/blog/424323/ \n",
    "- https://vc.ru/tribuna/260086-kak-delat-to-chto-prineset-bolshe-polzy-biznesu-i-ne-kosyachit-so-srokami  \n",
    "\n"
   ]
  },
  {
   "cell_type": "markdown",
   "id": "b93360d4",
   "metadata": {},
   "source": [
    "# Часть 2. Анализ A/B-теста"
   ]
  },
  {
   "cell_type": "markdown",
   "id": "d9ade044",
   "metadata": {},
   "source": [
    "Подготовка данных"
   ]
  },
  {
   "cell_type": "markdown",
   "id": "db07af63",
   "metadata": {},
   "source": [
    "**Создадим массив уникальных пар значений дат и групп теста методом drop_duplicates():**"
   ]
  },
  {
   "cell_type": "code",
   "execution_count": 26,
   "id": "70e538ed",
   "metadata": {
    "ExecuteTime": {
     "end_time": "2022-09-18T21:30:51.334861Z",
     "start_time": "2022-09-18T21:30:51.321901Z"
    }
   },
   "outputs": [],
   "source": [
    "# создаем массив уникальных пар значений дат и групп теста\n",
    "datesGroups = orders[['date','group']].drop_duplicates()"
   ]
  },
  {
   "cell_type": "markdown",
   "id": "e408bf11",
   "metadata": {},
   "source": [
    "**Соберём агрегированные кумулятивные по дням данные о заказах.**"
   ]
  },
  {
   "cell_type": "code",
   "execution_count": 27,
   "id": "2dce5eb1",
   "metadata": {
    "ExecuteTime": {
     "end_time": "2022-09-18T21:30:51.504387Z",
     "start_time": "2022-09-18T21:30:51.336827Z"
    }
   },
   "outputs": [],
   "source": [
    "ordersAggregated = datesGroups.apply(lambda x: orders[np.logical_and(orders['date'] <= x['date'], orders['group'] == x['group'])]\\\n",
    ".agg({'date' : 'max', 'group' : 'max', 'transactionId' : 'nunique', 'visitorId' : 'nunique', 'revenue' : 'sum'}), axis=1).sort_values(by=['date','group'])"
   ]
  },
  {
   "cell_type": "markdown",
   "id": "06a35a9b",
   "metadata": {},
   "source": [
    "**Аналогично получим агрегированные кумулятивные по дням данные о посетителях:**"
   ]
  },
  {
   "cell_type": "code",
   "execution_count": 28,
   "id": "34dcc4ad",
   "metadata": {
    "ExecuteTime": {
     "end_time": "2022-09-18T21:30:51.673925Z",
     "start_time": "2022-09-18T21:30:51.510361Z"
    }
   },
   "outputs": [],
   "source": [
    "visitorsAggregated = datesGroups.apply(lambda x: visitors[np.logical_and(visitors['date'] <= x['date'], visitors['group'] == x['group'])].agg({'date' : 'max', 'group' : 'max', 'visitors' : 'sum'}), axis=1).sort_values(by=['date','group'])"
   ]
  },
  {
   "cell_type": "code",
   "execution_count": 29,
   "id": "f254bde2",
   "metadata": {
    "ExecuteTime": {
     "end_time": "2022-09-18T21:30:51.688886Z",
     "start_time": "2022-09-18T21:30:51.674921Z"
    }
   },
   "outputs": [
    {
     "data": {
      "text/html": [
       "<div>\n",
       "<style scoped>\n",
       "    .dataframe tbody tr th:only-of-type {\n",
       "        vertical-align: middle;\n",
       "    }\n",
       "\n",
       "    .dataframe tbody tr th {\n",
       "        vertical-align: top;\n",
       "    }\n",
       "\n",
       "    .dataframe thead th {\n",
       "        text-align: right;\n",
       "    }\n",
       "</style>\n",
       "<table border=\"1\" class=\"dataframe\">\n",
       "  <thead>\n",
       "    <tr style=\"text-align: right;\">\n",
       "      <th></th>\n",
       "      <th>date</th>\n",
       "      <th>group</th>\n",
       "      <th>orders</th>\n",
       "      <th>buyers</th>\n",
       "      <th>revenue</th>\n",
       "      <th>visitors</th>\n",
       "    </tr>\n",
       "  </thead>\n",
       "  <tbody>\n",
       "    <tr>\n",
       "      <th>0</th>\n",
       "      <td>2019-08-01</td>\n",
       "      <td>A</td>\n",
       "      <td>23</td>\n",
       "      <td>19</td>\n",
       "      <td>142779</td>\n",
       "      <td>719</td>\n",
       "    </tr>\n",
       "    <tr>\n",
       "      <th>1</th>\n",
       "      <td>2019-08-01</td>\n",
       "      <td>B</td>\n",
       "      <td>17</td>\n",
       "      <td>17</td>\n",
       "      <td>59758</td>\n",
       "      <td>713</td>\n",
       "    </tr>\n",
       "    <tr>\n",
       "      <th>2</th>\n",
       "      <td>2019-08-02</td>\n",
       "      <td>A</td>\n",
       "      <td>42</td>\n",
       "      <td>36</td>\n",
       "      <td>234381</td>\n",
       "      <td>1338</td>\n",
       "    </tr>\n",
       "    <tr>\n",
       "      <th>3</th>\n",
       "      <td>2019-08-02</td>\n",
       "      <td>B</td>\n",
       "      <td>40</td>\n",
       "      <td>39</td>\n",
       "      <td>221801</td>\n",
       "      <td>1294</td>\n",
       "    </tr>\n",
       "    <tr>\n",
       "      <th>4</th>\n",
       "      <td>2019-08-03</td>\n",
       "      <td>A</td>\n",
       "      <td>66</td>\n",
       "      <td>60</td>\n",
       "      <td>346854</td>\n",
       "      <td>1845</td>\n",
       "    </tr>\n",
       "    <tr>\n",
       "      <th>5</th>\n",
       "      <td>2019-08-03</td>\n",
       "      <td>B</td>\n",
       "      <td>54</td>\n",
       "      <td>53</td>\n",
       "      <td>288850</td>\n",
       "      <td>1803</td>\n",
       "    </tr>\n",
       "    <tr>\n",
       "      <th>6</th>\n",
       "      <td>2019-08-04</td>\n",
       "      <td>A</td>\n",
       "      <td>77</td>\n",
       "      <td>71</td>\n",
       "      <td>388030</td>\n",
       "      <td>2562</td>\n",
       "    </tr>\n",
       "    <tr>\n",
       "      <th>7</th>\n",
       "      <td>2019-08-04</td>\n",
       "      <td>B</td>\n",
       "      <td>68</td>\n",
       "      <td>66</td>\n",
       "      <td>385740</td>\n",
       "      <td>2573</td>\n",
       "    </tr>\n",
       "    <tr>\n",
       "      <th>8</th>\n",
       "      <td>2019-08-05</td>\n",
       "      <td>A</td>\n",
       "      <td>99</td>\n",
       "      <td>92</td>\n",
       "      <td>474413</td>\n",
       "      <td>3318</td>\n",
       "    </tr>\n",
       "    <tr>\n",
       "      <th>9</th>\n",
       "      <td>2019-08-05</td>\n",
       "      <td>B</td>\n",
       "      <td>89</td>\n",
       "      <td>87</td>\n",
       "      <td>475648</td>\n",
       "      <td>3280</td>\n",
       "    </tr>\n",
       "  </tbody>\n",
       "</table>\n",
       "</div>"
      ],
      "text/plain": [
       "        date group  orders  buyers  revenue  visitors\n",
       "0 2019-08-01     A      23      19   142779       719\n",
       "1 2019-08-01     B      17      17    59758       713\n",
       "2 2019-08-02     A      42      36   234381      1338\n",
       "3 2019-08-02     B      40      39   221801      1294\n",
       "4 2019-08-03     A      66      60   346854      1845\n",
       "5 2019-08-03     B      54      53   288850      1803\n",
       "6 2019-08-04     A      77      71   388030      2562\n",
       "7 2019-08-04     B      68      66   385740      2573\n",
       "8 2019-08-05     A      99      92   474413      3318\n",
       "9 2019-08-05     B      89      87   475648      3280"
      ]
     },
     "metadata": {},
     "output_type": "display_data"
    }
   ],
   "source": [
    "\n",
    "# объединяем кумулятивные данные в одной таблице и присваиваем ее столбцам понятные названия\n",
    "cumulativeData = ordersAggregated.merge(visitorsAggregated, left_on=['date', 'group'], right_on=['date', 'group'])\n",
    "cumulativeData.columns = ['date', 'group', 'orders', 'buyers', 'revenue', 'visitors']\n",
    "\n",
    "display(cumulativeData.head(10))"
   ]
  },
  {
   "cell_type": "code",
   "execution_count": null,
   "id": "e7d0356a",
   "metadata": {},
   "outputs": [],
   "source": []
  },
  {
   "cell_type": "code",
   "execution_count": null,
   "id": "804ecd2b",
   "metadata": {},
   "outputs": [],
   "source": []
  },
  {
   "cell_type": "markdown",
   "id": "74d15a6c",
   "metadata": {},
   "source": [
    "## \tГрафик кумулятивной выручки по группам. "
   ]
  },
  {
   "cell_type": "code",
   "execution_count": 30,
   "id": "4f7f7a4e",
   "metadata": {
    "ExecuteTime": {
     "end_time": "2022-09-18T21:30:52.075699Z",
     "start_time": "2022-09-18T21:30:51.690914Z"
    }
   },
   "outputs": [
    {
     "data": {
      "text/plain": [
       "<matplotlib.legend.Legend at 0x7fa6810c1760>"
      ]
     },
     "execution_count": 30,
     "metadata": {},
     "output_type": "execute_result"
    },
    {
     "data": {
      "image/png": "[encoded data removed]",
      "text/plain": [
       "<Figure size 1440x504 with 1 Axes>"
      ]
     },
     "metadata": {
      "needs_background": "light"
     },
     "output_type": "display_data"
    }
   ],
   "source": [
    "import matplotlib.pyplot as plt\n",
    "\n",
    "# датафрейм с кумулятивным количеством заказов и кумулятивной выручкой по дням в группе А\n",
    "cumulativeRevenueA = cumulativeData[cumulativeData['group']=='A'][['date','revenue', 'orders']]\n",
    "\n",
    "# датафрейм с кумулятивным количеством заказов и кумулятивной выручкой по дням в группе B\n",
    "cumulativeRevenueB = cumulativeData[cumulativeData['group']=='B'][['date','revenue', 'orders']]\n",
    "\n",
    "plt.figure(figsize=(20,7))\n",
    "# Строим график выручки группы А\n",
    "plt.plot(cumulativeRevenueA['date'], cumulativeRevenueA['revenue'], label='Кум. выручка гр. A')\n",
    "\n",
    "# Строим график выручки группы B\n",
    "plt.plot(cumulativeRevenueB['date'], cumulativeRevenueB['revenue'], label='Кум. выручка гр. B')\n",
    "\n",
    "\n",
    "plt.grid()\n",
    "plt.legend()"
   ]
  },
  {
   "cell_type": "markdown",
   "id": "74d36155",
   "metadata": {},
   "source": [
    "**Вывод:**\n",
    "Первые 5 дней августа динамика кумулятивной выручки двух групп примерно одинакова. Далее до 13 августа динамика показателя у гр В чуть лучше. 13 августа накопленная выручка по двум группам временно выравноивается. И после показатель группы В значительновырывается вперед. Необходимо отметить что примерно 19 августа по группе В произошол занчительный всплеск - возможно было большое количество заказов и значительно больше чем обычно, либо один разовый, но с большой выручкой.\n",
    "\n",
    "Прверим это:"
   ]
  },
  {
   "cell_type": "markdown",
   "id": "14ef6fe9",
   "metadata": {},
   "source": [
    "<div class=\"alert alert-block alert-success\">\n",
    "<b>Комментарий ревьюера v1:</b>\n",
    "    \n",
    "Согласен с выводами и предположениями."
   ]
  },
  {
   "cell_type": "code",
   "execution_count": 31,
   "id": "d882f732",
   "metadata": {
    "ExecuteTime": {
     "end_time": "2022-09-18T21:30:52.090701Z",
     "start_time": "2022-09-18T21:30:52.077700Z"
    }
   },
   "outputs": [
    {
     "data": {
      "text/html": [
       "<div>\n",
       "<style scoped>\n",
       "    .dataframe tbody tr th:only-of-type {\n",
       "        vertical-align: middle;\n",
       "    }\n",
       "\n",
       "    .dataframe tbody tr th {\n",
       "        vertical-align: top;\n",
       "    }\n",
       "\n",
       "    .dataframe thead th {\n",
       "        text-align: right;\n",
       "    }\n",
       "</style>\n",
       "<table border=\"1\" class=\"dataframe\">\n",
       "  <thead>\n",
       "    <tr style=\"text-align: right;\">\n",
       "      <th></th>\n",
       "      <th>date</th>\n",
       "      <th>revenue</th>\n",
       "      <th>orders</th>\n",
       "    </tr>\n",
       "  </thead>\n",
       "  <tbody>\n",
       "    <tr>\n",
       "      <th>25</th>\n",
       "      <td>2019-08-13</td>\n",
       "      <td>1542928</td>\n",
       "      <td>249</td>\n",
       "    </tr>\n",
       "    <tr>\n",
       "      <th>27</th>\n",
       "      <td>2019-08-14</td>\n",
       "      <td>1650268</td>\n",
       "      <td>263</td>\n",
       "    </tr>\n",
       "    <tr>\n",
       "      <th>29</th>\n",
       "      <td>2019-08-15</td>\n",
       "      <td>1960427</td>\n",
       "      <td>289</td>\n",
       "    </tr>\n",
       "    <tr>\n",
       "      <th>31</th>\n",
       "      <td>2019-08-16</td>\n",
       "      <td>2074677</td>\n",
       "      <td>307</td>\n",
       "    </tr>\n",
       "    <tr>\n",
       "      <th>33</th>\n",
       "      <td>2019-08-17</td>\n",
       "      <td>2155542</td>\n",
       "      <td>320</td>\n",
       "    </tr>\n",
       "    <tr>\n",
       "      <th>35</th>\n",
       "      <td>2019-08-18</td>\n",
       "      <td>2190865</td>\n",
       "      <td>327</td>\n",
       "    </tr>\n",
       "    <tr>\n",
       "      <th>37</th>\n",
       "      <td>2019-08-19</td>\n",
       "      <td>3620785</td>\n",
       "      <td>348</td>\n",
       "    </tr>\n",
       "    <tr>\n",
       "      <th>39</th>\n",
       "      <td>2019-08-20</td>\n",
       "      <td>3768059</td>\n",
       "      <td>368</td>\n",
       "    </tr>\n",
       "    <tr>\n",
       "      <th>41</th>\n",
       "      <td>2019-08-21</td>\n",
       "      <td>3908406</td>\n",
       "      <td>380</td>\n",
       "    </tr>\n",
       "  </tbody>\n",
       "</table>\n",
       "</div>"
      ],
      "text/plain": [
       "         date  revenue  orders\n",
       "25 2019-08-13  1542928     249\n",
       "27 2019-08-14  1650268     263\n",
       "29 2019-08-15  1960427     289\n",
       "31 2019-08-16  2074677     307\n",
       "33 2019-08-17  2155542     320\n",
       "35 2019-08-18  2190865     327\n",
       "37 2019-08-19  3620785     348\n",
       "39 2019-08-20  3768059     368\n",
       "41 2019-08-21  3908406     380"
      ]
     },
     "execution_count": 31,
     "metadata": {},
     "output_type": "execute_result"
    }
   ],
   "source": [
    "cumulativeRevenueB.query(' \"2019-08-13\" <= date <= \"2019-08-21\" ')"
   ]
  },
  {
   "cell_type": "markdown",
   "id": "fb2a53cc",
   "metadata": {},
   "source": [
    "Количество заказов не сильно выросло, при росте выручки."
   ]
  },
  {
   "cell_type": "code",
   "execution_count": 32,
   "id": "c41ac40c",
   "metadata": {
    "ExecuteTime": {
     "end_time": "2022-09-18T21:30:52.106621Z",
     "start_time": "2022-09-18T21:30:52.093658Z"
    }
   },
   "outputs": [
    {
     "data": {
      "text/html": [
       "<div>\n",
       "<style scoped>\n",
       "    .dataframe tbody tr th:only-of-type {\n",
       "        vertical-align: middle;\n",
       "    }\n",
       "\n",
       "    .dataframe tbody tr th {\n",
       "        vertical-align: top;\n",
       "    }\n",
       "\n",
       "    .dataframe thead th {\n",
       "        text-align: right;\n",
       "    }\n",
       "</style>\n",
       "<table border=\"1\" class=\"dataframe\">\n",
       "  <thead>\n",
       "    <tr style=\"text-align: right;\">\n",
       "      <th></th>\n",
       "      <th>transactionId</th>\n",
       "      <th>visitorId</th>\n",
       "      <th>date</th>\n",
       "      <th>revenue</th>\n",
       "      <th>group</th>\n",
       "    </tr>\n",
       "  </thead>\n",
       "  <tbody>\n",
       "    <tr>\n",
       "      <th>315</th>\n",
       "      <td>1939633950</td>\n",
       "      <td>157579733</td>\n",
       "      <td>2019-08-19</td>\n",
       "      <td>2330</td>\n",
       "      <td>B</td>\n",
       "    </tr>\n",
       "    <tr>\n",
       "      <th>319</th>\n",
       "      <td>2414788465</td>\n",
       "      <td>2247745159</td>\n",
       "      <td>2019-08-19</td>\n",
       "      <td>1435</td>\n",
       "      <td>B</td>\n",
       "    </tr>\n",
       "    <tr>\n",
       "      <th>320</th>\n",
       "      <td>1652782757</td>\n",
       "      <td>2763027084</td>\n",
       "      <td>2019-08-19</td>\n",
       "      <td>1460</td>\n",
       "      <td>B</td>\n",
       "    </tr>\n",
       "    <tr>\n",
       "      <th>322</th>\n",
       "      <td>3154167297</td>\n",
       "      <td>2091902649</td>\n",
       "      <td>2019-08-19</td>\n",
       "      <td>250</td>\n",
       "      <td>B</td>\n",
       "    </tr>\n",
       "    <tr>\n",
       "      <th>363</th>\n",
       "      <td>2096847394</td>\n",
       "      <td>4251115836</td>\n",
       "      <td>2019-08-19</td>\n",
       "      <td>2500</td>\n",
       "      <td>B</td>\n",
       "    </tr>\n",
       "    <tr>\n",
       "      <th>367</th>\n",
       "      <td>1033377712</td>\n",
       "      <td>3860669668</td>\n",
       "      <td>2019-08-19</td>\n",
       "      <td>3990</td>\n",
       "      <td>B</td>\n",
       "    </tr>\n",
       "    <tr>\n",
       "      <th>368</th>\n",
       "      <td>3268879337</td>\n",
       "      <td>2536252163</td>\n",
       "      <td>2019-08-19</td>\n",
       "      <td>20026</td>\n",
       "      <td>B</td>\n",
       "    </tr>\n",
       "    <tr>\n",
       "      <th>423</th>\n",
       "      <td>4161654914</td>\n",
       "      <td>990904712</td>\n",
       "      <td>2019-08-19</td>\n",
       "      <td>11249</td>\n",
       "      <td>B</td>\n",
       "    </tr>\n",
       "    <tr>\n",
       "      <th>424</th>\n",
       "      <td>2609443403</td>\n",
       "      <td>2406916810</td>\n",
       "      <td>2019-08-19</td>\n",
       "      <td>470</td>\n",
       "      <td>B</td>\n",
       "    </tr>\n",
       "    <tr>\n",
       "      <th>425</th>\n",
       "      <td>590470918</td>\n",
       "      <td>1920142716</td>\n",
       "      <td>2019-08-19</td>\n",
       "      <td>1294500</td>\n",
       "      <td>B</td>\n",
       "    </tr>\n",
       "    <tr>\n",
       "      <th>426</th>\n",
       "      <td>19467429</td>\n",
       "      <td>2397843657</td>\n",
       "      <td>2019-08-19</td>\n",
       "      <td>2630</td>\n",
       "      <td>B</td>\n",
       "    </tr>\n",
       "    <tr>\n",
       "      <th>427</th>\n",
       "      <td>3019510679</td>\n",
       "      <td>2397843657</td>\n",
       "      <td>2019-08-19</td>\n",
       "      <td>1460</td>\n",
       "      <td>B</td>\n",
       "    </tr>\n",
       "    <tr>\n",
       "      <th>429</th>\n",
       "      <td>2436528253</td>\n",
       "      <td>1060341621</td>\n",
       "      <td>2019-08-19</td>\n",
       "      <td>1100</td>\n",
       "      <td>B</td>\n",
       "    </tr>\n",
       "    <tr>\n",
       "      <th>459</th>\n",
       "      <td>863448794</td>\n",
       "      <td>2738601405</td>\n",
       "      <td>2019-08-19</td>\n",
       "      <td>50</td>\n",
       "      <td>B</td>\n",
       "    </tr>\n",
       "    <tr>\n",
       "      <th>461</th>\n",
       "      <td>2683113224</td>\n",
       "      <td>154576532</td>\n",
       "      <td>2019-08-19</td>\n",
       "      <td>26550</td>\n",
       "      <td>B</td>\n",
       "    </tr>\n",
       "    <tr>\n",
       "      <th>463</th>\n",
       "      <td>4170537404</td>\n",
       "      <td>290022471</td>\n",
       "      <td>2019-08-19</td>\n",
       "      <td>16480</td>\n",
       "      <td>B</td>\n",
       "    </tr>\n",
       "    <tr>\n",
       "      <th>486</th>\n",
       "      <td>752294429</td>\n",
       "      <td>2758621772</td>\n",
       "      <td>2019-08-19</td>\n",
       "      <td>1130</td>\n",
       "      <td>B</td>\n",
       "    </tr>\n",
       "    <tr>\n",
       "      <th>523</th>\n",
       "      <td>1739748874</td>\n",
       "      <td>522292794</td>\n",
       "      <td>2019-08-19</td>\n",
       "      <td>4880</td>\n",
       "      <td>B</td>\n",
       "    </tr>\n",
       "    <tr>\n",
       "      <th>526</th>\n",
       "      <td>1654949825</td>\n",
       "      <td>1335154194</td>\n",
       "      <td>2019-08-19</td>\n",
       "      <td>500</td>\n",
       "      <td>B</td>\n",
       "    </tr>\n",
       "    <tr>\n",
       "      <th>527</th>\n",
       "      <td>1570513684</td>\n",
       "      <td>2837914161</td>\n",
       "      <td>2019-08-19</td>\n",
       "      <td>33405</td>\n",
       "      <td>B</td>\n",
       "    </tr>\n",
       "    <tr>\n",
       "      <th>529</th>\n",
       "      <td>90109939</td>\n",
       "      <td>2075769885</td>\n",
       "      <td>2019-08-19</td>\n",
       "      <td>3525</td>\n",
       "      <td>B</td>\n",
       "    </tr>\n",
       "  </tbody>\n",
       "</table>\n",
       "</div>"
      ],
      "text/plain": [
       "     transactionId   visitorId       date  revenue group\n",
       "315     1939633950   157579733 2019-08-19     2330     B\n",
       "319     2414788465  2247745159 2019-08-19     1435     B\n",
       "320     1652782757  2763027084 2019-08-19     1460     B\n",
       "322     3154167297  2091902649 2019-08-19      250     B\n",
       "363     2096847394  4251115836 2019-08-19     2500     B\n",
       "367     1033377712  3860669668 2019-08-19     3990     B\n",
       "368     3268879337  2536252163 2019-08-19    20026     B\n",
       "423     4161654914   990904712 2019-08-19    11249     B\n",
       "424     2609443403  2406916810 2019-08-19      470     B\n",
       "425      590470918  1920142716 2019-08-19  1294500     B\n",
       "426       19467429  2397843657 2019-08-19     2630     B\n",
       "427     3019510679  2397843657 2019-08-19     1460     B\n",
       "429     2436528253  1060341621 2019-08-19     1100     B\n",
       "459      863448794  2738601405 2019-08-19       50     B\n",
       "461     2683113224   154576532 2019-08-19    26550     B\n",
       "463     4170537404   290022471 2019-08-19    16480     B\n",
       "486      752294429  2758621772 2019-08-19     1130     B\n",
       "523     1739748874   522292794 2019-08-19     4880     B\n",
       "526     1654949825  1335154194 2019-08-19      500     B\n",
       "527     1570513684  2837914161 2019-08-19    33405     B\n",
       "529       90109939  2075769885 2019-08-19     3525     B"
      ]
     },
     "execution_count": 32,
     "metadata": {},
     "output_type": "execute_result"
    }
   ],
   "source": [
    "orders.loc[(orders['date'] == \"2019-08-19\") & (orders['group'] == 'B')]"
   ]
  },
  {
   "cell_type": "markdown",
   "id": "33560777",
   "metadata": {},
   "source": [
    "19 августа был зарегистрирован заказ на сумму 1 295 тыс. Такой заказ был один, поэтому его можно считать выбросом и в дальнейшем учитывать это"
   ]
  },
  {
   "cell_type": "code",
   "execution_count": null,
   "id": "4359c064",
   "metadata": {},
   "outputs": [],
   "source": []
  },
  {
   "cell_type": "markdown",
   "id": "4c1f3689",
   "metadata": {},
   "source": [
    "## \tГрафик кумулятивного среднего чека по группам. "
   ]
  },
  {
   "cell_type": "code",
   "execution_count": 33,
   "id": "c88dcf01",
   "metadata": {
    "ExecuteTime": {
     "end_time": "2022-09-18T21:30:52.414792Z",
     "start_time": "2022-09-18T21:30:52.108616Z"
    }
   },
   "outputs": [
    {
     "data": {
      "text/plain": [
       "<matplotlib.legend.Legend at 0x7fa680d590a0>"
      ]
     },
     "execution_count": 33,
     "metadata": {},
     "output_type": "execute_result"
    },
    {
     "data": {
      "image/png": "[encoded data removed]",
      "text/plain": [
       "<Figure size 1440x504 with 1 Axes>"
      ]
     },
     "metadata": {
      "needs_background": "light"
     },
     "output_type": "display_data"
    }
   ],
   "source": [
    "plt.figure(figsize=(20,7))\n",
    "plt.plot(cumulativeRevenueA['date'], cumulativeRevenueA['revenue']/cumulativeRevenueA['orders'], label='Кум. средний чек по гр. A')\n",
    "plt.plot(cumulativeRevenueB['date'], cumulativeRevenueB['revenue']/cumulativeRevenueB['orders'], label='Кум. средний чек по гр. B')\n",
    "\n",
    "plt.grid()\n",
    "plt.legend() "
   ]
  },
  {
   "cell_type": "markdown",
   "id": "00910c1c",
   "metadata": {},
   "source": [
    "**Вывод:**\n",
    "\n",
    "График комулятивного среднего чека почти повторяет график кумулятивной выручки: \"накопленный\" средний чек по группе В выше показателя по гр А со 2 по 11 августа. Далее средний кумулятивный чек гр А на 4 дня становится выше. И опять,  с 15 августа показатель по гр В становится опять выше. Неоходимо также отметить всплеск 19 августа в связи разовым заказом на большую сумму"
   ]
  },
  {
   "cell_type": "markdown",
   "id": "9815830d",
   "metadata": {},
   "source": [
    "<div class=\"alert alert-block alert-success\">\n",
    "<b>Комментарий ревьюера v1:</b>\n",
    "\n",
    "Тут также все верно, но стоит отметить, что только в группе B."
   ]
  },
  {
   "cell_type": "markdown",
   "id": "7c24bb04",
   "metadata": {},
   "source": [
    "## \tГрафик относительного изменения кумулятивного среднего чека группы B к группе A. "
   ]
  },
  {
   "cell_type": "code",
   "execution_count": 34,
   "id": "ee8ec685",
   "metadata": {
    "ExecuteTime": {
     "end_time": "2022-09-18T21:30:52.662119Z",
     "start_time": "2022-09-18T21:30:52.416748Z"
    }
   },
   "outputs": [
    {
     "data": {
      "text/plain": [
       "<matplotlib.lines.Line2D at 0x7fa680cdf370>"
      ]
     },
     "execution_count": 34,
     "metadata": {},
     "output_type": "execute_result"
    },
    {
     "data": {
      "image/png": "[encoded data removed]",
      "text/plain": [
       "<Figure size 1440x504 with 1 Axes>"
      ]
     },
     "metadata": {
      "needs_background": "light"
     },
     "output_type": "display_data"
    }
   ],
   "source": [
    "# собираем данные в одном датафрейме\n",
    "mergedCumulativeRevenue = cumulativeRevenueA.merge(cumulativeRevenueB, left_on='date', right_on='date', how='left', suffixes=['A', 'B'])\n",
    "\n",
    "plt.figure(figsize=(20,7))\n",
    "plt.grid()\n",
    "# cтроим отношение средних чеков\n",
    "plt.plot(mergedCumulativeRevenue['date'], (mergedCumulativeRevenue['revenueB']/mergedCumulativeRevenue['ordersB'])/(mergedCumulativeRevenue['revenueA']/mergedCumulativeRevenue['ordersA'])-1)\n",
    "\n",
    "plt.title('График относительного изменения кумулятивного среднего чека группы B к группе A')\n",
    "# добавляем ось X\n",
    "plt.axhline(y=0, color='black', linestyle='--')"
   ]
  },
  {
   "cell_type": "markdown",
   "id": "5163d91a",
   "metadata": {},
   "source": [
    "**Вывод:**\n",
    "Кумулятивный средний чек по гр В растет до 17 августа с небольшими \"провалами\" 5 и 13 августа (в этот день вперед, на небольшое время, вырывается кумулятивный средний чек по гр А). Отметим всплеск показателя 19 августа из-за \"большого\" заказа по гр В. Далее кумулятивный средний чек по гр В постепенно падает, а по группе А - постепенно растет, но разница, примерно в 26% сохраняется.\n",
    "Какие либо выводы на данном этапе по тесту пока делать нельзя\n",
    "\n"
   ]
  },
  {
   "cell_type": "markdown",
   "id": "a41fe235",
   "metadata": {},
   "source": [
    "<div class=\"alert alert-block alert-success\">\n",
    "<b>Комментарий ревьюера v1:</b>\n",
    "    \n",
    "Действительно, было бы полезно изучать данные без выбросов."
   ]
  },
  {
   "cell_type": "markdown",
   "id": "a09d801f",
   "metadata": {},
   "source": [
    "## \tГрафик кумулятивной конверсии по группам. "
   ]
  },
  {
   "cell_type": "code",
   "execution_count": 35,
   "id": "fb6179e2",
   "metadata": {
    "ExecuteTime": {
     "end_time": "2022-09-18T21:30:52.972160Z",
     "start_time": "2022-09-18T21:30:52.664110Z"
    }
   },
   "outputs": [
    {
     "data": {
      "text/plain": [
       "<matplotlib.legend.Legend at 0x7fa680ca9a30>"
      ]
     },
     "execution_count": 35,
     "metadata": {},
     "output_type": "execute_result"
    },
    {
     "data": {
      "image/png": "[encoded data removed]",
      "text/plain": [
       "<Figure size 1440x504 with 1 Axes>"
      ]
     },
     "metadata": {
      "needs_background": "light"
     },
     "output_type": "display_data"
    }
   ],
   "source": [
    "# считаем кумулятивную конверсию\n",
    "cumulativeData['conversion'] = cumulativeData['orders']/cumulativeData['visitors']\n",
    "\n",
    "# отделяем данные по группе A\n",
    "cumulativeDataA = cumulativeData[cumulativeData['group']=='A']\n",
    "\n",
    "# отделяем данные по группе B\n",
    "cumulativeDataB = cumulativeData[cumulativeData['group']=='B']\n",
    "plt.figure(figsize=(20,7))\n",
    "plt.grid()\n",
    "# строим графики\n",
    "plt.plot(cumulativeDataA['date'], cumulativeDataA['conversion'], label='Кум. конверсия гр.A')\n",
    "plt.plot(cumulativeDataB['date'], cumulativeDataB['conversion'], label='Кум. конверсия гр.B')\n",
    "plt.title('График кумулятивной конверсии по группам')\n",
    "plt.legend()\n"
   ]
  },
  {
   "cell_type": "markdown",
   "id": "d5f67f56",
   "metadata": {},
   "source": [
    "**Вывод:**\n",
    "\n",
    "В начале месяца кумулятивная конверсия по обеим группам растет, причем по группе А с сильным опережением с пиком 0,037. Далее по обеим группам произошла корректировка в сторону снижения. По группе А тренд в сторону снижения продолжился до конца месяца и упал до уровня ниже 0,030.\n",
    "Начиная с 4 августа кумулятивная конверсия по группе В поменяла тренд в сторону роста, 6 августа превысила конверсию группы А и 10 августа достигла максимального пика - более 0,036. Далее показатель поменял тренд на постепенное снижение до уровня 0,034 в конце месяца, с небольшим всплеском в период 14-18 августа."
   ]
  },
  {
   "cell_type": "markdown",
   "id": "a7a34136",
   "metadata": {},
   "source": [
    "<div class=\"alert alert-block alert-warning\">\n",
    "<b>Комментарий ревьюера v1:</b>\n",
    "\n",
    "In order not to show auxiliary python outputs like \"matplotlib.axes._subplots.AxesSubplot at 0x7f5feaf7fc90 ', you can add a semicolon or plt.show () at the end of the line."
   ]
  },
  {
   "cell_type": "markdown",
   "id": "171b03b8",
   "metadata": {},
   "source": [
    "<div class=\"alert alert-success\">\n",
    "<b>Комментарий ревьюера v1:</b>\n",
    "    \n",
    "Верные результаты и выводы, а на основании данного графика легче сказать, что группа B действительно лучше."
   ]
  },
  {
   "cell_type": "markdown",
   "id": "b5ba55c0",
   "metadata": {},
   "source": [
    "## \tГрафик относительного изменения кумулятивной конверсии группы B к группе A. "
   ]
  },
  {
   "cell_type": "code",
   "execution_count": 36,
   "id": "29a0c62f",
   "metadata": {
    "ExecuteTime": {
     "end_time": "2022-09-18T21:30:53.236292Z",
     "start_time": "2022-09-18T21:30:52.973162Z"
    }
   },
   "outputs": [
    {
     "data": {
      "text/plain": [
       "<matplotlib.lines.Line2D at 0x7fa680bbfca0>"
      ]
     },
     "execution_count": 36,
     "metadata": {},
     "output_type": "execute_result"
    },
    {
     "data": {
      "image/png": "[encoded data removed]",
      "text/plain": [
       "<Figure size 1440x504 with 1 Axes>"
      ]
     },
     "metadata": {
      "needs_background": "light"
     },
     "output_type": "display_data"
    }
   ],
   "source": [
    "mergedCumulativeConversions = cumulativeDataA[['date','conversion']].merge(cumulativeDataB[['date','conversion']], left_on='date', right_on='date', how='left', suffixes=['A', 'B'])\n",
    "\n",
    "plt.figure(figsize=(20,7))\n",
    "plt.grid()\n",
    "plt.plot(mergedCumulativeConversions['date'], mergedCumulativeConversions['conversionB']/mergedCumulativeConversions['conversionA']-1, label=\"Относительный прирост конверсии группы B относительно группы A\")\n",
    "plt.legend()\n",
    "\n",
    "plt.title('График относительного изменения кумулятивной конверсии группы B к группе A')\n",
    "\n",
    "plt.axhline(y=0, color='black', linestyle='--')\n",
    "plt.axhline(y=-0.1, color='grey', linestyle='--')\n"
   ]
  },
  {
   "cell_type": "markdown",
   "id": "ee20b803",
   "metadata": {},
   "source": [
    "**Вывод:**\n",
    "\n",
    "График относительного изменения конверсии во многом повторяет график кумулятивной конверсии: в первые дни на относительное изменение влияет динамика кумулятивной коверсии по группе В - разница резко растет с -10% до 5%. Возможно в эти дни проводились маркетинговые мероприятия направленные на стимулирование продаж и именно по группе В. Далее, 3 августа произошла корректировка конверсии в сторону снижения, причем по обеим группам разница между группами А и В составила 7-8%%. Далее на показатель сильное вляение начинает оказывать тренд кумулятивной конверсии по группе В - разница изменилась с -8% до уровня 17-18% 10 августа. Далее кумулятивная конверсия по группе В начала постепенно снижаться и это повлияло на относительное изменение - 12-13%% в конце месяца. \"Всплеск\" наблюдаемый 14-18 августа также повторяет тренд кривой кумулятивной конверсии по группе В."
   ]
  },
  {
   "cell_type": "markdown",
   "id": "c64d68d5",
   "metadata": {},
   "source": [
    "<div class=\"alert alert-success\">\n",
    "<b>Комментарий ревьюера v1:</b>\n",
    "    \n",
    "\n",
    "    \n",
    "Тут можно также отметить небольшую стаблизацию результатов теста после  около определенного значения после 21.08\n",
    "    \n",
    "Здорово, что получилось применить тут plt.axhline.\n",
    "    \n"
   ]
  },
  {
   "cell_type": "markdown",
   "id": "d970bf02",
   "metadata": {},
   "source": [
    "## \tТочечный график количества заказов по пользователям. "
   ]
  },
  {
   "cell_type": "code",
   "execution_count": 37,
   "id": "c857a0a2",
   "metadata": {
    "ExecuteTime": {
     "end_time": "2022-09-18T21:30:53.251260Z",
     "start_time": "2022-09-18T21:30:53.238331Z"
    }
   },
   "outputs": [
    {
     "name": "stdout",
     "output_type": "stream",
     "text": [
      "         userId  orders\n",
      "908  3967698036       3\n",
      "55    249864742       3\n",
      "478  2108163459       3\n",
      "687  2988190573       3\n",
      "890  3908431265       3\n",
      "138   611059232       3\n",
      "632  2742574263       3\n",
      "157   678354126       2\n",
      "323  1404560065       2\n",
      "452  1985475298       2\n"
     ]
    }
   ],
   "source": [
    "ordersByUsers = (\n",
    "    orders.groupby('visitorId', as_index=False)\n",
    "    .agg({'transactionId': 'nunique'})\n",
    ")\n",
    "ordersByUsers.columns = ['userId', 'orders']\n",
    "\n",
    "print(ordersByUsers.sort_values(by='orders', ascending=False).head(10))"
   ]
  },
  {
   "cell_type": "code",
   "execution_count": 38,
   "id": "176f8458",
   "metadata": {
    "ExecuteTime": {
     "end_time": "2022-09-18T21:30:53.422312Z",
     "start_time": "2022-09-18T21:30:53.252257Z"
    }
   },
   "outputs": [
    {
     "data": {
      "text/plain": [
       "<matplotlib.collections.PathCollection at 0x7fa680b39220>"
      ]
     },
     "execution_count": 38,
     "metadata": {},
     "output_type": "execute_result"
    },
    {
     "data": {
      "image/png": "[encoded data removed]",
      "text/plain": [
       "<Figure size 1440x576 with 1 Axes>"
      ]
     },
     "metadata": {
      "needs_background": "light"
     },
     "output_type": "display_data"
    }
   ],
   "source": [
    "# серия из чисел от 0 до количества наблюдений в ordersByUsers\n",
    "x_values = pd.Series(range(0, len(ordersByUsers)))\n",
    "plt.figure(figsize=(20,8))\n",
    "plt.grid()\n",
    "plt.title('Точечный график количества заказов по пользователям')\n",
    "plt.scatter(x_values, ordersByUsers['orders'], alpha=0.5) "
   ]
  },
  {
   "cell_type": "markdown",
   "id": "fb538233",
   "metadata": {},
   "source": [
    "**Вывод:**\n",
    "\n",
    "График показывает, что в течении месяца пользователи в основном делают по одному заказу. Тех кто делает 2 и более заказа очень и очень мало. Для того чтобы решить что это выбросы необходимо посчитать процентили 95 и 99."
   ]
  },
  {
   "cell_type": "markdown",
   "id": "f5a035e2",
   "metadata": {},
   "source": [
    "## \tПосчитаем 95-й и 99-й перцентили количества заказов на пользователя. Выбераем границу для определения аномальных пользователей."
   ]
  },
  {
   "cell_type": "markdown",
   "id": "226cd8cd",
   "metadata": {},
   "source": [
    "Посчитаем сразу все процентили начиная с 95й:"
   ]
  },
  {
   "cell_type": "code",
   "execution_count": 39,
   "id": "a6c910ce",
   "metadata": {
    "ExecuteTime": {
     "end_time": "2022-09-18T21:30:53.438308Z",
     "start_time": "2022-09-18T21:30:53.424316Z"
    }
   },
   "outputs": [
    {
     "name": "stdout",
     "output_type": "stream",
     "text": [
      "95 и 99 перцентили по заказам : [1. 1. 2. 2. 2.]\n"
     ]
    }
   ],
   "source": [
    "print('95 и 99 перцентили по заказам :', np.percentile(ordersByUsers['orders'], [95, 96, 97, 98, 99]))"
   ]
  },
  {
   "cell_type": "markdown",
   "id": "26ea0abb",
   "metadata": {},
   "source": [
    "Из расчета видно, что 97% пользователей делают 1 или 2 заказа. Доля пользователей разместивших 3 и более заказов 3%. Это и будет выбросом.\n"
   ]
  },
  {
   "cell_type": "markdown",
   "id": "cd2e12a5",
   "metadata": {},
   "source": [
    "## \tТочечный график стоимостей заказов. "
   ]
  },
  {
   "cell_type": "code",
   "execution_count": 40,
   "id": "4f035806",
   "metadata": {
    "ExecuteTime": {
     "end_time": "2022-09-18T21:30:53.453238Z",
     "start_time": "2022-09-18T21:30:53.439277Z"
    }
   },
   "outputs": [
    {
     "name": "stdout",
     "output_type": "stream",
     "text": [
      "      transactionId   visitorId       date  revenue group\n",
      "425       590470918  1920142716 2019-08-19  1294500     B\n",
      "1196     3936777065  2108080724 2019-08-15   202740     B\n",
      "1136      666610489  1307669133 2019-08-13    92550     A\n",
      "744      3668308183   888512513 2019-08-27    86620     B\n",
      "743      3603576309  4133034833 2019-08-09    67990     A\n",
      "1103     1348774318  1164614297 2019-08-12    66350     A\n",
      "1099      316924019   148427295 2019-08-12    65710     A\n",
      "949      1347999392   887908475 2019-08-21    60450     A\n",
      "940      2420050534  4003628586 2019-08-08    58550     B\n",
      "131      3163614039  2254586615 2019-08-22    53904     A\n"
     ]
    }
   ],
   "source": [
    "print(orders.sort_values(by='revenue', ascending=False).head(10))"
   ]
  },
  {
   "cell_type": "code",
   "execution_count": 41,
   "id": "274ad416",
   "metadata": {
    "ExecuteTime": {
     "end_time": "2022-09-18T21:30:53.622985Z",
     "start_time": "2022-09-18T21:30:53.455233Z"
    },
    "scrolled": true
   },
   "outputs": [
    {
     "data": {
      "text/plain": [
       "<matplotlib.collections.PathCollection at 0x7fa680b2e280>"
      ]
     },
     "execution_count": 41,
     "metadata": {},
     "output_type": "execute_result"
    },
    {
     "data": {
      "image/png": "[encoded data removed]",
      "text/plain": [
       "<Figure size 1440x504 with 1 Axes>"
      ]
     },
     "metadata": {
      "needs_background": "light"
     },
     "output_type": "display_data"
    }
   ],
   "source": [
    "x_values = pd.Series(range(0, len(orders['revenue'])))\n",
    "plt.figure(figsize=(20,7))\n",
    "plt.grid()\n",
    "plt.title('Точечный график стоимостей заказов')\n",
    "plt.scatter(x_values, orders['revenue'], alpha=0.5) \n"
   ]
  },
  {
   "cell_type": "markdown",
   "id": "f13cabfe",
   "metadata": {},
   "source": [
    "На графике виден \"аномальный\" заказ на 1300 тыс. от 19 августа и еще один на чуть более 200 тыс. Очистим график от этих аномалий:"
   ]
  },
  {
   "cell_type": "code",
   "execution_count": 42,
   "id": "0e798a59",
   "metadata": {
    "ExecuteTime": {
     "end_time": "2022-09-18T21:30:53.779002Z",
     "start_time": "2022-09-18T21:30:53.624988Z"
    }
   },
   "outputs": [
    {
     "data": {
      "text/plain": [
       "<matplotlib.collections.PathCollection at 0x7fa680d40820>"
      ]
     },
     "execution_count": 42,
     "metadata": {},
     "output_type": "execute_result"
    },
    {
     "data": {
      "image/png": "[encoded data removed]",
      "text/plain": [
       "<Figure size 1440x504 with 1 Axes>"
      ]
     },
     "metadata": {
      "needs_background": "light"
     },
     "output_type": "display_data"
    }
   ],
   "source": [
    "orders_adj = orders[orders['revenue'] <= 200000]['revenue']\n",
    "x_values = pd.Series(range(0, len(orders_adj)))\n",
    "plt.figure(figsize=(20,7))\n",
    "plt.grid()\n",
    "plt.title('Точечный график стоимостей заказов')\n",
    "plt.scatter(x_values, orders_adj, alpha=0.5) "
   ]
  },
  {
   "cell_type": "markdown",
   "id": "adf4cfd1",
   "metadata": {},
   "source": [
    "На графике \"без аномалий\" хорошо видно, что основная масса заказов по стоимости находится в пределах от 0 до 20000 "
   ]
  },
  {
   "cell_type": "code",
   "execution_count": null,
   "id": "bf8f71a5",
   "metadata": {},
   "outputs": [],
   "source": []
  },
  {
   "cell_type": "markdown",
   "id": "3964167a",
   "metadata": {},
   "source": [
    "<div class=\"alert alert-block alert-success\">\n",
    "<b>Комментарий ревьюера v1:</b>\n",
    "    \n",
    "Можно также выделить две группы на этом графике, используя параметр hue:  (https://seaborn.pydata.org/generated/seaborn.scatterplot.html)\n"
   ]
  },
  {
   "cell_type": "markdown",
   "id": "d63abdb3",
   "metadata": {},
   "source": [
    "## \tПосчитаем 95-й и 99-й перцентили стоимости заказов. Выбераем границу для определения аномальных заказов."
   ]
  },
  {
   "cell_type": "code",
   "execution_count": 43,
   "id": "7d9b308a",
   "metadata": {
    "ExecuteTime": {
     "end_time": "2022-09-18T21:30:53.794987Z",
     "start_time": "2022-09-18T21:30:53.781034Z"
    }
   },
   "outputs": [
    {
     "name": "stdout",
     "output_type": "stream",
     "text": [
      "95 и 99 перцентили стоимости заказов: [26785. 53904.]\n"
     ]
    }
   ],
   "source": [
    "print('95 и 99 перцентили стоимости заказов:', np.percentile(orders['revenue'], [95, 99]))"
   ]
  },
  {
   "cell_type": "markdown",
   "id": "c7430ea9",
   "metadata": {},
   "source": [
    "**Вывод:**\n",
    "\n",
    "Из расчета видно, что 99% заказов менее 53904. Определим ее в качестве границы для аномальных заказов."
   ]
  },
  {
   "cell_type": "markdown",
   "id": "aec783ba",
   "metadata": {},
   "source": [
    "<div class=\"alert alert-block alert-success\">\n",
    "<b>Комментарий ревьюера v1:</b>\n",
    "    \n",
    "Диаграммы рассеяния и выбросы по 95 и по 99 персентилю определены полностью верно."
   ]
  },
  {
   "cell_type": "markdown",
   "id": "430038de",
   "metadata": {},
   "source": [
    "## \tСтатистическая значимость различий в конверсии между группами по «сырым» данным. "
   ]
  },
  {
   "cell_type": "code",
   "execution_count": 44,
   "id": "e5f46498",
   "metadata": {
    "ExecuteTime": {
     "end_time": "2022-09-18T21:30:53.887723Z",
     "start_time": "2022-09-18T21:30:53.795960Z"
    }
   },
   "outputs": [],
   "source": [
    "visitorsADaily = visitors[visitors['group'] == 'A'][['date', 'visitors']]\n",
    "visitorsADaily.columns = ['date', 'visitorsPerDateA']\n",
    "\n",
    "visitorsACummulative = visitorsADaily.apply(\n",
    "    lambda x: visitorsADaily[visitorsADaily['date'] <= x['date']].agg(\n",
    "        {'date': 'max', 'visitorsPerDateA': 'sum'}\n",
    "    ),\n",
    "    axis=1,\n",
    ")\n",
    "visitorsACummulative.columns = ['date', 'visitorsCummulativeA']\n",
    "\n",
    "visitorsBDaily = visitors[visitors['group'] == 'B'][['date', 'visitors']]\n",
    "visitorsBDaily.columns = ['date', 'visitorsPerDateB']\n",
    "\n",
    "visitorsBCummulative = visitorsBDaily.apply(\n",
    "    lambda x: visitorsBDaily[visitorsBDaily['date'] <= x['date']].agg(\n",
    "        {'date': 'max', 'visitorsPerDateB': 'sum'}\n",
    "    ),\n",
    "    axis=1,\n",
    ")\n",
    "visitorsBCummulative.columns = ['date', 'visitorsCummulativeB']\n",
    "\n"
   ]
  },
  {
   "cell_type": "code",
   "execution_count": 45,
   "id": "11868d0b",
   "metadata": {
    "ExecuteTime": {
     "end_time": "2022-09-18T21:30:54.011431Z",
     "start_time": "2022-09-18T21:30:53.888718Z"
    }
   },
   "outputs": [
    {
     "data": {
      "text/html": [
       "<div>\n",
       "<style scoped>\n",
       "    .dataframe tbody tr th:only-of-type {\n",
       "        vertical-align: middle;\n",
       "    }\n",
       "\n",
       "    .dataframe tbody tr th {\n",
       "        vertical-align: top;\n",
       "    }\n",
       "\n",
       "    .dataframe thead th {\n",
       "        text-align: right;\n",
       "    }\n",
       "</style>\n",
       "<table border=\"1\" class=\"dataframe\">\n",
       "  <thead>\n",
       "    <tr style=\"text-align: right;\">\n",
       "      <th></th>\n",
       "      <th>date</th>\n",
       "      <th>ordersPerDateA</th>\n",
       "      <th>revenuePerDateA</th>\n",
       "      <th>ordersPerDateB</th>\n",
       "      <th>revenuePerDateB</th>\n",
       "      <th>ordersCummulativeA</th>\n",
       "      <th>revenueCummulativeA</th>\n",
       "      <th>ordersCummulativeB</th>\n",
       "      <th>revenueCummulativeB</th>\n",
       "      <th>visitorsPerDateA</th>\n",
       "      <th>visitorsPerDateB</th>\n",
       "      <th>visitorsCummulativeA</th>\n",
       "      <th>visitorsCummulativeB</th>\n",
       "    </tr>\n",
       "  </thead>\n",
       "  <tbody>\n",
       "    <tr>\n",
       "      <th>0</th>\n",
       "      <td>2019-08-01</td>\n",
       "      <td>23</td>\n",
       "      <td>142779</td>\n",
       "      <td>17</td>\n",
       "      <td>59758</td>\n",
       "      <td>23</td>\n",
       "      <td>142779</td>\n",
       "      <td>17</td>\n",
       "      <td>59758</td>\n",
       "      <td>719</td>\n",
       "      <td>713</td>\n",
       "      <td>719</td>\n",
       "      <td>713</td>\n",
       "    </tr>\n",
       "    <tr>\n",
       "      <th>1</th>\n",
       "      <td>2019-08-02</td>\n",
       "      <td>19</td>\n",
       "      <td>91602</td>\n",
       "      <td>23</td>\n",
       "      <td>162043</td>\n",
       "      <td>42</td>\n",
       "      <td>234381</td>\n",
       "      <td>40</td>\n",
       "      <td>221801</td>\n",
       "      <td>619</td>\n",
       "      <td>581</td>\n",
       "      <td>1338</td>\n",
       "      <td>1294</td>\n",
       "    </tr>\n",
       "    <tr>\n",
       "      <th>2</th>\n",
       "      <td>2019-08-03</td>\n",
       "      <td>24</td>\n",
       "      <td>112473</td>\n",
       "      <td>14</td>\n",
       "      <td>67049</td>\n",
       "      <td>66</td>\n",
       "      <td>346854</td>\n",
       "      <td>54</td>\n",
       "      <td>288850</td>\n",
       "      <td>507</td>\n",
       "      <td>509</td>\n",
       "      <td>1845</td>\n",
       "      <td>1803</td>\n",
       "    </tr>\n",
       "    <tr>\n",
       "      <th>3</th>\n",
       "      <td>2019-08-04</td>\n",
       "      <td>11</td>\n",
       "      <td>41176</td>\n",
       "      <td>14</td>\n",
       "      <td>96890</td>\n",
       "      <td>77</td>\n",
       "      <td>388030</td>\n",
       "      <td>68</td>\n",
       "      <td>385740</td>\n",
       "      <td>717</td>\n",
       "      <td>770</td>\n",
       "      <td>2562</td>\n",
       "      <td>2573</td>\n",
       "    </tr>\n",
       "    <tr>\n",
       "      <th>4</th>\n",
       "      <td>2019-08-05</td>\n",
       "      <td>22</td>\n",
       "      <td>86383</td>\n",
       "      <td>21</td>\n",
       "      <td>89908</td>\n",
       "      <td>99</td>\n",
       "      <td>474413</td>\n",
       "      <td>89</td>\n",
       "      <td>475648</td>\n",
       "      <td>756</td>\n",
       "      <td>707</td>\n",
       "      <td>3318</td>\n",
       "      <td>3280</td>\n",
       "    </tr>\n",
       "  </tbody>\n",
       "</table>\n",
       "</div>"
      ],
      "text/plain": [
       "        date  ordersPerDateA  revenuePerDateA  ordersPerDateB  \\\n",
       "0 2019-08-01              23           142779              17   \n",
       "1 2019-08-02              19            91602              23   \n",
       "2 2019-08-03              24           112473              14   \n",
       "3 2019-08-04              11            41176              14   \n",
       "4 2019-08-05              22            86383              21   \n",
       "\n",
       "   revenuePerDateB  ordersCummulativeA  revenueCummulativeA  \\\n",
       "0            59758                  23               142779   \n",
       "1           162043                  42               234381   \n",
       "2            67049                  66               346854   \n",
       "3            96890                  77               388030   \n",
       "4            89908                  99               474413   \n",
       "\n",
       "   ordersCummulativeB  revenueCummulativeB  visitorsPerDateA  \\\n",
       "0                  17                59758               719   \n",
       "1                  40               221801               619   \n",
       "2                  54               288850               507   \n",
       "3                  68               385740               717   \n",
       "4                  89               475648               756   \n",
       "\n",
       "   visitorsPerDateB  visitorsCummulativeA  visitorsCummulativeB  \n",
       "0               713                   719                   713  \n",
       "1               581                  1338                  1294  \n",
       "2               509                  1845                  1803  \n",
       "3               770                  2562                  2573  \n",
       "4               707                  3318                  3280  "
      ]
     },
     "metadata": {},
     "output_type": "display_data"
    }
   ],
   "source": [
    "ordersADaily = (\n",
    "    orders[orders['group'] == 'A'][['date', 'transactionId', 'visitorId', 'revenue']]\n",
    "    .groupby('date', as_index=False)\n",
    "    .agg({'transactionId': pd.Series.nunique, 'revenue': 'sum'})\n",
    ")\n",
    "ordersADaily.columns = ['date', 'ordersPerDateA', 'revenuePerDateA']\n",
    "\n",
    "ordersACummulative = ordersADaily.apply(\n",
    "    lambda x: ordersADaily[ordersADaily['date'] <= x['date']].agg(\n",
    "        {'date': 'max', 'ordersPerDateA': 'sum', 'revenuePerDateA': 'sum'}\n",
    "    ),\n",
    "    axis=1,\n",
    ").sort_values(by=['date'])\n",
    "ordersACummulative.columns = [\n",
    "    'date',\n",
    "    'ordersCummulativeA',\n",
    "    'revenueCummulativeA',\n",
    "]\n",
    "\n",
    "ordersBDaily = (\n",
    "    orders[orders['group'] == 'B'][['date', 'transactionId', 'visitorId', 'revenue']]\n",
    "    .groupby('date', as_index=False)\n",
    "    .agg({'transactionId': pd.Series.nunique, 'revenue': 'sum'})\n",
    ")\n",
    "ordersBDaily.columns = ['date', 'ordersPerDateB', 'revenuePerDateB']\n",
    "\n",
    "ordersBCummulative = ordersBDaily.apply(\n",
    "    lambda x: ordersBDaily[ordersBDaily['date'] <= x['date']].agg(\n",
    "        {'date': 'max', 'ordersPerDateB': 'sum', 'revenuePerDateB': 'sum'}\n",
    "    ),\n",
    "    axis=1,\n",
    ").sort_values(by=['date'])\n",
    "ordersBCummulative.columns = [\n",
    "    'date',\n",
    "    'ordersCummulativeB',\n",
    "    'revenueCummulativeB',\n",
    "]\n",
    "\n",
    "data = (\n",
    "    ordersADaily.merge(\n",
    "        ordersBDaily, left_on='date', right_on='date', how='left'\n",
    "    )\n",
    "    .merge(ordersACummulative, left_on='date', right_on='date', how='left')\n",
    "    .merge(ordersBCummulative, left_on='date', right_on='date', how='left')\n",
    "    .merge(visitorsADaily, left_on='date', right_on='date', how='left')\n",
    "    .merge(visitorsBDaily, left_on='date', right_on='date', how='left')\n",
    "    .merge(visitorsACummulative, left_on='date', right_on='date', how='left')\n",
    "    .merge(visitorsBCummulative, left_on='date', right_on='date', how='left')\n",
    ")\n",
    "\n",
    "display(data.head())"
   ]
  },
  {
   "cell_type": "code",
   "execution_count": 46,
   "id": "12c53dc0",
   "metadata": {
    "ExecuteTime": {
     "end_time": "2022-09-18T21:30:54.088819Z",
     "start_time": "2022-09-18T21:30:54.012387Z"
    }
   },
   "outputs": [],
   "source": [
    "ordersByUsersA = (\n",
    "    orders[orders['group'] == 'A']\n",
    "    .groupby('visitorId', as_index=False)\n",
    "    .agg({'transactionId': pd.Series.nunique})\n",
    ")\n",
    "ordersByUsersA.columns = ['userId', 'orders']\n",
    "\n",
    "ordersByUsersB = (\n",
    "    orders[orders['group'] == 'B']\n",
    "    .groupby('visitorId', as_index=False)\n",
    "    .agg({'transactionId': pd.Series.nunique})\n",
    ")\n",
    "ordersByUsersB.columns = ['userId', 'orders']"
   ]
  },
  {
   "cell_type": "code",
   "execution_count": 47,
   "id": "8a7625cb",
   "metadata": {
    "ExecuteTime": {
     "end_time": "2022-09-18T21:30:54.104592Z",
     "start_time": "2022-09-18T21:30:54.090629Z"
    }
   },
   "outputs": [],
   "source": [
    "sampleA = pd.concat([ordersByUsersA['orders'],pd.Series(0, index=np.arange(data['visitorsPerDateA'].sum() - len(ordersByUsersA['orders'])), name='orders')],axis=0)\n",
    "\n",
    "sampleB = pd.concat([ordersByUsersB['orders'],pd.Series(0, index=np.arange(data['visitorsPerDateB'].sum() - len(ordersByUsersB['orders'])), name='orders')],axis=0)"
   ]
  },
  {
   "cell_type": "markdown",
   "id": "add3ae7a",
   "metadata": {},
   "source": [
    "**Сформулируем гипотезы. Нулевая: статистически значимых различий в конверсии между группами нет. Альтернативная: статистически значимые различия в конверсии между группами есть.**"
   ]
  },
  {
   "cell_type": "code",
   "execution_count": 48,
   "id": "ab1215a8",
   "metadata": {
    "ExecuteTime": {
     "end_time": "2022-09-18T21:30:54.135115Z",
     "start_time": "2022-09-18T21:30:54.106585Z"
    }
   },
   "outputs": [
    {
     "name": "stdout",
     "output_type": "stream",
     "text": [
      "alpha = 0.05\n",
      "p-value = 0.011\n",
      "Относительный показатель B и A = 0.160\n"
     ]
    }
   ],
   "source": [
    "print(\"alpha =\",0.05)\n",
    "\n",
    "print(\"p-value = {0:.3f}\".format(stats.mannwhitneyu(sampleA, sampleB)[1]))\n",
    "\n",
    "print('Относительный показатель B и A = {0:.3f}'.format(sampleB.mean() / sampleA.mean() - 1))"
   ]
  },
  {
   "cell_type": "markdown",
   "id": "bfcedd80",
   "metadata": {},
   "source": [
    "**Вывод:**\n",
    "\n",
    "\"Сырые\" данные говорят, что в конверсии между группами есть значимые различия: первое число p-value 0.011 меньше 0.05. Значит отвергаем нулевую гипотезу. При этом относительный выигрышь гр В над гр А составляет 16%"
   ]
  },
  {
   "cell_type": "code",
   "execution_count": null,
   "id": "c585031d",
   "metadata": {},
   "outputs": [],
   "source": []
  },
  {
   "cell_type": "markdown",
   "id": "a1358e0f",
   "metadata": {},
   "source": [
    "## \tСтатистическая значимость различий в среднем чеке заказа между группами по «сырым» данным. "
   ]
  },
  {
   "cell_type": "markdown",
   "id": "980b52e8",
   "metadata": {},
   "source": [
    "**Сформулируем гипотезы. Нулевая: различий в среднем чеке заказа между группами нет. Альтернативная: различия в среднем чеке между группами есть.**"
   ]
  },
  {
   "cell_type": "markdown",
   "id": "f51c1b79",
   "metadata": {},
   "source": [
    "<div class=\"alert alert-block alert-success\">\n",
    "<b>Комментарий ревьюера v1:</b>\n",
    "    \n",
    "Гипотезы сформлированы верно. "
   ]
  },
  {
   "cell_type": "markdown",
   "id": "c3109995",
   "metadata": {},
   "source": [
    "Применим статистический критерий Манна-Уитни к полученным выборкам:"
   ]
  },
  {
   "cell_type": "code",
   "execution_count": 49,
   "id": "d1182a45",
   "metadata": {
    "ExecuteTime": {
     "end_time": "2022-09-18T21:30:54.151112Z",
     "start_time": "2022-09-18T21:30:54.136109Z"
    }
   },
   "outputs": [
    {
     "name": "stdout",
     "output_type": "stream",
     "text": [
      "alpha = 0.05\n",
      "p-value = 0.829\n",
      "Относительный показатель B и A = 0.287\n"
     ]
    }
   ],
   "source": [
    "print(\"alpha =\",0.05)\n",
    "print('p-value = {0:.3f}'.format(stats.mannwhitneyu(orders[orders['group']=='A']['revenue'], orders[orders['group']=='B']['revenue'])[1]))\n",
    "print('Относительный показатель B и A = {0:.3f}'.format(orders[orders['group']=='B']['revenue'].mean()/orders[orders['group']=='A']['revenue'].mean()-1))"
   ]
  },
  {
   "cell_type": "markdown",
   "id": "cd003a21",
   "metadata": {},
   "source": [
    "**Вывод:**\n",
    "\n",
    "По «сырым» данным различий в среднем числе заказов групп A и B нет.\n",
    "Первое число — p-value = 0.829 больше 0.05. Значит, нулевую гипотезу о том, что статистически значимых различий в среднем чеке заказа между группами нет, не отвергаем. Однако относительный выигрыш группы B над группой А равен 28.7% — второе число в выводе."
   ]
  },
  {
   "cell_type": "code",
   "execution_count": null,
   "id": "6e373242",
   "metadata": {},
   "outputs": [],
   "source": []
  },
  {
   "cell_type": "markdown",
   "id": "067f1f99",
   "metadata": {},
   "source": [
    "## \tСтатистическая значимость различий в конверсии между группами по «очищенным» данным."
   ]
  },
  {
   "cell_type": "markdown",
   "id": "293c0021",
   "metadata": {},
   "source": [
    "Мы уже сделали вывод о том, что заказы в количестве более двух и стоимостью более 58233 считаем статистическими выбросами, поэтому проверим гипотезы, но уже с \"чистыми\" данными:"
   ]
  },
  {
   "cell_type": "markdown",
   "id": "2556e875",
   "metadata": {},
   "source": [
    "Сделаем срезы пользователей с числом заказов больше 2 — usersWithManyOrders и пользователей, совершивших заказы дороже 58 233 — usersWithExpensiveOrders. Объединим их в таблице abnormalUsers.\n",
    "Узнаем, сколько всего аномальных пользователей атрибутом shape."
   ]
  },
  {
   "cell_type": "code",
   "execution_count": 50,
   "id": "c8fc5822",
   "metadata": {
    "ExecuteTime": {
     "end_time": "2022-09-18T21:30:54.166062Z",
     "start_time": "2022-09-18T21:30:54.152070Z"
    }
   },
   "outputs": [
    {
     "name": "stdout",
     "output_type": "stream",
     "text": [
      "1099    148427295\n",
      "33      249864742\n",
      "58      611059232\n",
      "949     887908475\n",
      "744     888512513\n",
      "dtype: int64\n",
      "16\n"
     ]
    }
   ],
   "source": [
    "usersWithManyOrders = pd.concat(\n",
    "    [\n",
    "        ordersByUsersA[ordersByUsersA['orders'] > 2]['userId'],\n",
    "        ordersByUsersB[ordersByUsersB['orders'] > 2]['userId'],\n",
    "    ],\n",
    "    axis=0,\n",
    ")\n",
    "usersWithExpensiveOrders = orders[orders['revenue'] > 53904]['visitorId']\n",
    "abnormalUsers = (\n",
    "    pd.concat([usersWithManyOrders, usersWithExpensiveOrders], axis=0)\n",
    "    .drop_duplicates()\n",
    "    .sort_values()\n",
    ")\n",
    "print(abnormalUsers.head(5))\n",
    "print(abnormalUsers.shape[0])"
   ]
  },
  {
   "cell_type": "markdown",
   "id": "5d32c2cd",
   "metadata": {},
   "source": [
    "<div class=\"alert alert-block alert-warning\">\n",
    "<b>Комментарий ревьюера v1:</b>\n",
    "    \n",
    "Было бы совсем здорово не харкодить границы аномалий. Тут можно использовать код для расчета выбросов или переменную со значением. Это поможет избежать ошибок в будущем, особенно если проект нужно будет прогнать на новых данных."
   ]
  },
  {
   "cell_type": "markdown",
   "id": "078d3554",
   "metadata": {},
   "source": [
    "Всего аномальных пользователей 16"
   ]
  },
  {
   "cell_type": "markdown",
   "id": "51c6eaac",
   "metadata": {},
   "source": [
    "Узнаем, как их действия повлияли на результаты теста. Посчитаем статистическую значимость различий в конверсии между группами по \"чистым\" данным."
   ]
  },
  {
   "cell_type": "code",
   "execution_count": 51,
   "id": "f5c163ff",
   "metadata": {
    "ExecuteTime": {
     "end_time": "2022-09-18T21:30:54.181992Z",
     "start_time": "2022-09-18T21:30:54.168030Z"
    }
   },
   "outputs": [],
   "source": [
    "sampleAFiltered = pd.concat(\n",
    "    [\n",
    "        ordersByUsersA[\n",
    "            np.logical_not(ordersByUsersA['userId'].isin(abnormalUsers))\n",
    "        ]['orders'],\n",
    "        pd.Series(\n",
    "            0,\n",
    "            index=np.arange(\n",
    "                data['visitorsPerDateA'].sum() - len(ordersByUsersA['orders'])\n",
    "            ),\n",
    "            name='orders',\n",
    "        ),\n",
    "    ],\n",
    "    axis=0,\n",
    ")\n",
    "\n",
    "sampleBFiltered = pd.concat(\n",
    "    [\n",
    "        ordersByUsersB[\n",
    "            np.logical_not(ordersByUsersB['userId'].isin(abnormalUsers))\n",
    "        ]['orders'],\n",
    "        pd.Series(\n",
    "            0,\n",
    "            index=np.arange(\n",
    "                data['visitorsPerDateB'].sum() - len(ordersByUsersB['orders'])\n",
    "            ),\n",
    "            name='orders',\n",
    "        ),\n",
    "    ],\n",
    "    axis=0,\n",
    ") "
   ]
  },
  {
   "cell_type": "markdown",
   "id": "b8b0f25a",
   "metadata": {},
   "source": [
    "Применим статистический критерий Манна-Уитни к полученным выборкам:"
   ]
  },
  {
   "cell_type": "code",
   "execution_count": 52,
   "id": "736063c0",
   "metadata": {
    "ExecuteTime": {
     "end_time": "2022-09-18T21:30:54.212938Z",
     "start_time": "2022-09-18T21:30:54.184985Z"
    }
   },
   "outputs": [
    {
     "name": "stdout",
     "output_type": "stream",
     "text": [
      "alpha = 0.05\n",
      "p-value = 0.007\n",
      "Относительный показатель B и A = 0.189\n"
     ]
    }
   ],
   "source": [
    "print(\"alpha =\",0.05)\n",
    "print('p-value = {0:.3f}'.format(stats.mannwhitneyu(sampleAFiltered, sampleBFiltered)[1]))\n",
    "print('Относительный показатель B и A = {0:.3f}'.format(sampleBFiltered.mean()/sampleAFiltered.mean()-1))"
   ]
  },
  {
   "cell_type": "markdown",
   "id": "0d21f266",
   "metadata": {},
   "source": [
    "**Вывод:**\n",
    "\n",
    "\"Чистые\" данные не повлияли на ранее сделанное заключение: первое число p-value 0.007 меньше 0.05. Нулевую гипотезу об отсутствии статистически значимых отличий в конверсии между группами отвергаем. При этом конверсия гр В по прежнему выше конверсии гр А на 18,9%."
   ]
  },
  {
   "cell_type": "code",
   "execution_count": null,
   "id": "551ae1c8",
   "metadata": {},
   "outputs": [],
   "source": []
  },
  {
   "cell_type": "markdown",
   "id": "960c6ad3",
   "metadata": {},
   "source": [
    "## \tПосчитаем статистическую значимость различий в среднем чеке заказа между группами по «очищенным» данным. "
   ]
  },
  {
   "cell_type": "code",
   "execution_count": 53,
   "id": "9d405d2b",
   "metadata": {
    "ExecuteTime": {
     "end_time": "2022-09-18T21:30:54.242863Z",
     "start_time": "2022-09-18T21:30:54.214903Z"
    }
   },
   "outputs": [
    {
     "name": "stdout",
     "output_type": "stream",
     "text": [
      "alpha = 0.05\n",
      "p-value = 0.788\n",
      "Относительный показатель 'B' и 'A' = -0.032\n"
     ]
    }
   ],
   "source": [
    "print(\"alpha =\",0.05)\n",
    "print(\n",
    "    'p-value = {0:.3f}'.format(\n",
    "        stats.mannwhitneyu(\n",
    "            orders[\n",
    "                np.logical_and(\n",
    "                    orders['group'] == 'A',\n",
    "                    np.logical_not(orders['visitorId'].isin(abnormalUsers)),\n",
    "                )\n",
    "            ]['revenue'],\n",
    "            orders[\n",
    "                np.logical_and(\n",
    "                    orders['group'] == 'B',\n",
    "                    np.logical_not(orders['visitorId'].isin(abnormalUsers)),\n",
    "                )\n",
    "            ]['revenue'],\n",
    "        )[1]\n",
    "    )\n",
    ")\n",
    "\n",
    "print(\n",
    "    \"Относительный показатель 'B' и 'A' = {0:.3f}\".format(\n",
    "        orders[\n",
    "            np.logical_and(\n",
    "                orders['group'] == 'B',\n",
    "                np.logical_not(orders['visitorId'].isin(abnormalUsers)),\n",
    "            )\n",
    "        ]['revenue'].mean()\n",
    "        / orders[\n",
    "            np.logical_and(\n",
    "                orders['group'] == 'A',\n",
    "                np.logical_not(orders['visitorId'].isin(abnormalUsers)),\n",
    "            )\n",
    "        ]['revenue'].mean()\n",
    "        - 1\n",
    "    )\n",
    ")"
   ]
  },
  {
   "cell_type": "markdown",
   "id": "33ac8618",
   "metadata": {},
   "source": [
    "**Вывод:**\n",
    "\n",
    "По «чистым» данным различий в среднем числе заказов групп A и B нет.\n",
    "Первое число — p-value = 0.788 значительно больше 0.05. Значит нулевую гипотезу о том, что статистически значимых различий в среднем чеке заказа между группами нет, не отвергаем. Необходимо отметить, что разница между средним чеком группы В и группы А незначительна - всего 3% в пользу гр А. Полагаю, что в данном случае мы видим влияние того единственного аномального заказа на сумму 1,3 млн 19 августа."
   ]
  },
  {
   "cell_type": "markdown",
   "id": "0c9620c5",
   "metadata": {},
   "source": [
    "<div class=\"alert alert-block alert-success\">\n",
    "<b>Комментарий ревьюера v1:</b>\n",
    "    \n",
    "Отлично, у тебя верные результаты для всех статистических тестов. "
   ]
  },
  {
   "cell_type": "markdown",
   "id": "0c4e3ed9",
   "metadata": {},
   "source": [
    "## \tРешение по результатам теста. "
   ]
  },
  {
   "cell_type": "markdown",
   "id": "5f1c255c",
   "metadata": {},
   "source": [
    "На анализ А/В теста были предоставлены данные в дата фреймах orders и visitors. Данные предоставлены за период с 1 по 31 августа и сгруппированы по двум группам. У данных нет пропусков и дубликатов.\n",
    "В целях проведения А/В теста были выдвинуты гипотезы: основные - статистически значимых различий в конверсии и среднем чеке заказа между группами нет, а также альтернативные гипотезы – статистически значимые различия в конверсии и среднем чеке заказа между группами есть\n",
    "В рамках анализы были выполнены следующие шаги:\n",
    "- построен график кумулятивной выручки по группам;\n",
    "- график кумулятивного среднего чека по группам;\n",
    "- график относительного изменения кумулятивного среднего чека одной группы к другой;\n",
    "- график кумулятивной конверсии по группам;\n",
    "- график относительного изменения кумулятивной конверсии одной группы к другой;\n",
    "- для определения выбросов были рассчитаны перцентили;\n",
    "- были посчитаны статистические значимости различий в конверсии и среднем чеке заказа по «сырым» и «очищенным» данным. В данном шаге использовался метод Манна-Уитни\n"
   ]
  },
  {
   "cell_type": "markdown",
   "id": "a9211b09",
   "metadata": {
    "ExecuteTime": {
     "end_time": "2022-09-18T19:23:27.120812Z",
     "start_time": "2022-09-18T19:23:27.092316Z"
    }
   },
   "source": [
    "**По результатм проведенного теста можно сделать следующие выводы:**\n",
    "\n",
    " - Есть статистически значимые различия в конверсии между группами А и В и это показали тесты как с \"сырыми\" данными, так и с \"очищенными\". Относительные выигрыш группы В на группой А составляет 18,9% по \"очищенным\" данным и 16% по \"сырым\".\n",
    "\n",
    " - Тесты по \"сырым\" и \"очищенным\" данным, также показали отсутствие статистически значимых отличий в среднем чеке между группами. При этом на результаты анализа на основе \"сырых\" данных влиял выброс в виде заказа на сумму 1,3 млн от 19 августа. В этом случае анализ показал что средний чек группы В на 28,7% выше среднего чека по группе А. После того как данные были очищены и данные выброс перестал оказывать влияние разница между средними чеками групп стала минимальной и составила 3%\n",
    " \n",
    " \n"
   ]
  },
  {
   "cell_type": "markdown",
   "id": "d823ef14",
   "metadata": {},
   "source": [
    "**Исходя из полученных данных А/В тест можно признать успешным, прекратить его и зафиксировать победу группы В:** \n",
    "\n",
    "**- группа В значительно выигрывает по конверсии**\n",
    "\n",
    "**- по сумме среднего чека группы примерно одинаковы** "
   ]
  },
  {
   "cell_type": "markdown",
   "id": "194509fc",
   "metadata": {},
   "source": [
    "<div class=\"alert alert-block alert-success\">\n",
    "<b>Комментарий ревьюера v1:</b>\n",
    "    \n",
    "    \n",
    "Спасибо за проделанную работу и классный проект  🤝\n",
    "\n",
    "Отличное исследование с правильными промежуточными выводами, чистым кодом и хорошей визуализацией. У тебя получилось верно применить фреймворки для тестирования гипотез, выявить аномалии в данных и провести все статистические проверки. \n",
    "    \n",
    "Также полностью согласен с твоими итогами теста. В данном проекте можно попасть в \"ловушку подглядывания\" и ждать пока появится разница в средних чеках, но делать так неправильно. Подробнее почитать можно тут: https://gopractice.ru/how-not-to-analyze-abtests/\n",
    "    \n",
    "    "
   ]
  },
  {
   "cell_type": "markdown",
   "id": "aeaac1d2",
   "metadata": {},
   "source": [
    "<div class=\"alert alert-warning\">\n",
    "<b>Комментарий ревьюера v1:</b>\n",
    "    \n",
    "Тем не менее общие выводы в данном случае это мини-презентация всей работы перед бизнес-заказчиком. На реальном проекте это, возможно, единственное, что бизнес будет читать. Поэтому необходимо структурировано указывать развернутые комментарии ко всем выводам, которые ты получил по каждому пункту работы.\n"
   ]
  },
  {
   "cell_type": "markdown",
   "id": "d1a9098b",
   "metadata": {},
   "source": [
    "<div class=\"alert alert-info\"> <b>Комментарий студента:\n",
    "    </b>Немного дополнил финальную часть проекта</div>"
   ]
  },
  {
   "cell_type": "markdown",
   "id": "a2287757",
   "metadata": {},
   "source": [
    "<div class=\"alert alert-block alert-success\">\n",
    "<b>Комментарий ревьюера v2:</b>\n",
    "    \n",
    "Спасибо, что расширил общие выводы. Теперь все отлично."
   ]
  }
 ],
 "metadata": {
  "ExecuteTimeLog": [
   {
    "duration": 1287,
    "start_time": "2022-09-17T09:50:39.572Z"
   },
   {
    "duration": 240,
    "start_time": "2022-09-17T09:50:40.861Z"
   },
   {
    "duration": 19,
    "start_time": "2022-09-17T09:50:41.102Z"
   },
   {
    "duration": 11,
    "start_time": "2022-09-17T09:50:41.123Z"
   },
   {
    "duration": 11,
    "start_time": "2022-09-17T09:50:41.137Z"
   },
   {
    "duration": 14,
    "start_time": "2022-09-17T09:50:41.149Z"
   },
   {
    "duration": 4,
    "start_time": "2022-09-17T09:50:41.164Z"
   },
   {
    "duration": 18,
    "start_time": "2022-09-17T09:50:41.177Z"
   },
   {
    "duration": 8,
    "start_time": "2022-09-17T09:50:41.199Z"
   },
   {
    "duration": 7,
    "start_time": "2022-09-17T09:50:41.208Z"
   },
   {
    "duration": 14,
    "start_time": "2022-09-17T09:50:41.216Z"
   },
   {
    "duration": 6,
    "start_time": "2022-09-17T09:50:41.232Z"
   },
   {
    "duration": 12,
    "start_time": "2022-09-17T09:50:41.239Z"
   },
   {
    "duration": 15,
    "start_time": "2022-09-17T09:50:41.254Z"
   },
   {
    "duration": 23,
    "start_time": "2022-09-17T09:50:41.270Z"
   },
   {
    "duration": 12,
    "start_time": "2022-09-17T09:50:41.295Z"
   },
   {
    "duration": 10,
    "start_time": "2022-09-17T09:50:41.309Z"
   },
   {
    "duration": 6,
    "start_time": "2022-09-17T09:50:41.321Z"
   },
   {
    "duration": 174,
    "start_time": "2022-09-17T09:50:41.329Z"
   },
   {
    "duration": 131,
    "start_time": "2022-09-17T09:50:41.505Z"
   },
   {
    "duration": 13,
    "start_time": "2022-09-17T09:50:41.639Z"
   },
   {
    "duration": 340,
    "start_time": "2022-09-17T09:50:41.653Z"
   },
   {
    "duration": 10,
    "start_time": "2022-09-17T09:50:41.995Z"
   },
   {
    "duration": 10,
    "start_time": "2022-09-17T09:50:42.007Z"
   },
   {
    "duration": 235,
    "start_time": "2022-09-17T09:50:42.018Z"
   },
   {
    "duration": 395,
    "start_time": "2022-09-17T09:50:42.255Z"
   },
   {
    "duration": 288,
    "start_time": "2022-09-17T09:50:42.652Z"
   },
   {
    "duration": 360,
    "start_time": "2022-09-17T09:50:42.942Z"
   },
   {
    "duration": 9,
    "start_time": "2022-09-17T09:50:43.303Z"
   },
   {
    "duration": 176,
    "start_time": "2022-09-17T09:50:43.314Z"
   },
   {
    "duration": 5,
    "start_time": "2022-09-17T09:50:43.492Z"
   },
   {
    "duration": 8,
    "start_time": "2022-09-17T09:50:43.498Z"
   },
   {
    "duration": 203,
    "start_time": "2022-09-17T09:50:43.507Z"
   },
   {
    "duration": 333,
    "start_time": "2022-09-17T09:50:43.711Z"
   },
   {
    "duration": 5,
    "start_time": "2022-09-17T09:50:44.045Z"
   },
   {
    "duration": 106,
    "start_time": "2022-09-17T09:50:44.052Z"
   },
   {
    "duration": 251,
    "start_time": "2022-09-17T09:50:44.159Z"
   },
   {
    "duration": 301,
    "start_time": "2022-09-17T09:50:44.411Z"
   },
   {
    "duration": 5,
    "start_time": "2022-09-17T09:50:44.714Z"
   },
   {
    "duration": 80,
    "start_time": "2022-09-17T09:50:44.721Z"
   },
   {
    "duration": 10,
    "start_time": "2022-09-17T09:50:44.805Z"
   },
   {
    "duration": 67,
    "start_time": "2022-09-17T09:50:44.817Z"
   },
   {
    "duration": 17,
    "start_time": "2022-09-17T09:50:44.887Z"
   },
   {
    "duration": 79,
    "start_time": "2022-09-17T09:50:44.906Z"
   },
   {
    "duration": 19,
    "start_time": "2022-09-17T09:50:44.986Z"
   },
   {
    "duration": 1361,
    "start_time": "2022-09-19T08:32:09.415Z"
   },
   {
    "duration": 186,
    "start_time": "2022-09-19T08:32:10.779Z"
   },
   {
    "duration": 19,
    "start_time": "2022-09-19T08:32:10.967Z"
   },
   {
    "duration": 13,
    "start_time": "2022-09-19T08:32:10.989Z"
   },
   {
    "duration": 16,
    "start_time": "2022-09-19T08:32:11.004Z"
   },
   {
    "duration": 15,
    "start_time": "2022-09-19T08:32:11.022Z"
   },
   {
    "duration": 6,
    "start_time": "2022-09-19T08:32:11.039Z"
   },
   {
    "duration": 10,
    "start_time": "2022-09-19T08:32:11.047Z"
   },
   {
    "duration": 5,
    "start_time": "2022-09-19T08:32:11.058Z"
   },
   {
    "duration": 5,
    "start_time": "2022-09-19T08:32:11.094Z"
   },
   {
    "duration": 14,
    "start_time": "2022-09-19T08:32:11.101Z"
   },
   {
    "duration": 7,
    "start_time": "2022-09-19T08:32:11.117Z"
   },
   {
    "duration": 11,
    "start_time": "2022-09-19T08:32:11.125Z"
   },
   {
    "duration": 12,
    "start_time": "2022-09-19T08:32:11.138Z"
   },
   {
    "duration": 10,
    "start_time": "2022-09-19T08:32:11.152Z"
   },
   {
    "duration": 10,
    "start_time": "2022-09-19T08:32:11.164Z"
   },
   {
    "duration": 27,
    "start_time": "2022-09-19T08:32:11.176Z"
   },
   {
    "duration": 7,
    "start_time": "2022-09-19T08:32:11.205Z"
   },
   {
    "duration": 13,
    "start_time": "2022-09-19T08:32:11.213Z"
   },
   {
    "duration": 7,
    "start_time": "2022-09-19T08:32:11.227Z"
   },
   {
    "duration": 11,
    "start_time": "2022-09-19T08:32:11.235Z"
   },
   {
    "duration": 13,
    "start_time": "2022-09-19T08:32:11.247Z"
   },
   {
    "duration": 36,
    "start_time": "2022-09-19T08:32:11.261Z"
   },
   {
    "duration": 10,
    "start_time": "2022-09-19T08:32:11.299Z"
   },
   {
    "duration": 11,
    "start_time": "2022-09-19T08:32:11.311Z"
   },
   {
    "duration": 6,
    "start_time": "2022-09-19T08:32:11.324Z"
   },
   {
    "duration": 198,
    "start_time": "2022-09-19T08:32:11.331Z"
   },
   {
    "duration": 137,
    "start_time": "2022-09-19T08:32:11.533Z"
   },
   {
    "duration": 13,
    "start_time": "2022-09-19T08:32:11.672Z"
   },
   {
    "duration": 324,
    "start_time": "2022-09-19T08:32:11.686Z"
   },
   {
    "duration": 10,
    "start_time": "2022-09-19T08:32:12.012Z"
   },
   {
    "duration": 13,
    "start_time": "2022-09-19T08:32:12.023Z"
   },
   {
    "duration": 260,
    "start_time": "2022-09-19T08:32:12.037Z"
   },
   {
    "duration": 369,
    "start_time": "2022-09-19T08:32:12.299Z"
   },
   {
    "duration": 285,
    "start_time": "2022-09-19T08:32:12.669Z"
   },
   {
    "duration": 372,
    "start_time": "2022-09-19T08:32:12.955Z"
   },
   {
    "duration": 13,
    "start_time": "2022-09-19T08:32:13.329Z"
   },
   {
    "duration": 211,
    "start_time": "2022-09-19T08:32:13.344Z"
   },
   {
    "duration": 4,
    "start_time": "2022-09-19T08:32:13.557Z"
   },
   {
    "duration": 14,
    "start_time": "2022-09-19T08:32:13.563Z"
   },
   {
    "duration": 200,
    "start_time": "2022-09-19T08:32:13.579Z"
   },
   {
    "duration": 280,
    "start_time": "2022-09-19T08:32:13.780Z"
   },
   {
    "duration": 5,
    "start_time": "2022-09-19T08:32:14.062Z"
   },
   {
    "duration": 95,
    "start_time": "2022-09-19T08:32:14.069Z"
   },
   {
    "duration": 157,
    "start_time": "2022-09-19T08:32:14.166Z"
   },
   {
    "duration": 141,
    "start_time": "2022-09-19T08:32:14.324Z"
   },
   {
    "duration": 7,
    "start_time": "2022-09-19T08:32:14.466Z"
   },
   {
    "duration": 40,
    "start_time": "2022-09-19T08:32:14.474Z"
   },
   {
    "duration": 10,
    "start_time": "2022-09-19T08:32:14.516Z"
   },
   {
    "duration": 9,
    "start_time": "2022-09-19T08:32:14.528Z"
   },
   {
    "duration": 13,
    "start_time": "2022-09-19T08:32:14.538Z"
   },
   {
    "duration": 43,
    "start_time": "2022-09-19T08:32:14.552Z"
   },
   {
    "duration": 14,
    "start_time": "2022-09-19T08:32:14.597Z"
   }
  ],
  "kernelspec": {
   "display_name": "Python 3 (ipykernel)",
   "language": "python",
   "name": "python3"
  },
  "language_info": {
   "codemirror_mode": {
    "name": "ipython",
    "version": 3
   },
   "file_extension": ".py",
   "mimetype": "text/x-python",
   "name": "python",
   "nbconvert_exporter": "python",
   "pygments_lexer": "ipython3",
   "version": "3.9.13"
  },
  "toc": {
   "base_numbering": 1,
   "nav_menu": {},
   "number_sections": true,
   "sideBar": true,
   "skip_h1_title": true,
   "title_cell": "Table of Contents",
   "title_sidebar": "Contents",
   "toc_cell": false,
   "toc_position": {
    "height": "calc(100% - 180px)",
    "left": "10px",
    "top": "150px",
    "width": "351px"
   },
   "toc_section_display": true,
   "toc_window_display": true
  }
 },
 "nbformat": 4,
 "nbformat_minor": 5
}
