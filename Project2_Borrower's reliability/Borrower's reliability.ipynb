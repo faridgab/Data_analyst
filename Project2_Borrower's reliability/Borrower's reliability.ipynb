{
 "cells": [
  {
   "cell_type": "markdown",
   "id": "c81daeeb",
   "metadata": {
    "deletable": false,
    "id": "c81daeeb"
   },
   "source": [
    "# Исследование надежности заемщиков\n"
   ]
  },
  {
   "cell_type": "markdown",
   "id": "744d7639",
   "metadata": {
    "deletable": false,
    "id": "744d7639"
   },
   "source": [
    "## Откроем таблицу и изучим общую информацию о данных"
   ]
  },
  {
   "cell_type": "markdown",
   "id": "e7a14c31",
   "metadata": {
    "deletable": false,
    "id": "e7a14c31"
   },
   "source": [
    "Импортируем библиотеку pandas. Прочитаем данные из csv-файла в датафрейм и сохраним в переменную `data`. "
   ]
  },
  {
   "cell_type": "code",
   "execution_count": 1,
   "id": "7bcf75c9",
   "metadata": {
    "ExecuteTime": {
     "end_time": "2023-02-02T13:07:13.280727Z",
     "start_time": "2023-02-02T13:07:12.341488Z"
    },
    "deletable": false,
    "id": "7bcf75c9"
   },
   "outputs": [],
   "source": [
    "import pandas as pd\n",
    "\n",
    "try:\n",
    "    data = pd.read_csv('data.csv')\n",
    "except:\n",
    "    data = pd.read_csv('https://code.s3.yandex.net/datasets/data.csv')"
   ]
  },
  {
   "cell_type": "markdown",
   "id": "b8038fe3",
   "metadata": {
    "deletable": false,
    "id": "b8038fe3"
   },
   "source": [
    "Выведем первые 10 строк датафрейма `data` на экран."
   ]
  },
  {
   "cell_type": "code",
   "execution_count": 2,
   "id": "2a7cab99",
   "metadata": {
    "ExecuteTime": {
     "end_time": "2023-02-02T13:07:13.327620Z",
     "start_time": "2023-02-02T13:07:13.285744Z"
    },
    "deletable": false,
    "id": "2a7cab99",
    "outputId": "1a8f3ef2-d323-4ec2-ddf7-89670b5944c4"
   },
   "outputs": [
    {
     "data": {
      "text/html": [
       "<div>\n",
       "<style scoped>\n",
       "    .dataframe tbody tr th:only-of-type {\n",
       "        vertical-align: middle;\n",
       "    }\n",
       "\n",
       "    .dataframe tbody tr th {\n",
       "        vertical-align: top;\n",
       "    }\n",
       "\n",
       "    .dataframe thead th {\n",
       "        text-align: right;\n",
       "    }\n",
       "</style>\n",
       "<table border=\"1\" class=\"dataframe\">\n",
       "  <thead>\n",
       "    <tr style=\"text-align: right;\">\n",
       "      <th></th>\n",
       "      <th>children</th>\n",
       "      <th>days_employed</th>\n",
       "      <th>dob_years</th>\n",
       "      <th>education</th>\n",
       "      <th>education_id</th>\n",
       "      <th>family_status</th>\n",
       "      <th>family_status_id</th>\n",
       "      <th>gender</th>\n",
       "      <th>income_type</th>\n",
       "      <th>debt</th>\n",
       "      <th>total_income</th>\n",
       "      <th>purpose</th>\n",
       "    </tr>\n",
       "  </thead>\n",
       "  <tbody>\n",
       "    <tr>\n",
       "      <th>0</th>\n",
       "      <td>1</td>\n",
       "      <td>-8437.673028</td>\n",
       "      <td>42</td>\n",
       "      <td>высшее</td>\n",
       "      <td>0</td>\n",
       "      <td>женат / замужем</td>\n",
       "      <td>0</td>\n",
       "      <td>F</td>\n",
       "      <td>сотрудник</td>\n",
       "      <td>0</td>\n",
       "      <td>253875.639453</td>\n",
       "      <td>покупка жилья</td>\n",
       "    </tr>\n",
       "    <tr>\n",
       "      <th>1</th>\n",
       "      <td>1</td>\n",
       "      <td>-4024.803754</td>\n",
       "      <td>36</td>\n",
       "      <td>среднее</td>\n",
       "      <td>1</td>\n",
       "      <td>женат / замужем</td>\n",
       "      <td>0</td>\n",
       "      <td>F</td>\n",
       "      <td>сотрудник</td>\n",
       "      <td>0</td>\n",
       "      <td>112080.014102</td>\n",
       "      <td>приобретение автомобиля</td>\n",
       "    </tr>\n",
       "    <tr>\n",
       "      <th>2</th>\n",
       "      <td>0</td>\n",
       "      <td>-5623.422610</td>\n",
       "      <td>33</td>\n",
       "      <td>Среднее</td>\n",
       "      <td>1</td>\n",
       "      <td>женат / замужем</td>\n",
       "      <td>0</td>\n",
       "      <td>M</td>\n",
       "      <td>сотрудник</td>\n",
       "      <td>0</td>\n",
       "      <td>145885.952297</td>\n",
       "      <td>покупка жилья</td>\n",
       "    </tr>\n",
       "    <tr>\n",
       "      <th>3</th>\n",
       "      <td>3</td>\n",
       "      <td>-4124.747207</td>\n",
       "      <td>32</td>\n",
       "      <td>среднее</td>\n",
       "      <td>1</td>\n",
       "      <td>женат / замужем</td>\n",
       "      <td>0</td>\n",
       "      <td>M</td>\n",
       "      <td>сотрудник</td>\n",
       "      <td>0</td>\n",
       "      <td>267628.550329</td>\n",
       "      <td>дополнительное образование</td>\n",
       "    </tr>\n",
       "    <tr>\n",
       "      <th>4</th>\n",
       "      <td>0</td>\n",
       "      <td>340266.072047</td>\n",
       "      <td>53</td>\n",
       "      <td>среднее</td>\n",
       "      <td>1</td>\n",
       "      <td>гражданский брак</td>\n",
       "      <td>1</td>\n",
       "      <td>F</td>\n",
       "      <td>пенсионер</td>\n",
       "      <td>0</td>\n",
       "      <td>158616.077870</td>\n",
       "      <td>сыграть свадьбу</td>\n",
       "    </tr>\n",
       "    <tr>\n",
       "      <th>5</th>\n",
       "      <td>0</td>\n",
       "      <td>-926.185831</td>\n",
       "      <td>27</td>\n",
       "      <td>высшее</td>\n",
       "      <td>0</td>\n",
       "      <td>гражданский брак</td>\n",
       "      <td>1</td>\n",
       "      <td>M</td>\n",
       "      <td>компаньон</td>\n",
       "      <td>0</td>\n",
       "      <td>255763.565419</td>\n",
       "      <td>покупка жилья</td>\n",
       "    </tr>\n",
       "    <tr>\n",
       "      <th>6</th>\n",
       "      <td>0</td>\n",
       "      <td>-2879.202052</td>\n",
       "      <td>43</td>\n",
       "      <td>высшее</td>\n",
       "      <td>0</td>\n",
       "      <td>женат / замужем</td>\n",
       "      <td>0</td>\n",
       "      <td>F</td>\n",
       "      <td>компаньон</td>\n",
       "      <td>0</td>\n",
       "      <td>240525.971920</td>\n",
       "      <td>операции с жильем</td>\n",
       "    </tr>\n",
       "    <tr>\n",
       "      <th>7</th>\n",
       "      <td>0</td>\n",
       "      <td>-152.779569</td>\n",
       "      <td>50</td>\n",
       "      <td>СРЕДНЕЕ</td>\n",
       "      <td>1</td>\n",
       "      <td>женат / замужем</td>\n",
       "      <td>0</td>\n",
       "      <td>M</td>\n",
       "      <td>сотрудник</td>\n",
       "      <td>0</td>\n",
       "      <td>135823.934197</td>\n",
       "      <td>образование</td>\n",
       "    </tr>\n",
       "    <tr>\n",
       "      <th>8</th>\n",
       "      <td>2</td>\n",
       "      <td>-6929.865299</td>\n",
       "      <td>35</td>\n",
       "      <td>ВЫСШЕЕ</td>\n",
       "      <td>0</td>\n",
       "      <td>гражданский брак</td>\n",
       "      <td>1</td>\n",
       "      <td>F</td>\n",
       "      <td>сотрудник</td>\n",
       "      <td>0</td>\n",
       "      <td>95856.832424</td>\n",
       "      <td>на проведение свадьбы</td>\n",
       "    </tr>\n",
       "    <tr>\n",
       "      <th>9</th>\n",
       "      <td>0</td>\n",
       "      <td>-2188.756445</td>\n",
       "      <td>41</td>\n",
       "      <td>среднее</td>\n",
       "      <td>1</td>\n",
       "      <td>женат / замужем</td>\n",
       "      <td>0</td>\n",
       "      <td>M</td>\n",
       "      <td>сотрудник</td>\n",
       "      <td>0</td>\n",
       "      <td>144425.938277</td>\n",
       "      <td>покупка жилья для семьи</td>\n",
       "    </tr>\n",
       "  </tbody>\n",
       "</table>\n",
       "</div>"
      ],
      "text/plain": [
       "   children  days_employed  dob_years education  education_id  \\\n",
       "0         1   -8437.673028         42    высшее             0   \n",
       "1         1   -4024.803754         36   среднее             1   \n",
       "2         0   -5623.422610         33   Среднее             1   \n",
       "3         3   -4124.747207         32   среднее             1   \n",
       "4         0  340266.072047         53   среднее             1   \n",
       "5         0    -926.185831         27    высшее             0   \n",
       "6         0   -2879.202052         43    высшее             0   \n",
       "7         0    -152.779569         50   СРЕДНЕЕ             1   \n",
       "8         2   -6929.865299         35    ВЫСШЕЕ             0   \n",
       "9         0   -2188.756445         41   среднее             1   \n",
       "\n",
       "      family_status  family_status_id gender income_type  debt   total_income  \\\n",
       "0   женат / замужем                 0      F   сотрудник     0  253875.639453   \n",
       "1   женат / замужем                 0      F   сотрудник     0  112080.014102   \n",
       "2   женат / замужем                 0      M   сотрудник     0  145885.952297   \n",
       "3   женат / замужем                 0      M   сотрудник     0  267628.550329   \n",
       "4  гражданский брак                 1      F   пенсионер     0  158616.077870   \n",
       "5  гражданский брак                 1      M   компаньон     0  255763.565419   \n",
       "6   женат / замужем                 0      F   компаньон     0  240525.971920   \n",
       "7   женат / замужем                 0      M   сотрудник     0  135823.934197   \n",
       "8  гражданский брак                 1      F   сотрудник     0   95856.832424   \n",
       "9   женат / замужем                 0      M   сотрудник     0  144425.938277   \n",
       "\n",
       "                      purpose  \n",
       "0               покупка жилья  \n",
       "1     приобретение автомобиля  \n",
       "2               покупка жилья  \n",
       "3  дополнительное образование  \n",
       "4             сыграть свадьбу  \n",
       "5               покупка жилья  \n",
       "6           операции с жильем  \n",
       "7                 образование  \n",
       "8       на проведение свадьбы  \n",
       "9     покупка жилья для семьи  "
      ]
     },
     "execution_count": 2,
     "metadata": {},
     "output_type": "execute_result"
    }
   ],
   "source": [
    "data.head(10)"
   ]
  },
  {
   "cell_type": "markdown",
   "id": "1c12e233",
   "metadata": {
    "deletable": false,
    "id": "1c12e233"
   },
   "source": [
    "Выведем основную информацию о датафрейме с помощью метода:"
   ]
  },
  {
   "cell_type": "code",
   "execution_count": 3,
   "id": "2b757bca",
   "metadata": {
    "ExecuteTime": {
     "end_time": "2023-02-02T13:07:13.359567Z",
     "start_time": "2023-02-02T13:07:13.328582Z"
    },
    "deletable": false,
    "id": "2b757bca",
    "outputId": "15376089-8dad-46c9-b520-c05248d43158"
   },
   "outputs": [
    {
     "name": "stdout",
     "output_type": "stream",
     "text": [
      "<class 'pandas.core.frame.DataFrame'>\n",
      "RangeIndex: 21525 entries, 0 to 21524\n",
      "Data columns (total 12 columns):\n",
      " #   Column            Non-Null Count  Dtype  \n",
      "---  ------            --------------  -----  \n",
      " 0   children          21525 non-null  int64  \n",
      " 1   days_employed     19351 non-null  float64\n",
      " 2   dob_years         21525 non-null  int64  \n",
      " 3   education         21525 non-null  object \n",
      " 4   education_id      21525 non-null  int64  \n",
      " 5   family_status     21525 non-null  object \n",
      " 6   family_status_id  21525 non-null  int64  \n",
      " 7   gender            21525 non-null  object \n",
      " 8   income_type       21525 non-null  object \n",
      " 9   debt              21525 non-null  int64  \n",
      " 10  total_income      19351 non-null  float64\n",
      " 11  purpose           21525 non-null  object \n",
      "dtypes: float64(2), int64(5), object(5)\n",
      "memory usage: 2.0+ MB\n"
     ]
    }
   ],
   "source": [
    "data.info()"
   ]
  },
  {
   "cell_type": "markdown",
   "id": "333ec665",
   "metadata": {
    "deletable": false,
    "id": "333ec665"
   },
   "source": [
    "## Предобработка данных"
   ]
  },
  {
   "cell_type": "markdown",
   "id": "02d92d53",
   "metadata": {
    "deletable": false,
    "id": "02d92d53"
   },
   "source": [
    "### Удаление пропусков"
   ]
  },
  {
   "cell_type": "markdown",
   "id": "cd84967c",
   "metadata": {
    "deletable": false,
    "id": "cd84967c"
   },
   "source": [
    "Выведем количество пропущенных значений для каждого столбца. "
   ]
  },
  {
   "cell_type": "code",
   "execution_count": 4,
   "id": "7f9b2309",
   "metadata": {
    "ExecuteTime": {
     "end_time": "2023-02-02T13:07:13.391413Z",
     "start_time": "2023-02-02T13:07:13.361494Z"
    },
    "deletable": false,
    "id": "7f9b2309",
    "outputId": "81f4d817-781c-465c-ed15-91ce4446810d"
   },
   "outputs": [
    {
     "data": {
      "text/plain": [
       "children               0\n",
       "days_employed       2174\n",
       "dob_years              0\n",
       "education              0\n",
       "education_id           0\n",
       "family_status          0\n",
       "family_status_id       0\n",
       "gender                 0\n",
       "income_type            0\n",
       "debt                   0\n",
       "total_income        2174\n",
       "purpose                0\n",
       "dtype: int64"
      ]
     },
     "execution_count": 4,
     "metadata": {},
     "output_type": "execute_result"
    }
   ],
   "source": [
    "data.isna().sum()"
   ]
  },
  {
   "cell_type": "markdown",
   "id": "db86e27b",
   "metadata": {
    "deletable": false,
    "id": "db86e27b"
   },
   "source": [
    "В двух столбцах есть пропущенные значения. Один из них — `days_employed`. Пропуски в этом столбце обработаем далее. Другой столбец с пропущенными значениями — `total_income` — хранит данные о доходах. На сумму дохода сильнее всего влияет тип занятости, поэтому заполнить пропуски в этом столбце нужно медианным значением по каждому типу из столбца `income_type`. Например, у человека с типом занятости `сотрудник` пропуск в столбце `total_income` должен быть заполнен медианным доходом среди всех записей с тем же типом."
   ]
  },
  {
   "cell_type": "code",
   "execution_count": 5,
   "id": "42006a93",
   "metadata": {
    "ExecuteTime": {
     "end_time": "2023-02-02T13:07:13.439439Z",
     "start_time": "2023-02-02T13:07:13.393447Z"
    },
    "deletable": false,
    "id": "42006a93"
   },
   "outputs": [],
   "source": [
    "for t in data['income_type'].unique():\n",
    "    data.loc[(data['income_type'] == t) & (data['total_income'].isna()), 'total_income'] = \\\n",
    "    data.loc[(data['income_type'] == t), 'total_income'].median()"
   ]
  },
  {
   "cell_type": "markdown",
   "id": "89da5ece",
   "metadata": {
    "deletable": false,
    "id": "89da5ece"
   },
   "source": [
    "### Обработка аномальных значений"
   ]
  },
  {
   "cell_type": "markdown",
   "id": "57964554",
   "metadata": {
    "deletable": false,
    "id": "57964554"
   },
   "source": [
    "В данных могут встречаться артефакты (аномалии) — значения, которые не отражают действительность и появились по какой-то ошибке. Таким артефактом будет отрицательное количество дней трудового стажа в столбце `days_employed`. Для реальных данных это нормально. Заменим все отрицательные значения положительными с помощью метода `abs()`."
   ]
  },
  {
   "cell_type": "code",
   "execution_count": 6,
   "id": "f6f055bf",
   "metadata": {
    "ExecuteTime": {
     "end_time": "2023-02-02T13:07:13.455440Z",
     "start_time": "2023-02-02T13:07:13.442393Z"
    },
    "deletable": false,
    "id": "f6f055bf"
   },
   "outputs": [],
   "source": [
    "data['days_employed'] = data['days_employed'].abs()"
   ]
  },
  {
   "cell_type": "markdown",
   "id": "6107dd2f",
   "metadata": {
    "deletable": false,
    "id": "6107dd2f"
   },
   "source": [
    "Для каждого типа занятости выведем медианное значение трудового стажа `days_employed` в днях."
   ]
  },
  {
   "cell_type": "code",
   "execution_count": 7,
   "id": "85a5faf6",
   "metadata": {
    "ExecuteTime": {
     "end_time": "2023-02-02T13:07:13.486446Z",
     "start_time": "2023-02-02T13:07:13.459348Z"
    },
    "deletable": false,
    "id": "85a5faf6",
    "outputId": "801ef80e-522b-4668-f34e-565af7432bcf"
   },
   "outputs": [
    {
     "data": {
      "text/plain": [
       "income_type\n",
       "безработный        366413.652744\n",
       "в декрете            3296.759962\n",
       "госслужащий          2689.368353\n",
       "компаньон            1547.382223\n",
       "пенсионер          365213.306266\n",
       "предприниматель       520.848083\n",
       "сотрудник            1574.202821\n",
       "студент               578.751554\n",
       "Name: days_employed, dtype: float64"
      ]
     },
     "execution_count": 7,
     "metadata": {},
     "output_type": "execute_result"
    }
   ],
   "source": [
    "data.groupby('income_type')['days_employed'].agg('median')"
   ]
  },
  {
   "cell_type": "markdown",
   "id": "38d1a030",
   "metadata": {
    "deletable": false,
    "id": "38d1a030"
   },
   "source": [
    "У двух типов (безработные и пенсионеры) получатся аномально большие значения. Исправить такие значения сложно, поэтому оставим их как есть. Тем более этот столбец не понадобится далее для исследования."
   ]
  },
  {
   "cell_type": "markdown",
   "id": "d8a9f147",
   "metadata": {
    "deletable": false,
    "id": "d8a9f147"
   },
   "source": [
    "Выведем перечень уникальных значений столбца `children`."
   ]
  },
  {
   "cell_type": "code",
   "execution_count": 8,
   "id": "ef5056eb",
   "metadata": {
    "ExecuteTime": {
     "end_time": "2023-02-02T13:07:13.502367Z",
     "start_time": "2023-02-02T13:07:13.488408Z"
    },
    "deletable": false,
    "id": "ef5056eb",
    "outputId": "6975b15c-7f95-4697-d16d-a0c79b657b03"
   },
   "outputs": [
    {
     "data": {
      "text/plain": [
       "array([ 1,  0,  3,  2, -1,  4, 20,  5], dtype=int64)"
      ]
     },
     "execution_count": 8,
     "metadata": {},
     "output_type": "execute_result"
    }
   ],
   "source": [
    "data['children'].unique()"
   ]
  },
  {
   "cell_type": "markdown",
   "id": "40b9ebf2",
   "metadata": {
    "deletable": false,
    "id": "40b9ebf2"
   },
   "source": [
    "В столбце `children` есть два аномальных значения. Удалим строки, в которых встречаются такие аномальные значения."
   ]
  },
  {
   "cell_type": "code",
   "execution_count": 9,
   "id": "3ff9801d",
   "metadata": {
    "ExecuteTime": {
     "end_time": "2023-02-02T13:07:13.518326Z",
     "start_time": "2023-02-02T13:07:13.504363Z"
    },
    "deletable": false,
    "id": "3ff9801d"
   },
   "outputs": [],
   "source": [
    "data = data[(data['children'] != -1) & (data['children'] != 20)]"
   ]
  },
  {
   "cell_type": "markdown",
   "id": "bbc4d0ce",
   "metadata": {
    "deletable": false,
    "id": "bbc4d0ce"
   },
   "source": [
    "Ещё раз выведем перечень уникальных значений столбца `children`, чтобы убедиться, что артефакты удалены."
   ]
  },
  {
   "cell_type": "code",
   "execution_count": 10,
   "id": "ad4fa8b7",
   "metadata": {
    "ExecuteTime": {
     "end_time": "2023-02-02T13:07:13.533043Z",
     "start_time": "2023-02-02T13:07:13.523311Z"
    },
    "deletable": false,
    "id": "ad4fa8b7",
    "outputId": "b2097101-d49d-44d9-901b-32a65c9463d1"
   },
   "outputs": [
    {
     "data": {
      "text/plain": [
       "array([1, 0, 3, 2, 4, 5], dtype=int64)"
      ]
     },
     "execution_count": 10,
     "metadata": {},
     "output_type": "execute_result"
    }
   ],
   "source": [
    "data['children'].unique()"
   ]
  },
  {
   "cell_type": "markdown",
   "id": "75440b63",
   "metadata": {
    "deletable": false,
    "id": "75440b63"
   },
   "source": [
    "### Удаление пропусков (продолжение)"
   ]
  },
  {
   "cell_type": "markdown",
   "id": "f4ea573f",
   "metadata": {
    "deletable": false,
    "id": "f4ea573f"
   },
   "source": [
    "Заполним пропуски в столбце `days_employed` медианными значениями по каждому типу занятости `income_type`."
   ]
  },
  {
   "cell_type": "code",
   "execution_count": 11,
   "id": "af6b1a7e",
   "metadata": {
    "ExecuteTime": {
     "end_time": "2023-02-02T13:07:13.580491Z",
     "start_time": "2023-02-02T13:07:13.535038Z"
    },
    "deletable": false,
    "id": "af6b1a7e"
   },
   "outputs": [],
   "source": [
    "for t in data['income_type'].unique():\n",
    "    data.loc[(data['income_type'] == t) & (data['days_employed'].isna()), 'days_employed'] = \\\n",
    "    data.loc[(data['income_type'] == t), 'days_employed'].median()"
   ]
  },
  {
   "cell_type": "markdown",
   "id": "2753f40d",
   "metadata": {
    "deletable": false,
    "id": "2753f40d"
   },
   "source": [
    "Убедимся, что все пропуски заполнены. "
   ]
  },
  {
   "cell_type": "code",
   "execution_count": 12,
   "id": "55f78bc2",
   "metadata": {
    "ExecuteTime": {
     "end_time": "2023-02-02T13:07:13.612365Z",
     "start_time": "2023-02-02T13:07:13.584451Z"
    },
    "deletable": false,
    "id": "55f78bc2",
    "outputId": "8da1e4e1-358e-4e87-98c9-f261bce0a7b2"
   },
   "outputs": [
    {
     "data": {
      "text/plain": [
       "children            0\n",
       "days_employed       0\n",
       "dob_years           0\n",
       "education           0\n",
       "education_id        0\n",
       "family_status       0\n",
       "family_status_id    0\n",
       "gender              0\n",
       "income_type         0\n",
       "debt                0\n",
       "total_income        0\n",
       "purpose             0\n",
       "dtype: int64"
      ]
     },
     "execution_count": 12,
     "metadata": {},
     "output_type": "execute_result"
    }
   ],
   "source": [
    "data.isna().sum()"
   ]
  },
  {
   "cell_type": "markdown",
   "id": "ddc81e43",
   "metadata": {
    "deletable": false,
    "id": "ddc81e43"
   },
   "source": [
    "### Изменение типов данных"
   ]
  },
  {
   "cell_type": "markdown",
   "id": "42d19d24",
   "metadata": {
    "deletable": false,
    "id": "42d19d24"
   },
   "source": [
    "Заменим вещественный тип данных в столбце `total_income` на целочисленный с помощью метода `astype()`."
   ]
  },
  {
   "cell_type": "code",
   "execution_count": 13,
   "id": "920b65ad",
   "metadata": {
    "ExecuteTime": {
     "end_time": "2023-02-02T13:07:13.628330Z",
     "start_time": "2023-02-02T13:07:13.614329Z"
    },
    "deletable": false,
    "id": "920b65ad"
   },
   "outputs": [],
   "source": [
    "data['total_income'] = data['total_income'].astype(int)"
   ]
  },
  {
   "cell_type": "markdown",
   "id": "80c420ba",
   "metadata": {
    "deletable": false,
    "id": "80c420ba"
   },
   "source": [
    "### Обработка дубликатов"
   ]
  },
  {
   "cell_type": "markdown",
   "id": "dc587695",
   "metadata": {
    "deletable": false,
    "id": "dc587695"
   },
   "source": [
    "Выведем на экран количество строк-дубликатов в данных. Если такие строки присутствуют, удалим их."
   ]
  },
  {
   "cell_type": "code",
   "execution_count": 14,
   "id": "3ee445e4",
   "metadata": {
    "ExecuteTime": {
     "end_time": "2023-02-02T13:07:13.660287Z",
     "start_time": "2023-02-02T13:07:13.630322Z"
    },
    "deletable": false,
    "id": "3ee445e4",
    "outputId": "9684deba-1934-42d1-99e1-cda61740f822"
   },
   "outputs": [
    {
     "data": {
      "text/plain": [
       "54"
      ]
     },
     "execution_count": 14,
     "metadata": {},
     "output_type": "execute_result"
    }
   ],
   "source": [
    "data.duplicated().sum()"
   ]
  },
  {
   "cell_type": "code",
   "execution_count": 15,
   "id": "8575fe05",
   "metadata": {
    "ExecuteTime": {
     "end_time": "2023-02-02T13:07:13.708305Z",
     "start_time": "2023-02-02T13:07:13.665234Z"
    },
    "deletable": false,
    "id": "8575fe05"
   },
   "outputs": [],
   "source": [
    "data = data.drop_duplicates()"
   ]
  },
  {
   "cell_type": "markdown",
   "id": "9771a76c",
   "metadata": {
    "deletable": false,
    "id": "9771a76c"
   },
   "source": [
    "Обработаем неявные дубликаты в столбце `education`. В этом столбце есть одни и те же значения, но записанные по-разному: с использованием заглавных и строчных букв. Приведем их к нижнему регистру. Проверим остальные столбцы."
   ]
  },
  {
   "cell_type": "code",
   "execution_count": 16,
   "id": "a9f8e2bf",
   "metadata": {
    "ExecuteTime": {
     "end_time": "2023-02-02T13:07:13.740315Z",
     "start_time": "2023-02-02T13:07:13.711331Z"
    },
    "deletable": false,
    "id": "a9f8e2bf"
   },
   "outputs": [],
   "source": [
    "data['education'] = data['education'].str.lower()"
   ]
  },
  {
   "cell_type": "markdown",
   "id": "9904cf55",
   "metadata": {
    "deletable": false,
    "id": "9904cf55"
   },
   "source": [
    "### Категоризация данных"
   ]
  },
  {
   "cell_type": "markdown",
   "id": "72fcc8a2",
   "metadata": {
    "deletable": false,
    "id": "72fcc8a2"
   },
   "source": [
    "На основании диапазонов, указанных ниже, создадим в датафрейме `data` столбец `total_income_category` с категориями:\n",
    "\n",
    "- 0–30000 — `'E'`;\n",
    "- 30001–50000 — `'D'`;\n",
    "- 50001–200000 — `'C'`;\n",
    "- 200001–1000000 — `'B'`;\n",
    "- 1000001 и выше — `'A'`.\n"
   ]
  },
  {
   "cell_type": "code",
   "execution_count": 17,
   "id": "e1771346",
   "metadata": {
    "ExecuteTime": {
     "end_time": "2023-02-02T13:07:13.756205Z",
     "start_time": "2023-02-02T13:07:13.743280Z"
    },
    "deletable": false,
    "id": "e1771346"
   },
   "outputs": [],
   "source": [
    "def categorize_income(income):\n",
    "    try:\n",
    "        if 0 <= income <= 30000:\n",
    "            return 'E'\n",
    "        elif 30001 <= income <= 50000:\n",
    "            return 'D'\n",
    "        elif 50001 <= income <= 200000:\n",
    "            return 'C'\n",
    "        elif 200001 <= income <= 1000000:\n",
    "            return 'B'\n",
    "        elif income >= 1000001:\n",
    "            return 'A'\n",
    "    except:\n",
    "        pass"
   ]
  },
  {
   "cell_type": "code",
   "execution_count": 18,
   "id": "d5f3586d",
   "metadata": {
    "ExecuteTime": {
     "end_time": "2023-02-02T13:07:13.772175Z",
     "start_time": "2023-02-02T13:07:13.758200Z"
    },
    "deletable": false,
    "id": "d5f3586d"
   },
   "outputs": [],
   "source": [
    "data['total_income_category'] = data['total_income'].apply(categorize_income)"
   ]
  },
  {
   "cell_type": "markdown",
   "id": "dde49b5c",
   "metadata": {
    "deletable": false,
    "id": "dde49b5c"
   },
   "source": [
    "Выведем на экран перечень уникальных целей взятия кредита из столбца `purpose`."
   ]
  },
  {
   "cell_type": "code",
   "execution_count": 19,
   "id": "f67ce9b3",
   "metadata": {
    "ExecuteTime": {
     "end_time": "2023-02-02T13:07:13.788119Z",
     "start_time": "2023-02-02T13:07:13.774158Z"
    },
    "deletable": false,
    "id": "f67ce9b3",
    "outputId": "673c12d9-7d7e-4ae0-9812-c622c89dd244"
   },
   "outputs": [
    {
     "data": {
      "text/plain": [
       "array(['покупка жилья', 'приобретение автомобиля',\n",
       "       'дополнительное образование', 'сыграть свадьбу',\n",
       "       'операции с жильем', 'образование', 'на проведение свадьбы',\n",
       "       'покупка жилья для семьи', 'покупка недвижимости',\n",
       "       'покупка коммерческой недвижимости', 'покупка жилой недвижимости',\n",
       "       'строительство собственной недвижимости', 'недвижимость',\n",
       "       'строительство недвижимости', 'на покупку подержанного автомобиля',\n",
       "       'на покупку своего автомобиля',\n",
       "       'операции с коммерческой недвижимостью',\n",
       "       'строительство жилой недвижимости', 'жилье',\n",
       "       'операции со своей недвижимостью', 'автомобили',\n",
       "       'заняться образованием', 'сделка с подержанным автомобилем',\n",
       "       'получение образования', 'автомобиль', 'свадьба',\n",
       "       'получение дополнительного образования', 'покупка своего жилья',\n",
       "       'операции с недвижимостью', 'получение высшего образования',\n",
       "       'свой автомобиль', 'сделка с автомобилем',\n",
       "       'профильное образование', 'высшее образование',\n",
       "       'покупка жилья для сдачи', 'на покупку автомобиля', 'ремонт жилью',\n",
       "       'заняться высшим образованием'], dtype=object)"
      ]
     },
     "execution_count": 19,
     "metadata": {},
     "output_type": "execute_result"
    }
   ],
   "source": [
    "data['purpose'].unique()"
   ]
  },
  {
   "cell_type": "markdown",
   "id": "85d0aef0",
   "metadata": {
    "deletable": false,
    "id": "85d0aef0"
   },
   "source": [
    "Напишем функцию, которая на основании данных из столбца `purpose` сформирует новый столбец `purpose_category`, в который войдут следующие категории:\n",
    "\n",
    "- `'операции с автомобилем'`,\n",
    "- `'операции с недвижимостью'`,\n",
    "- `'проведение свадьбы'`,\n",
    "- `'получение образования'`.\n",
    "\n",
    "Используем собственную функцию с именем `categorize_purpose()` и метод `apply()`. Изучим данные в столбце `purpose` и определим, какие подстроки помогут правильно определить категорию."
   ]
  },
  {
   "cell_type": "code",
   "execution_count": 20,
   "id": "e149fab4",
   "metadata": {
    "ExecuteTime": {
     "end_time": "2023-02-02T13:07:13.804078Z",
     "start_time": "2023-02-02T13:07:13.791111Z"
    },
    "deletable": false,
    "id": "e149fab4"
   },
   "outputs": [],
   "source": [
    "def categorize_purpose(row):\n",
    "    try:\n",
    "        if 'автом' in row:\n",
    "            return 'операции с автомобилем'\n",
    "        elif 'жил' in row or 'недвиж' in row:\n",
    "            return 'операции с недвижимостью'\n",
    "        elif 'свад' in row:\n",
    "            return 'проведение свадьбы'\n",
    "        elif 'образов' in row:\n",
    "            return 'получение образования'\n",
    "    except:\n",
    "        return 'нет категории'"
   ]
  },
  {
   "cell_type": "code",
   "execution_count": 21,
   "id": "bf36e69b",
   "metadata": {
    "ExecuteTime": {
     "end_time": "2023-02-02T13:07:13.850952Z",
     "start_time": "2023-02-02T13:07:13.807071Z"
    },
    "deletable": false,
    "id": "bf36e69b"
   },
   "outputs": [
    {
     "name": "stdout",
     "output_type": "stream",
     "text": [
      "<class 'pandas.core.frame.DataFrame'>\n",
      "Int64Index: 21348 entries, 0 to 21524\n",
      "Data columns (total 14 columns):\n",
      " #   Column                 Non-Null Count  Dtype  \n",
      "---  ------                 --------------  -----  \n",
      " 0   children               21348 non-null  int64  \n",
      " 1   days_employed          21348 non-null  float64\n",
      " 2   dob_years              21348 non-null  int64  \n",
      " 3   education              21348 non-null  object \n",
      " 4   education_id           21348 non-null  int64  \n",
      " 5   family_status          21348 non-null  object \n",
      " 6   family_status_id       21348 non-null  int64  \n",
      " 7   gender                 21348 non-null  object \n",
      " 8   income_type            21348 non-null  object \n",
      " 9   debt                   21348 non-null  int64  \n",
      " 10  total_income           21348 non-null  int32  \n",
      " 11  purpose                21348 non-null  object \n",
      " 12  total_income_category  21348 non-null  object \n",
      " 13  purpose_category       21348 non-null  object \n",
      "dtypes: float64(1), int32(1), int64(5), object(7)\n",
      "memory usage: 2.4+ MB\n"
     ]
    }
   ],
   "source": [
    "data['purpose_category'] = data['purpose'].apply(categorize_purpose)\n",
    "data.info()\n"
   ]
  },
  {
   "cell_type": "markdown",
   "id": "09b242bf",
   "metadata": {
    "deletable": false,
    "editable": false,
    "id": "09b242bf"
   },
   "source": [
    "## Исследуйте данные и ответьте на вопросы"
   ]
  },
  {
   "cell_type": "markdown",
   "id": "0f795694",
   "metadata": {},
   "source": [
    "В задании на проект была задача на создание двух датафреймов:\n"
   ]
  },
  {
   "cell_type": "code",
   "execution_count": 22,
   "id": "45371f1a",
   "metadata": {
    "ExecuteTime": {
     "end_time": "2023-02-02T13:07:13.866909Z",
     "start_time": "2023-02-02T13:07:13.852983Z"
    }
   },
   "outputs": [],
   "source": [
    "# education_df = data[['education_id', 'education', 'debt']]\n",
    "# family_df = data[['family_status_id', 'family_status', 'debt']]\n"
   ]
  },
  {
   "cell_type": "markdown",
   "id": "779da66b",
   "metadata": {},
   "source": [
    "Далее необходимо было удалить колонки eduction и family_status"
   ]
  },
  {
   "cell_type": "code",
   "execution_count": 23,
   "id": "c8bd0674",
   "metadata": {
    "ExecuteTime": {
     "end_time": "2023-02-02T13:07:13.882871Z",
     "start_time": "2023-02-02T13:07:13.868904Z"
    }
   },
   "outputs": [],
   "source": [
    "# education_df = education_df.drop(['education'], axis=1) \n",
    "# family_df = family_df.drop(['family_status'], axis=1)\n"
   ]
  },
  {
   "cell_type": "markdown",
   "id": "f89c53ae",
   "metadata": {},
   "source": [
    "Не совсем понятна идея для чего это предложено было сделать"
   ]
  },
  {
   "cell_type": "markdown",
   "id": "c5d66278",
   "metadata": {
    "deletable": false,
    "editable": false,
    "id": "c5d66278"
   },
   "source": [
    "**Задание 19. Есть ли зависимость между количеством детей и возвратом кредита в срок?**"
   ]
  },
  {
   "cell_type": "markdown",
   "id": "065e671d",
   "metadata": {},
   "source": [
    "### Есть ли зависимость между количеством детей и возвратом кредита в срок?"
   ]
  },
  {
   "cell_type": "markdown",
   "id": "02a6b523",
   "metadata": {},
   "source": [
    "Доля \"плохих\" заемщиков - должников не вернувших кредит в срок:"
   ]
  },
  {
   "cell_type": "code",
   "execution_count": 24,
   "id": "2cacfc4a",
   "metadata": {
    "ExecuteTime": {
     "end_time": "2023-02-02T13:07:13.898826Z",
     "start_time": "2023-02-02T13:07:13.886858Z"
    },
    "id": "2cacfc4a"
   },
   "outputs": [
    {
     "name": "stdout",
     "output_type": "stream",
     "text": [
      "Доля плохих должников 8.11%\n"
     ]
    }
   ],
   "source": [
    "bed_debts_share = data['debt'].sum() / data['debt'].count()  # Ваш код будет здесь. Вы можете создавать новые ячейки.\n",
    "print(f'Доля плохих должников {bed_debts_share:.2%}')"
   ]
  },
  {
   "cell_type": "markdown",
   "id": "bbd6b32a",
   "metadata": {},
   "source": [
    "В данном случае решение задания выполненно с помощью простой группировки данных, с подсчетом суммы и количества наблюдений:\n",
    "1. Распределение \"плохих\" заемщиков по группам в зависимости от количества детей\n",
    "2. Доля \"плохих\" заемщиков по группам в общем числе плохих заемщиков\n",
    "3. Распределение общего количества заемщиков, и плохих и хороших, по количеству детей\n",
    "4. Отношение \"плохих\" к общему количеству заемщиков, в %\n"
   ]
  },
  {
   "cell_type": "code",
   "execution_count": 25,
   "id": "92061ff5",
   "metadata": {
    "ExecuteTime": {
     "end_time": "2023-02-02T13:07:13.930773Z",
     "start_time": "2023-02-02T13:07:13.900820Z"
    }
   },
   "outputs": [
    {
     "name": "stdout",
     "output_type": "stream",
     "text": [
      "children\n",
      "0    1063\n",
      "1     444\n",
      "2     194\n",
      "3      27\n",
      "4       4\n",
      "5       0\n",
      "Name: debt, dtype: int64 children\n",
      "0    61.4\n",
      "1    25.6\n",
      "2    11.2\n",
      "3     1.6\n",
      "4     0.2\n",
      "5     0.0\n",
      "Name: debt, dtype: float64 children\n",
      "0    14107\n",
      "1     4809\n",
      "2     2052\n",
      "3      330\n",
      "4       41\n",
      "5        9\n",
      "Name: days_employed, dtype: int64 children\n",
      "0    7.5\n",
      "1    9.2\n",
      "2    9.5\n",
      "3    8.2\n",
      "4    9.8\n",
      "5    0.0\n",
      "dtype: float64\n"
     ]
    }
   ],
   "source": [
    "debt_children_group = data.groupby('children')['debt'].sum()\n",
    "bed_debts_share = debt_children_group / data['debt'].sum() * 100\n",
    "borrower_count = data.groupby('children')['days_employed'].count()\n",
    "debt_to_borrowers_share = debt_children_group / borrower_count * 100\n",
    "print(debt_children_group, bed_debts_share.round(1), borrower_count, debt_to_borrowers_share.round(1))"
   ]
  },
  {
   "cell_type": "markdown",
   "id": "3a6b99ec",
   "metadata": {
    "deletable": false,
    "id": "3a6b99ec"
   },
   "source": [
    "**Вывод:** \n",
    "Исходя из полученной обработки можно сделать вывод о том, что количество \"плохих\" заемщиков обратно пропорционально количеству детей: 61.4% - это \"плохие\" заемщики без детей, 25.6% - это \"плохие\" заемщики с одним ребенком и т.д. Аналогичная обратная зависимость прослеживается между общим количеством заемщиков и количечеством детей. Отношение кол-ва не возвратов к общему количеству заемщиков в каждой группе колеблется от 7.5 до 9.7%% (кроме группы с 5 детьми), что примерно, на мой взгляд, сопоставимо с долей плохих заемщиков в целом по выборке - 8.11%. Единственная группа заемщиков, которая всегда возвращает кредит в срок - это семьи с количеством детей 5, при самом низком количестве заемщиков - всего 9. "
   ]
  },
  {
   "cell_type": "markdown",
   "id": "97be82ca",
   "metadata": {
    "deletable": false,
    "editable": false,
    "id": "97be82ca"
   },
   "source": [
    "**Задание 20. Есть ли зависимость между семейным положением и возвратом кредита в срок?**"
   ]
  },
  {
   "cell_type": "markdown",
   "id": "c3afb8f3",
   "metadata": {},
   "source": [
    "### Есть ли зависимость между семейным положением и возвратом кредита в срок?"
   ]
  },
  {
   "cell_type": "markdown",
   "id": "34319194",
   "metadata": {},
   "source": [
    "В данном случае задание выполнено с помощью агрегирования данных:\n",
    "1. В колонке ['debt']['sum'] - количество \"плохих\" заемщиков\n",
    "2. В колонке ['debt']['count'] - совокупное количество заемщиков\n",
    "3. debt_share% - отношение \"плохих\" заемшщиков к общему количеству\n",
    "4. Доля \"плохих\" к совокупному количеству заемщиков"
   ]
  },
  {
   "cell_type": "code",
   "execution_count": 26,
   "id": "ca908b6d",
   "metadata": {
    "ExecuteTime": {
     "end_time": "2023-02-02T13:07:13.976657Z",
     "start_time": "2023-02-02T13:07:13.933732Z"
    }
   },
   "outputs": [
    {
     "data": {
      "text/html": [
       "<div>\n",
       "<style scoped>\n",
       "    .dataframe tbody tr th:only-of-type {\n",
       "        vertical-align: middle;\n",
       "    }\n",
       "\n",
       "    .dataframe tbody tr th {\n",
       "        vertical-align: top;\n",
       "    }\n",
       "\n",
       "    .dataframe thead tr th {\n",
       "        text-align: left;\n",
       "    }\n",
       "\n",
       "    .dataframe thead tr:last-of-type th {\n",
       "        text-align: right;\n",
       "    }\n",
       "</style>\n",
       "<table border=\"1\" class=\"dataframe\">\n",
       "  <thead>\n",
       "    <tr>\n",
       "      <th></th>\n",
       "      <th colspan=\"2\" halign=\"left\">debt</th>\n",
       "      <th>debt_share%</th>\n",
       "      <th>debtor_share%</th>\n",
       "    </tr>\n",
       "    <tr>\n",
       "      <th></th>\n",
       "      <th>sum</th>\n",
       "      <th>count</th>\n",
       "      <th></th>\n",
       "      <th></th>\n",
       "    </tr>\n",
       "    <tr>\n",
       "      <th>family_status</th>\n",
       "      <th></th>\n",
       "      <th></th>\n",
       "      <th></th>\n",
       "      <th></th>\n",
       "    </tr>\n",
       "  </thead>\n",
       "  <tbody>\n",
       "    <tr>\n",
       "      <th>Не женат / не замужем</th>\n",
       "      <td>273</td>\n",
       "      <td>2796</td>\n",
       "      <td>9.8</td>\n",
       "      <td>15.8</td>\n",
       "    </tr>\n",
       "    <tr>\n",
       "      <th>в разводе</th>\n",
       "      <td>84</td>\n",
       "      <td>1189</td>\n",
       "      <td>7.1</td>\n",
       "      <td>4.8</td>\n",
       "    </tr>\n",
       "    <tr>\n",
       "      <th>вдовец / вдова</th>\n",
       "      <td>63</td>\n",
       "      <td>951</td>\n",
       "      <td>6.6</td>\n",
       "      <td>3.6</td>\n",
       "    </tr>\n",
       "    <tr>\n",
       "      <th>гражданский брак</th>\n",
       "      <td>385</td>\n",
       "      <td>4146</td>\n",
       "      <td>9.3</td>\n",
       "      <td>22.2</td>\n",
       "    </tr>\n",
       "    <tr>\n",
       "      <th>женат / замужем</th>\n",
       "      <td>927</td>\n",
       "      <td>12266</td>\n",
       "      <td>7.6</td>\n",
       "      <td>53.5</td>\n",
       "    </tr>\n",
       "  </tbody>\n",
       "</table>\n",
       "</div>"
      ],
      "text/plain": [
       "                      debt        debt_share% debtor_share%\n",
       "                       sum  count                          \n",
       "family_status                                              \n",
       "Не женат / не замужем  273   2796         9.8          15.8\n",
       "в разводе               84   1189         7.1           4.8\n",
       "вдовец / вдова          63    951         6.6           3.6\n",
       "гражданский брак       385   4146         9.3          22.2\n",
       "женат / замужем        927  12266         7.6          53.5"
      ]
     },
     "execution_count": 26,
     "metadata": {},
     "output_type": "execute_result"
    }
   ],
   "source": [
    "debt_family_group = data.groupby('family_status').agg({'debt': ['sum', 'count']}) \n",
    "debt_family_group['debt_share%'] = debt_family_group['debt']['sum'] / debt_family_group['debt']['count'] * 100\n",
    "debt_family_group['debtor_share%'] = debt_family_group['debt']['sum'] / data['debt'].sum() * 100\n",
    "debt_family_group.round(1)\n"
   ]
  },
  {
   "cell_type": "markdown",
   "id": "1cef7837",
   "metadata": {
    "deletable": false,
    "id": "1cef7837"
   },
   "source": [
    "**Вывод:** Самое высокое количество должников среди заемщиков состоящих в браке - 53.5%. Далее следуют должники состоящие в гражданском браке - 22.2%, должники не состоящие в браке - 15.8%, должники в разводе - 4.8% и должники у которых умер спутник жизни - 3.6%. При этом отношение должников к общему количеству заемщиков в каждой группе колеблется от 6.6 до 9.8%%, ложится в область вокруг 8.11%."
   ]
  },
  {
   "cell_type": "markdown",
   "id": "1e8b2fca",
   "metadata": {
    "deletable": false,
    "editable": false,
    "id": "1e8b2fca"
   },
   "source": [
    "**Задание 21. Есть ли зависимость между уровнем дохода и возвратом кредита в срок?**"
   ]
  },
  {
   "cell_type": "markdown",
   "id": "0e71a422",
   "metadata": {},
   "source": [
    "### Есть ли зависимость между уровнем дохода и возвратом кредита в срок?"
   ]
  },
  {
   "cell_type": "markdown",
   "id": "675c1179",
   "metadata": {},
   "source": [
    "Решение задания выполнено с помощью сводных таблиц:\n",
    "1. index = столбец с информацией о категориях доходов\n",
    "2. columns = столбец с информацией о своевременности выплаты кредита\n",
    "3. values = столбец по которому считается общее количество наблюдений\n",
    "4. aggfunс = функция применяемая к значениям, в нашем случае count\n"
   ]
  },
  {
   "cell_type": "code",
   "execution_count": 27,
   "id": "11d8fe42",
   "metadata": {
    "ExecuteTime": {
     "end_time": "2023-02-02T13:07:14.023490Z",
     "start_time": "2023-02-02T13:07:13.978610Z"
    }
   },
   "outputs": [
    {
     "data": {
      "text/html": [
       "<div>\n",
       "<style scoped>\n",
       "    .dataframe tbody tr th:only-of-type {\n",
       "        vertical-align: middle;\n",
       "    }\n",
       "\n",
       "    .dataframe tbody tr th {\n",
       "        vertical-align: top;\n",
       "    }\n",
       "\n",
       "    .dataframe thead th {\n",
       "        text-align: right;\n",
       "    }\n",
       "</style>\n",
       "<table border=\"1\" class=\"dataframe\">\n",
       "  <thead>\n",
       "    <tr style=\"text-align: right;\">\n",
       "      <th>debt</th>\n",
       "      <th>0</th>\n",
       "      <th>1</th>\n",
       "      <th>all_borrowers</th>\n",
       "      <th>ratio%</th>\n",
       "      <th>debtor_share%</th>\n",
       "    </tr>\n",
       "    <tr>\n",
       "      <th>total_income_category</th>\n",
       "      <th></th>\n",
       "      <th></th>\n",
       "      <th></th>\n",
       "      <th></th>\n",
       "      <th></th>\n",
       "    </tr>\n",
       "  </thead>\n",
       "  <tbody>\n",
       "    <tr>\n",
       "      <th>A</th>\n",
       "      <td>23</td>\n",
       "      <td>2</td>\n",
       "      <td>25</td>\n",
       "      <td>8.00</td>\n",
       "      <td>0.12</td>\n",
       "    </tr>\n",
       "    <tr>\n",
       "      <th>B</th>\n",
       "      <td>4660</td>\n",
       "      <td>354</td>\n",
       "      <td>5014</td>\n",
       "      <td>7.06</td>\n",
       "      <td>20.44</td>\n",
       "    </tr>\n",
       "    <tr>\n",
       "      <th>C</th>\n",
       "      <td>14585</td>\n",
       "      <td>1353</td>\n",
       "      <td>15938</td>\n",
       "      <td>8.49</td>\n",
       "      <td>78.12</td>\n",
       "    </tr>\n",
       "    <tr>\n",
       "      <th>D</th>\n",
       "      <td>328</td>\n",
       "      <td>21</td>\n",
       "      <td>349</td>\n",
       "      <td>6.02</td>\n",
       "      <td>1.21</td>\n",
       "    </tr>\n",
       "    <tr>\n",
       "      <th>E</th>\n",
       "      <td>20</td>\n",
       "      <td>2</td>\n",
       "      <td>22</td>\n",
       "      <td>9.09</td>\n",
       "      <td>0.12</td>\n",
       "    </tr>\n",
       "  </tbody>\n",
       "</table>\n",
       "</div>"
      ],
      "text/plain": [
       "debt                       0     1  all_borrowers  ratio%  debtor_share%\n",
       "total_income_category                                                   \n",
       "A                         23     2             25    8.00           0.12\n",
       "B                       4660   354           5014    7.06          20.44\n",
       "C                      14585  1353          15938    8.49          78.12\n",
       "D                        328    21            349    6.02           1.21\n",
       "E                         20     2             22    9.09           0.12"
      ]
     },
     "execution_count": 27,
     "metadata": {},
     "output_type": "execute_result"
    }
   ],
   "source": [
    "data_pivot_income = data.pivot_table(index = ['total_income_category'], columns='debt', values='education_id' , aggfunc='count')\n",
    "data_pivot_income['all_borrowers'] = data_pivot_income[1] + data_pivot_income[0]\n",
    "data_pivot_income['ratio%'] = data_pivot_income[1] / data_pivot_income['all_borrowers'] * 100\n",
    "data_pivot_income['ratio%'] = data_pivot_income['ratio%'].round(2)\n",
    "data_pivot_income['debtor_share%'] = data_pivot_income[1] / data['debt'].sum() * 100\n",
    "data_pivot_income['debtor_share%'] = data_pivot_income['debtor_share%'].round(2)\n",
    "data_pivot_income\n"
   ]
  },
  {
   "cell_type": "markdown",
   "id": "e8593def",
   "metadata": {
    "deletable": false,
    "id": "e8593def"
   },
   "source": [
    "**Вывод:** \n",
    "Самое большое количество \"плохих\" заемщиков в категории заемщиков с доходом от 50001 до 200000 - 1353 заемщика / 78.12%. Далее идут \"плохие\" заемщики категории В с доходом между 200001 и 1000000- 20.44%. За ними \"плохие\" заемщики категории D - 1.21%. И заемщики с доходом категории А и Е делят последнее место по не своевременным возвратам кредитов - менее 1%.\n",
    "\n",
    "Распределение доли \"плохих\" заемщиков внутри каждой группы по уровню дохода выглядид следующим образом:\n",
    "* категория А - 8.00%\n",
    "* категория В - 7.06%\n",
    "* категория С - 8.49%\n",
    "* категория D - 6.02%\n",
    "* и категория E - 9.09%\n",
    "\n",
    "Данный показатель также лежит вокруг доли \"плохих\" заемщиков в датасете - 8.11%"
   ]
  },
  {
   "cell_type": "markdown",
   "id": "99ecbd1f",
   "metadata": {
    "deletable": false,
    "editable": false,
    "id": "99ecbd1f"
   },
   "source": [
    "**Задание 22. Как разные цели кредита влияют на его возврат в срок?**"
   ]
  },
  {
   "cell_type": "markdown",
   "id": "1e2c4e48",
   "metadata": {},
   "source": [
    "### Как разные цели кредита влияют на его возврат в срок?"
   ]
  },
  {
   "cell_type": "markdown",
   "id": "4a9caba5",
   "metadata": {},
   "source": [
    "Решение задания выполнено с помощью сводных таблиц:\n",
    "1. index = столбец с категориями по целям кредита\n",
    "2. columns = столбец с информацией о своевременности выплаты кредита\n",
    "3. values = столбец по которому считается общее количество наблюдений\n",
    "4. aggfunс = функция применяемая к значениям, в нашем случае count\n"
   ]
  },
  {
   "cell_type": "code",
   "execution_count": 28,
   "id": "2b687290",
   "metadata": {
    "ExecuteTime": {
     "end_time": "2023-02-02T13:07:14.071367Z",
     "start_time": "2023-02-02T13:07:14.030477Z"
    },
    "id": "2b687290"
   },
   "outputs": [
    {
     "data": {
      "text/html": [
       "<div>\n",
       "<style scoped>\n",
       "    .dataframe tbody tr th:only-of-type {\n",
       "        vertical-align: middle;\n",
       "    }\n",
       "\n",
       "    .dataframe tbody tr th {\n",
       "        vertical-align: top;\n",
       "    }\n",
       "\n",
       "    .dataframe thead th {\n",
       "        text-align: right;\n",
       "    }\n",
       "</style>\n",
       "<table border=\"1\" class=\"dataframe\">\n",
       "  <thead>\n",
       "    <tr style=\"text-align: right;\">\n",
       "      <th>debt</th>\n",
       "      <th>0</th>\n",
       "      <th>1</th>\n",
       "      <th>all_borrowers</th>\n",
       "      <th>ratio_purpose</th>\n",
       "      <th>debtor_share%</th>\n",
       "    </tr>\n",
       "    <tr>\n",
       "      <th>purpose_category</th>\n",
       "      <th></th>\n",
       "      <th></th>\n",
       "      <th></th>\n",
       "      <th></th>\n",
       "      <th></th>\n",
       "    </tr>\n",
       "  </thead>\n",
       "  <tbody>\n",
       "    <tr>\n",
       "      <th>операции с автомобилем</th>\n",
       "      <td>3881</td>\n",
       "      <td>400</td>\n",
       "      <td>4281</td>\n",
       "      <td>9.34</td>\n",
       "      <td>23.09</td>\n",
       "    </tr>\n",
       "    <tr>\n",
       "      <th>операции с недвижимостью</th>\n",
       "      <td>9974</td>\n",
       "      <td>780</td>\n",
       "      <td>10754</td>\n",
       "      <td>7.25</td>\n",
       "      <td>45.03</td>\n",
       "    </tr>\n",
       "    <tr>\n",
       "      <th>получение образования</th>\n",
       "      <td>3620</td>\n",
       "      <td>369</td>\n",
       "      <td>3989</td>\n",
       "      <td>9.25</td>\n",
       "      <td>21.30</td>\n",
       "    </tr>\n",
       "    <tr>\n",
       "      <th>проведение свадьбы</th>\n",
       "      <td>2141</td>\n",
       "      <td>183</td>\n",
       "      <td>2324</td>\n",
       "      <td>7.87</td>\n",
       "      <td>10.57</td>\n",
       "    </tr>\n",
       "  </tbody>\n",
       "</table>\n",
       "</div>"
      ],
      "text/plain": [
       "debt                         0    1  all_borrowers  ratio_purpose  \\\n",
       "purpose_category                                                    \n",
       "операции с автомобилем    3881  400           4281           9.34   \n",
       "операции с недвижимостью  9974  780          10754           7.25   \n",
       "получение образования     3620  369           3989           9.25   \n",
       "проведение свадьбы        2141  183           2324           7.87   \n",
       "\n",
       "debt                      debtor_share%  \n",
       "purpose_category                         \n",
       "операции с автомобилем            23.09  \n",
       "операции с недвижимостью          45.03  \n",
       "получение образования             21.30  \n",
       "проведение свадьбы                10.57  "
      ]
     },
     "execution_count": 28,
     "metadata": {},
     "output_type": "execute_result"
    }
   ],
   "source": [
    "data_pivot_purpose = data.pivot_table(index = ['purpose_category'], columns='debt', values='education_id' , aggfunc='count')\n",
    "data_pivot_purpose['all_borrowers'] = data_pivot_purpose[1] + data_pivot_purpose[0]\n",
    "data_pivot_purpose['ratio_purpose'] = data_pivot_purpose[1] / data_pivot_purpose['all_borrowers'] * 100\n",
    "data_pivot_purpose['ratio_purpose'] = data_pivot_purpose['ratio_purpose'].round(2)\n",
    "data_pivot_purpose['debtor_share%'] = data_pivot_purpose[1] / data['debt'].sum() * 100\n",
    "data_pivot_purpose['debtor_share%'] = data_pivot_purpose['debtor_share%'].round(2)\n",
    "data_pivot_purpose\n"
   ]
  },
  {
   "cell_type": "markdown",
   "id": "b4bb2ce6",
   "metadata": {
    "deletable": false,
    "id": "b4bb2ce6"
   },
   "source": [
    "**Вывод:** Здесь самое большое количество \"плохих\" заемщиков, которые брали кредит на операции с недвижимостью - 45.03%. Далее, операции с автомобилем - 23.09%, получение оразования - 21.3% и последня категория - проведение свадьбы - 10.57%. Здесь\n",
    "явно прослеживается зависимость между размером капитализации операций и риском невозврата кредита. Имеется в ввиду, что категория \"операции с недвижимостью\" требуют большего финансирования, чем операции с автомобилем или получение образования, и поэтому риск невозврата кредита в данном случае самый высокий.\n",
    "\n",
    "Распределение доли \"плохих\" заемщиков внутри групп по целям кредита выглядит следующим образом:   \n",
    "\n",
    "* в категории \"операции с автомобилем\" самая высокая доля \"плохих\" заемщиков - 9.34%\n",
    "*  в категории \"получение образования\" доля \"плохих\" заемщиков составлет 9.25%\n",
    "*  в категории \"проведение свадьбы\" доля \"плохих\" заемщиков составлет 7.87%\n",
    "*  в категории \"операции с недвижимостью\" доля \"плохих\" заемщиков составлет 7.25%\n",
    "\n",
    "Данный показатель также сопоставим с показателем доли \"плохих\" заемщиков в датасете - 8.11%  "
   ]
  },
  {
   "cell_type": "markdown",
   "id": "09c3ac4c",
   "metadata": {
    "deletable": false,
    "editable": false,
    "id": "09c3ac4c"
   },
   "source": [
    "**Задание 23. Приведите возможные причины появления пропусков в исходных данных.**"
   ]
  },
  {
   "cell_type": "markdown",
   "id": "9da2ceda",
   "metadata": {
    "deletable": false,
    "id": "9da2ceda"
   },
   "source": [
    "**Ответ:** Возможные причины пропусков данных:\n",
    "- ошибки при вводе данных\n",
    "- специальное сокрытие информации\n",
    "- фрод"
   ]
  },
  {
   "cell_type": "markdown",
   "id": "7b0487d6",
   "metadata": {
    "deletable": false,
    "editable": false,
    "id": "7b0487d6"
   },
   "source": [
    "**Задание 24. Объясните, почему заполнить пропуски медианным значением — лучшее решение для количественных переменных.**"
   ]
  },
  {
   "cell_type": "markdown",
   "id": "7ecf2b8e",
   "metadata": {
    "deletable": false,
    "id": "7ecf2b8e"
   },
   "source": [
    "Метод median() позволяет исключить влияние на анализ/обработку данных так называемых \"выбросов\" - не тепичных данных. Средняя некорректно характерезует данные если некоторые значения сильно выделяются."
   ]
  },
  {
   "cell_type": "markdown",
   "id": "6db5255a",
   "metadata": {
    "deletable": false,
    "editable": false,
    "id": "6db5255a"
   },
   "source": [
    "## Общий вывод."
   ]
  },
  {
   "cell_type": "markdown",
   "id": "bad65432",
   "metadata": {
    "id": "bad65432"
   },
   "source": [
    "Считаю что при построении полноценной скоринговой системы:\n",
    "1. Необходимо включать в выборку больше данных связанных с условиями кредитования: размер, срок, процентная ставка\n",
    "2. Для определения тесноты и направления связи между дескрептивными параметрами: количество детей, семейное положение, уровень дохода, цель кредита, и способностью своевременной выплачивать кредит, использовать корреляционный анализ\n",
    "3. Необходимо в большей степени опираться на абсолютные показатели количества \"плохих\" заемщиков по группам. В рисковую категорию входят бездетные заемщики состоящие в браке с уровнем дохода между 50001 и 200000 и целью кредита \"операции с недвижимость\".\n",
    "4. В процессе анализа данных была произведена кагортизация данных по следующим параметрам: по количеству детей; по семейному положению; по уровню дохода и цели кредита. В рамках полученных группировок, внутри каждой группы были расчитаны отношения \"плохих\" заемщиков к их общему количеству. За исключением одного случая - группа заемщиков с 5 детьми, этот показатель колебался от 6 до 9.8%%.  \n",
    "\n"
   ]
  }
 ],
 "metadata": {
  "ExecuteTimeLog": [
   {
    "duration": 42,
    "start_time": "2022-06-11T11:08:08.933Z"
   },
   {
    "duration": 417,
    "start_time": "2022-06-11T11:08:16.713Z"
   },
   {
    "duration": 30,
    "start_time": "2022-06-11T11:08:18.008Z"
   },
   {
    "duration": 16,
    "start_time": "2022-06-11T11:08:19.231Z"
   },
   {
    "duration": 10,
    "start_time": "2022-06-11T11:08:22.201Z"
   },
   {
    "duration": 32,
    "start_time": "2022-06-11T11:08:22.213Z"
   },
   {
    "duration": 4,
    "start_time": "2022-06-11T11:08:22.950Z"
   },
   {
    "duration": 11,
    "start_time": "2022-06-11T11:08:23.684Z"
   },
   {
    "duration": 3,
    "start_time": "2022-06-11T11:08:26.108Z"
   },
   {
    "duration": 6,
    "start_time": "2022-06-11T11:08:26.969Z"
   },
   {
    "duration": 4,
    "start_time": "2022-06-11T11:08:27.833Z"
   },
   {
    "duration": 28,
    "start_time": "2022-06-11T11:08:29.218Z"
   },
   {
    "duration": 8,
    "start_time": "2022-06-11T11:08:30.458Z"
   },
   {
    "duration": 5,
    "start_time": "2022-06-11T11:08:32.081Z"
   },
   {
    "duration": 22,
    "start_time": "2022-06-11T11:08:33.279Z"
   },
   {
    "duration": 20,
    "start_time": "2022-06-11T11:08:33.889Z"
   },
   {
    "duration": 15,
    "start_time": "2022-06-11T11:08:35.482Z"
   },
   {
    "duration": 4,
    "start_time": "2022-06-11T11:08:37.398Z"
   },
   {
    "duration": 11,
    "start_time": "2022-06-11T11:08:38.239Z"
   },
   {
    "duration": 5,
    "start_time": "2022-06-11T11:08:40.335Z"
   },
   {
    "duration": 2,
    "start_time": "2022-06-11T11:08:42.324Z"
   },
   {
    "duration": 14,
    "start_time": "2022-06-11T11:08:42.857Z"
   },
   {
    "duration": 4,
    "start_time": "2022-06-11T11:20:05.348Z"
   },
   {
    "duration": 4,
    "start_time": "2022-06-11T11:20:16.260Z"
   },
   {
    "duration": 4,
    "start_time": "2022-06-11T11:22:09.936Z"
   },
   {
    "duration": 6,
    "start_time": "2022-06-11T11:33:30.112Z"
   },
   {
    "duration": 19,
    "start_time": "2022-06-11T11:36:05.347Z"
   },
   {
    "duration": 7,
    "start_time": "2022-06-11T11:37:02.364Z"
   },
   {
    "duration": 19,
    "start_time": "2022-06-11T11:38:03.237Z"
   },
   {
    "duration": 17,
    "start_time": "2022-06-11T11:39:41.562Z"
   },
   {
    "duration": 5,
    "start_time": "2022-06-11T11:46:21.293Z"
   },
   {
    "duration": 7,
    "start_time": "2022-06-11T11:47:33.046Z"
   },
   {
    "duration": 9,
    "start_time": "2022-06-11T11:49:14.834Z"
   },
   {
    "duration": 9,
    "start_time": "2022-06-11T11:50:01.132Z"
   },
   {
    "duration": 13,
    "start_time": "2022-06-11T11:51:12.438Z"
   },
   {
    "duration": 14,
    "start_time": "2022-06-11T11:51:43.656Z"
   },
   {
    "duration": 3,
    "start_time": "2022-06-11T13:04:05.016Z"
   },
   {
    "duration": 5,
    "start_time": "2022-06-11T13:04:09.678Z"
   },
   {
    "duration": 20,
    "start_time": "2022-06-11T13:04:11.051Z"
   },
   {
    "duration": 3,
    "start_time": "2022-06-11T13:04:12.534Z"
   },
   {
    "duration": 3,
    "start_time": "2022-06-11T13:04:13.933Z"
   },
   {
    "duration": 8,
    "start_time": "2022-06-11T13:04:27.058Z"
   },
   {
    "duration": 9,
    "start_time": "2022-06-11T13:05:11.425Z"
   },
   {
    "duration": 10,
    "start_time": "2022-06-11T13:05:20.736Z"
   },
   {
    "duration": 9,
    "start_time": "2022-06-11T13:06:07.948Z"
   },
   {
    "duration": 1094,
    "start_time": "2022-06-11T20:09:56.424Z"
   },
   {
    "duration": 29,
    "start_time": "2022-06-11T20:09:57.521Z"
   },
   {
    "duration": 16,
    "start_time": "2022-06-11T20:09:57.552Z"
   },
   {
    "duration": 10,
    "start_time": "2022-06-11T20:09:57.570Z"
   },
   {
    "duration": 35,
    "start_time": "2022-06-11T20:09:57.582Z"
   },
   {
    "duration": 3,
    "start_time": "2022-06-11T20:09:57.619Z"
   },
   {
    "duration": 36,
    "start_time": "2022-06-11T20:09:57.623Z"
   },
   {
    "duration": 5,
    "start_time": "2022-06-11T20:09:57.661Z"
   },
   {
    "duration": 9,
    "start_time": "2022-06-11T20:09:57.667Z"
   },
   {
    "duration": 6,
    "start_time": "2022-06-11T20:09:57.679Z"
   },
   {
    "duration": 34,
    "start_time": "2022-06-11T20:09:57.687Z"
   },
   {
    "duration": 38,
    "start_time": "2022-06-11T20:09:57.723Z"
   },
   {
    "duration": 4,
    "start_time": "2022-06-11T20:09:57.762Z"
   },
   {
    "duration": 24,
    "start_time": "2022-06-11T20:09:57.768Z"
   },
   {
    "duration": 16,
    "start_time": "2022-06-11T20:09:57.794Z"
   },
   {
    "duration": 15,
    "start_time": "2022-06-11T20:09:57.811Z"
   },
   {
    "duration": 32,
    "start_time": "2022-06-11T20:09:57.828Z"
   },
   {
    "duration": 17,
    "start_time": "2022-06-11T20:09:57.862Z"
   },
   {
    "duration": 9,
    "start_time": "2022-06-11T20:09:57.881Z"
   },
   {
    "duration": 5,
    "start_time": "2022-06-11T20:09:57.892Z"
   },
   {
    "duration": 28,
    "start_time": "2022-06-11T20:09:57.899Z"
   },
   {
    "duration": 5,
    "start_time": "2022-06-11T20:09:57.929Z"
   },
   {
    "duration": 33,
    "start_time": "2022-06-11T20:09:57.935Z"
   },
   {
    "duration": 10,
    "start_time": "2022-06-11T20:09:57.970Z"
   },
   {
    "duration": 81,
    "start_time": "2022-06-11T20:09:57.982Z"
   },
   {
    "duration": 0,
    "start_time": "2022-06-11T20:09:58.065Z"
   },
   {
    "duration": 0,
    "start_time": "2022-06-11T20:09:58.067Z"
   },
   {
    "duration": 0,
    "start_time": "2022-06-11T20:09:58.068Z"
   },
   {
    "duration": 0,
    "start_time": "2022-06-11T20:09:58.070Z"
   },
   {
    "duration": 0,
    "start_time": "2022-06-11T20:09:58.071Z"
   },
   {
    "duration": 16,
    "start_time": "2022-06-11T20:10:02.515Z"
   },
   {
    "duration": 5,
    "start_time": "2022-06-11T20:10:24.019Z"
   },
   {
    "duration": 8,
    "start_time": "2022-06-11T20:10:25.194Z"
   },
   {
    "duration": 6,
    "start_time": "2022-06-11T20:10:28.805Z"
   },
   {
    "duration": 7,
    "start_time": "2022-06-11T20:10:40.328Z"
   },
   {
    "duration": 8,
    "start_time": "2022-06-11T20:11:06.859Z"
   },
   {
    "duration": 8,
    "start_time": "2022-06-11T20:25:12.692Z"
   },
   {
    "duration": 7,
    "start_time": "2022-06-11T20:25:16.501Z"
   },
   {
    "duration": 8,
    "start_time": "2022-06-11T20:25:31.136Z"
   },
   {
    "duration": 10,
    "start_time": "2022-06-11T20:25:58.410Z"
   },
   {
    "duration": 11,
    "start_time": "2022-06-11T20:29:10.319Z"
   },
   {
    "duration": 59,
    "start_time": "2022-06-12T09:53:16.629Z"
   },
   {
    "duration": 546,
    "start_time": "2022-06-12T09:53:26.875Z"
   },
   {
    "duration": 23,
    "start_time": "2022-06-12T09:53:27.422Z"
   },
   {
    "duration": 18,
    "start_time": "2022-06-12T09:53:27.447Z"
   },
   {
    "duration": 11,
    "start_time": "2022-06-12T09:53:27.467Z"
   },
   {
    "duration": 40,
    "start_time": "2022-06-12T09:53:27.479Z"
   },
   {
    "duration": 4,
    "start_time": "2022-06-12T09:53:27.521Z"
   },
   {
    "duration": 34,
    "start_time": "2022-06-12T09:53:27.526Z"
   },
   {
    "duration": 7,
    "start_time": "2022-06-12T09:53:27.563Z"
   },
   {
    "duration": 28,
    "start_time": "2022-06-12T09:53:27.573Z"
   },
   {
    "duration": 6,
    "start_time": "2022-06-12T09:53:27.604Z"
   },
   {
    "duration": 55,
    "start_time": "2022-06-12T09:53:27.612Z"
   },
   {
    "duration": 12,
    "start_time": "2022-06-12T09:53:27.672Z"
   },
   {
    "duration": 4,
    "start_time": "2022-06-12T09:53:27.686Z"
   },
   {
    "duration": 21,
    "start_time": "2022-06-12T09:53:27.692Z"
   },
   {
    "duration": 21,
    "start_time": "2022-06-12T09:53:27.715Z"
   },
   {
    "duration": 39,
    "start_time": "2022-06-12T09:53:27.738Z"
   },
   {
    "duration": 4,
    "start_time": "2022-06-12T09:53:27.778Z"
   },
   {
    "duration": 16,
    "start_time": "2022-06-12T09:53:27.784Z"
   },
   {
    "duration": 16,
    "start_time": "2022-06-12T09:53:27.802Z"
   },
   {
    "duration": 4,
    "start_time": "2022-06-12T09:53:27.820Z"
   },
   {
    "duration": 54,
    "start_time": "2022-06-12T09:53:27.826Z"
   },
   {
    "duration": 12,
    "start_time": "2022-06-12T09:53:27.882Z"
   },
   {
    "duration": 6,
    "start_time": "2022-06-12T09:53:27.896Z"
   },
   {
    "duration": 8,
    "start_time": "2022-06-12T09:53:27.904Z"
   },
   {
    "duration": 58,
    "start_time": "2022-06-12T09:53:27.914Z"
   },
   {
    "duration": 8,
    "start_time": "2022-06-12T09:53:27.976Z"
   },
   {
    "duration": 29,
    "start_time": "2022-06-12T09:53:27.986Z"
   },
   {
    "duration": 3,
    "start_time": "2022-06-12T09:53:28.018Z"
   },
   {
    "duration": 11,
    "start_time": "2022-06-12T09:53:28.022Z"
   },
   {
    "duration": 31,
    "start_time": "2022-06-12T09:53:28.035Z"
   },
   {
    "duration": 8,
    "start_time": "2022-06-12T09:53:46.306Z"
   },
   {
    "duration": 12,
    "start_time": "2022-06-12T09:58:26.527Z"
   },
   {
    "duration": 14,
    "start_time": "2022-06-12T09:58:35.990Z"
   },
   {
    "duration": 37,
    "start_time": "2022-06-12T09:59:50.582Z"
   },
   {
    "duration": 9,
    "start_time": "2022-06-12T10:01:26.581Z"
   },
   {
    "duration": 71,
    "start_time": "2022-06-12T10:18:37.429Z"
   },
   {
    "duration": 16,
    "start_time": "2022-06-12T10:18:58.007Z"
   },
   {
    "duration": 13,
    "start_time": "2022-06-12T10:19:16.853Z"
   },
   {
    "duration": 4,
    "start_time": "2022-06-12T10:21:04.396Z"
   },
   {
    "duration": 16,
    "start_time": "2022-06-12T10:21:16.392Z"
   },
   {
    "duration": 6,
    "start_time": "2022-06-12T10:21:36.472Z"
   },
   {
    "duration": 8,
    "start_time": "2022-06-12T10:21:39.058Z"
   },
   {
    "duration": 13,
    "start_time": "2022-06-12T10:22:27.180Z"
   },
   {
    "duration": 6,
    "start_time": "2022-06-12T10:22:30.639Z"
   },
   {
    "duration": 11,
    "start_time": "2022-06-12T10:22:31.722Z"
   },
   {
    "duration": 13,
    "start_time": "2022-06-12T10:22:42.752Z"
   },
   {
    "duration": 8,
    "start_time": "2022-06-12T10:22:45.921Z"
   },
   {
    "duration": 8,
    "start_time": "2022-06-12T10:22:47.016Z"
   },
   {
    "duration": 14,
    "start_time": "2022-06-12T10:23:18.160Z"
   },
   {
    "duration": 6,
    "start_time": "2022-06-12T10:23:21.290Z"
   },
   {
    "duration": 9,
    "start_time": "2022-06-12T10:23:22.199Z"
   },
   {
    "duration": 15,
    "start_time": "2022-06-12T10:23:38.975Z"
   },
   {
    "duration": 7,
    "start_time": "2022-06-12T10:23:42.236Z"
   },
   {
    "duration": 7,
    "start_time": "2022-06-12T10:23:43.343Z"
   },
   {
    "duration": 20,
    "start_time": "2022-06-12T10:26:29.571Z"
   },
   {
    "duration": 12,
    "start_time": "2022-06-12T10:27:16.000Z"
   },
   {
    "duration": 12,
    "start_time": "2022-06-12T10:27:34.759Z"
   },
   {
    "duration": 24,
    "start_time": "2022-06-12T10:29:36.703Z"
   },
   {
    "duration": 25,
    "start_time": "2022-06-12T10:29:46.329Z"
   },
   {
    "duration": 48,
    "start_time": "2022-06-12T10:30:05.560Z"
   },
   {
    "duration": 57,
    "start_time": "2022-06-12T10:30:12.014Z"
   },
   {
    "duration": 36,
    "start_time": "2022-06-12T10:30:32.158Z"
   },
   {
    "duration": 28,
    "start_time": "2022-06-12T10:32:05.562Z"
   },
   {
    "duration": 19,
    "start_time": "2022-06-12T10:32:12.746Z"
   },
   {
    "duration": 26,
    "start_time": "2022-06-12T10:32:21.433Z"
   },
   {
    "duration": 10,
    "start_time": "2022-06-12T10:32:38.960Z"
   },
   {
    "duration": 20,
    "start_time": "2022-06-12T10:38:27.084Z"
   },
   {
    "duration": 17,
    "start_time": "2022-06-12T10:38:39.678Z"
   },
   {
    "duration": 30,
    "start_time": "2022-06-12T10:38:54.884Z"
   },
   {
    "duration": 19,
    "start_time": "2022-06-12T10:39:17.875Z"
   },
   {
    "duration": 27,
    "start_time": "2022-06-12T10:39:37.397Z"
   },
   {
    "duration": 16,
    "start_time": "2022-06-12T10:39:54.109Z"
   },
   {
    "duration": 16,
    "start_time": "2022-06-12T10:40:08.504Z"
   },
   {
    "duration": 21,
    "start_time": "2022-06-12T10:40:21.681Z"
   },
   {
    "duration": 18,
    "start_time": "2022-06-12T10:41:23.193Z"
   },
   {
    "duration": 16,
    "start_time": "2022-06-12T10:41:32.975Z"
   },
   {
    "duration": 509,
    "start_time": "2022-06-12T10:41:53.607Z"
   },
   {
    "duration": 18,
    "start_time": "2022-06-12T10:41:58.988Z"
   },
   {
    "duration": 562,
    "start_time": "2022-06-12T10:41:59.375Z"
   },
   {
    "duration": 15,
    "start_time": "2022-06-12T10:42:19.604Z"
   },
   {
    "duration": 28,
    "start_time": "2022-06-12T10:43:15.508Z"
   },
   {
    "duration": 23,
    "start_time": "2022-06-12T10:43:33.775Z"
   },
   {
    "duration": 30,
    "start_time": "2022-06-12T10:43:54.151Z"
   },
   {
    "duration": 17,
    "start_time": "2022-06-12T10:44:32.478Z"
   },
   {
    "duration": 3,
    "start_time": "2022-06-12T10:44:32.606Z"
   },
   {
    "duration": 26,
    "start_time": "2022-06-12T10:49:13.392Z"
   },
   {
    "duration": 20,
    "start_time": "2022-06-12T10:49:21.724Z"
   },
   {
    "duration": 55,
    "start_time": "2022-06-12T10:49:29.947Z"
   },
   {
    "duration": 25,
    "start_time": "2022-06-12T10:50:02.959Z"
   },
   {
    "duration": 16,
    "start_time": "2022-06-12T10:50:22.490Z"
   },
   {
    "duration": 20,
    "start_time": "2022-06-12T10:50:37.507Z"
   },
   {
    "duration": 17,
    "start_time": "2022-06-12T10:51:54.982Z"
   },
   {
    "duration": 19,
    "start_time": "2022-06-12T10:52:02.776Z"
   },
   {
    "duration": 21,
    "start_time": "2022-06-12T10:52:22.549Z"
   },
   {
    "duration": 459,
    "start_time": "2022-06-12T10:58:00.748Z"
   },
   {
    "duration": 20,
    "start_time": "2022-06-12T10:58:52.167Z"
   },
   {
    "duration": 19,
    "start_time": "2022-06-12T10:59:17.194Z"
   },
   {
    "duration": 100,
    "start_time": "2022-06-12T11:00:16.956Z"
   },
   {
    "duration": 42,
    "start_time": "2022-06-12T11:00:43.713Z"
   },
   {
    "duration": 54,
    "start_time": "2022-06-12T11:01:01.133Z"
   },
   {
    "duration": 26,
    "start_time": "2022-06-12T11:01:06.076Z"
   },
   {
    "duration": 45,
    "start_time": "2022-06-12T11:02:56.242Z"
   },
   {
    "duration": 28,
    "start_time": "2022-06-12T11:03:12.076Z"
   },
   {
    "duration": 6,
    "start_time": "2022-06-12T11:03:18.695Z"
   },
   {
    "duration": 30,
    "start_time": "2022-06-12T11:03:20.009Z"
   },
   {
    "duration": 27,
    "start_time": "2022-06-12T11:03:34.073Z"
   },
   {
    "duration": 46,
    "start_time": "2022-06-12T11:03:41.533Z"
   },
   {
    "duration": 30,
    "start_time": "2022-06-12T11:03:50.052Z"
   },
   {
    "duration": 475,
    "start_time": "2022-06-12T11:03:55.731Z"
   },
   {
    "duration": 24,
    "start_time": "2022-06-12T11:03:56.208Z"
   },
   {
    "duration": 38,
    "start_time": "2022-06-12T11:03:56.235Z"
   },
   {
    "duration": 15,
    "start_time": "2022-06-12T11:03:56.276Z"
   },
   {
    "duration": 53,
    "start_time": "2022-06-12T11:03:56.293Z"
   },
   {
    "duration": 7,
    "start_time": "2022-06-12T11:03:56.361Z"
   },
   {
    "duration": 16,
    "start_time": "2022-06-12T11:03:56.370Z"
   },
   {
    "duration": 6,
    "start_time": "2022-06-12T11:03:56.387Z"
   },
   {
    "duration": 10,
    "start_time": "2022-06-12T11:03:56.394Z"
   },
   {
    "duration": 5,
    "start_time": "2022-06-12T11:03:56.406Z"
   },
   {
    "duration": 67,
    "start_time": "2022-06-12T11:03:56.412Z"
   },
   {
    "duration": 10,
    "start_time": "2022-06-12T11:03:56.481Z"
   },
   {
    "duration": 4,
    "start_time": "2022-06-12T11:03:56.493Z"
   },
   {
    "duration": 25,
    "start_time": "2022-06-12T11:03:56.498Z"
   },
   {
    "duration": 47,
    "start_time": "2022-06-12T11:03:56.525Z"
   },
   {
    "duration": 13,
    "start_time": "2022-06-12T11:03:56.574Z"
   },
   {
    "duration": 7,
    "start_time": "2022-06-12T11:03:56.589Z"
   },
   {
    "duration": 13,
    "start_time": "2022-06-12T11:03:56.597Z"
   },
   {
    "duration": 8,
    "start_time": "2022-06-12T11:03:56.612Z"
   },
   {
    "duration": 8,
    "start_time": "2022-06-12T11:03:56.622Z"
   },
   {
    "duration": 50,
    "start_time": "2022-06-12T11:03:56.631Z"
   },
   {
    "duration": 23,
    "start_time": "2022-06-12T11:03:56.682Z"
   },
   {
    "duration": 13,
    "start_time": "2022-06-12T11:03:56.707Z"
   },
   {
    "duration": 5,
    "start_time": "2022-06-12T11:03:56.722Z"
   },
   {
    "duration": 9,
    "start_time": "2022-06-12T11:03:56.728Z"
   },
   {
    "duration": 16,
    "start_time": "2022-06-12T11:03:56.758Z"
   },
   {
    "duration": 0,
    "start_time": "2022-06-12T11:03:56.775Z"
   },
   {
    "duration": 0,
    "start_time": "2022-06-12T11:03:56.776Z"
   },
   {
    "duration": 0,
    "start_time": "2022-06-12T11:03:56.777Z"
   },
   {
    "duration": 0,
    "start_time": "2022-06-12T11:03:56.779Z"
   },
   {
    "duration": 0,
    "start_time": "2022-06-12T11:03:56.780Z"
   },
   {
    "duration": 0,
    "start_time": "2022-06-12T11:03:56.782Z"
   },
   {
    "duration": 5,
    "start_time": "2022-06-12T11:04:04.778Z"
   },
   {
    "duration": 5,
    "start_time": "2022-06-12T11:04:05.785Z"
   },
   {
    "duration": 5,
    "start_time": "2022-06-12T11:04:25.836Z"
   },
   {
    "duration": 30,
    "start_time": "2022-06-12T11:04:31.787Z"
   },
   {
    "duration": 6,
    "start_time": "2022-06-12T11:04:34.413Z"
   },
   {
    "duration": 5,
    "start_time": "2022-06-12T11:04:36.125Z"
   },
   {
    "duration": 5,
    "start_time": "2022-06-12T11:04:37.686Z"
   },
   {
    "duration": 4,
    "start_time": "2022-06-12T11:04:38.575Z"
   },
   {
    "duration": 5,
    "start_time": "2022-06-12T11:04:48.127Z"
   },
   {
    "duration": 11,
    "start_time": "2022-06-12T11:04:54.511Z"
   },
   {
    "duration": 9,
    "start_time": "2022-06-12T11:05:05.721Z"
   },
   {
    "duration": 19,
    "start_time": "2022-06-12T11:05:42.427Z"
   },
   {
    "duration": 90,
    "start_time": "2022-06-12T11:05:53.242Z"
   },
   {
    "duration": 29,
    "start_time": "2022-06-12T11:06:06.054Z"
   },
   {
    "duration": 28,
    "start_time": "2022-06-12T11:10:13.329Z"
   },
   {
    "duration": 31,
    "start_time": "2022-06-12T11:11:05.502Z"
   },
   {
    "duration": 22,
    "start_time": "2022-06-12T11:11:25.415Z"
   },
   {
    "duration": 21,
    "start_time": "2022-06-12T11:11:27.318Z"
   },
   {
    "duration": 22,
    "start_time": "2022-06-12T11:11:35.033Z"
   },
   {
    "duration": 45,
    "start_time": "2022-06-12T11:11:45.973Z"
   },
   {
    "duration": 28,
    "start_time": "2022-06-12T11:12:02.317Z"
   },
   {
    "duration": 49,
    "start_time": "2022-06-12T11:15:40.955Z"
   },
   {
    "duration": 46,
    "start_time": "2022-06-12T11:15:57.256Z"
   },
   {
    "duration": 18,
    "start_time": "2022-06-12T11:16:23.419Z"
   },
   {
    "duration": 27,
    "start_time": "2022-06-12T11:16:40.348Z"
   },
   {
    "duration": 6,
    "start_time": "2022-06-12T11:22:27.018Z"
   },
   {
    "duration": 19,
    "start_time": "2022-06-12T11:22:27.815Z"
   },
   {
    "duration": 10,
    "start_time": "2022-06-12T11:23:59.694Z"
   },
   {
    "duration": 9,
    "start_time": "2022-06-12T11:24:15.619Z"
   },
   {
    "duration": 8,
    "start_time": "2022-06-12T11:25:44.084Z"
   },
   {
    "duration": 5,
    "start_time": "2022-06-12T11:30:02.989Z"
   },
   {
    "duration": 4,
    "start_time": "2022-06-12T11:30:14.430Z"
   },
   {
    "duration": 6,
    "start_time": "2022-06-12T11:30:20.483Z"
   },
   {
    "duration": 5,
    "start_time": "2022-06-12T11:31:07.541Z"
   },
   {
    "duration": 4,
    "start_time": "2022-06-12T12:09:51.687Z"
   },
   {
    "duration": 24,
    "start_time": "2022-06-12T12:10:00.482Z"
   },
   {
    "duration": 55,
    "start_time": "2022-06-12T12:10:15.217Z"
   },
   {
    "duration": 32,
    "start_time": "2022-06-12T12:10:56.136Z"
   },
   {
    "duration": 645,
    "start_time": "2022-06-12T12:11:14.181Z"
   },
   {
    "duration": 22,
    "start_time": "2022-06-12T12:11:59.830Z"
   },
   {
    "duration": 23,
    "start_time": "2022-06-12T12:12:32.348Z"
   },
   {
    "duration": 20,
    "start_time": "2022-06-12T12:12:42.584Z"
   },
   {
    "duration": 29,
    "start_time": "2022-06-12T12:19:21.870Z"
   },
   {
    "duration": 31,
    "start_time": "2022-06-12T12:26:35.348Z"
   },
   {
    "duration": 26,
    "start_time": "2022-06-12T12:26:57.907Z"
   },
   {
    "duration": 33,
    "start_time": "2022-06-12T12:27:52.192Z"
   },
   {
    "duration": 36,
    "start_time": "2022-06-12T12:29:34.550Z"
   },
   {
    "duration": 27,
    "start_time": "2022-06-12T12:30:56.851Z"
   },
   {
    "duration": 6,
    "start_time": "2022-06-12T13:32:59.298Z"
   },
   {
    "duration": 12,
    "start_time": "2022-06-12T13:34:47.477Z"
   },
   {
    "duration": 18,
    "start_time": "2022-06-12T13:40:27.918Z"
   },
   {
    "duration": 9,
    "start_time": "2022-06-12T13:40:41.239Z"
   },
   {
    "duration": 20,
    "start_time": "2022-06-12T13:40:51.938Z"
   },
   {
    "duration": 12,
    "start_time": "2022-06-12T13:41:01.089Z"
   },
   {
    "duration": 9,
    "start_time": "2022-06-12T13:46:40.717Z"
   },
   {
    "duration": 10,
    "start_time": "2022-06-12T13:46:49.382Z"
   },
   {
    "duration": 14,
    "start_time": "2022-06-12T13:47:06.116Z"
   },
   {
    "duration": 10,
    "start_time": "2022-06-12T13:47:11.223Z"
   },
   {
    "duration": 11,
    "start_time": "2022-06-12T13:47:30.459Z"
   },
   {
    "duration": 10,
    "start_time": "2022-06-12T13:47:45.982Z"
   },
   {
    "duration": 9,
    "start_time": "2022-06-12T13:48:14.420Z"
   },
   {
    "duration": 4,
    "start_time": "2022-06-12T13:49:34.895Z"
   },
   {
    "duration": 8,
    "start_time": "2022-06-12T13:50:01.914Z"
   },
   {
    "duration": 9,
    "start_time": "2022-06-12T13:50:15.043Z"
   },
   {
    "duration": 5,
    "start_time": "2022-06-12T13:50:40.412Z"
   },
   {
    "duration": 11,
    "start_time": "2022-06-12T13:51:05.971Z"
   },
   {
    "duration": 23,
    "start_time": "2022-06-12T14:07:57.547Z"
   },
   {
    "duration": 486,
    "start_time": "2022-06-12T14:08:14.595Z"
   },
   {
    "duration": 20,
    "start_time": "2022-06-12T14:08:37.955Z"
   },
   {
    "duration": 23,
    "start_time": "2022-06-12T14:10:57.300Z"
   },
   {
    "duration": 83,
    "start_time": "2022-06-13T07:48:13.629Z"
   },
   {
    "duration": 573,
    "start_time": "2022-06-13T07:48:29.033Z"
   },
   {
    "duration": 22,
    "start_time": "2022-06-13T07:48:29.608Z"
   },
   {
    "duration": 21,
    "start_time": "2022-06-13T07:48:29.632Z"
   },
   {
    "duration": 15,
    "start_time": "2022-06-13T07:48:29.658Z"
   },
   {
    "duration": 42,
    "start_time": "2022-06-13T07:48:29.675Z"
   },
   {
    "duration": 4,
    "start_time": "2022-06-13T07:48:29.719Z"
   },
   {
    "duration": 34,
    "start_time": "2022-06-13T07:48:29.725Z"
   },
   {
    "duration": 9,
    "start_time": "2022-06-13T07:48:29.761Z"
   },
   {
    "duration": 11,
    "start_time": "2022-06-13T07:48:29.771Z"
   },
   {
    "duration": 5,
    "start_time": "2022-06-13T07:48:29.785Z"
   },
   {
    "duration": 38,
    "start_time": "2022-06-13T07:48:29.792Z"
   },
   {
    "duration": 27,
    "start_time": "2022-06-13T07:48:29.832Z"
   },
   {
    "duration": 4,
    "start_time": "2022-06-13T07:48:29.861Z"
   },
   {
    "duration": 20,
    "start_time": "2022-06-13T07:48:29.866Z"
   },
   {
    "duration": 17,
    "start_time": "2022-06-13T07:48:29.887Z"
   },
   {
    "duration": 12,
    "start_time": "2022-06-13T07:48:29.906Z"
   },
   {
    "duration": 5,
    "start_time": "2022-06-13T07:48:29.920Z"
   },
   {
    "duration": 10,
    "start_time": "2022-06-13T07:48:29.959Z"
   },
   {
    "duration": 9,
    "start_time": "2022-06-13T07:48:29.971Z"
   },
   {
    "duration": 10,
    "start_time": "2022-06-13T07:48:29.982Z"
   },
   {
    "duration": 25,
    "start_time": "2022-06-13T07:48:29.994Z"
   },
   {
    "duration": 40,
    "start_time": "2022-06-13T07:48:30.021Z"
   },
   {
    "duration": 13,
    "start_time": "2022-06-13T07:48:30.064Z"
   },
   {
    "duration": 5,
    "start_time": "2022-06-13T07:48:30.080Z"
   },
   {
    "duration": 16,
    "start_time": "2022-06-13T07:48:30.087Z"
   },
   {
    "duration": 27,
    "start_time": "2022-06-13T07:48:30.105Z"
   },
   {
    "duration": 48,
    "start_time": "2022-06-13T07:48:30.135Z"
   },
   {
    "duration": 35,
    "start_time": "2022-06-13T07:48:30.187Z"
   },
   {
    "duration": 47,
    "start_time": "2022-06-13T07:48:30.224Z"
   },
   {
    "duration": 23,
    "start_time": "2022-06-13T07:48:35.915Z"
   },
   {
    "duration": 21,
    "start_time": "2022-06-13T07:48:50.730Z"
   },
   {
    "duration": 21,
    "start_time": "2022-06-13T07:51:01.418Z"
   },
   {
    "duration": 19,
    "start_time": "2022-06-13T08:00:57.801Z"
   },
   {
    "duration": 22,
    "start_time": "2022-06-13T08:02:28.368Z"
   },
   {
    "duration": 24,
    "start_time": "2022-06-13T08:03:00.389Z"
   },
   {
    "duration": 480,
    "start_time": "2022-06-13T08:11:56.253Z"
   },
   {
    "duration": 23,
    "start_time": "2022-06-13T08:11:56.735Z"
   },
   {
    "duration": 17,
    "start_time": "2022-06-13T08:11:56.759Z"
   },
   {
    "duration": 11,
    "start_time": "2022-06-13T08:11:56.777Z"
   },
   {
    "duration": 37,
    "start_time": "2022-06-13T08:11:56.790Z"
   },
   {
    "duration": 29,
    "start_time": "2022-06-13T08:11:56.829Z"
   },
   {
    "duration": 10,
    "start_time": "2022-06-13T08:11:56.860Z"
   },
   {
    "duration": 5,
    "start_time": "2022-06-13T08:11:56.872Z"
   },
   {
    "duration": 10,
    "start_time": "2022-06-13T08:11:56.879Z"
   },
   {
    "duration": 8,
    "start_time": "2022-06-13T08:11:56.890Z"
   },
   {
    "duration": 68,
    "start_time": "2022-06-13T08:11:56.899Z"
   },
   {
    "duration": 12,
    "start_time": "2022-06-13T08:11:56.969Z"
   },
   {
    "duration": 3,
    "start_time": "2022-06-13T08:11:56.983Z"
   },
   {
    "duration": 20,
    "start_time": "2022-06-13T08:11:56.989Z"
   },
   {
    "duration": 48,
    "start_time": "2022-06-13T08:11:57.011Z"
   },
   {
    "duration": 12,
    "start_time": "2022-06-13T08:11:57.061Z"
   },
   {
    "duration": 7,
    "start_time": "2022-06-13T08:11:57.074Z"
   },
   {
    "duration": 20,
    "start_time": "2022-06-13T08:11:57.083Z"
   },
   {
    "duration": 11,
    "start_time": "2022-06-13T08:11:57.105Z"
   },
   {
    "duration": 6,
    "start_time": "2022-06-13T08:11:57.117Z"
   },
   {
    "duration": 43,
    "start_time": "2022-06-13T08:11:57.125Z"
   },
   {
    "duration": 22,
    "start_time": "2022-06-13T08:11:57.170Z"
   },
   {
    "duration": 11,
    "start_time": "2022-06-13T08:11:57.194Z"
   },
   {
    "duration": 5,
    "start_time": "2022-06-13T08:11:57.207Z"
   },
   {
    "duration": 7,
    "start_time": "2022-06-13T08:11:57.213Z"
   },
   {
    "duration": 38,
    "start_time": "2022-06-13T08:11:57.222Z"
   },
   {
    "duration": 27,
    "start_time": "2022-06-13T08:11:57.261Z"
   },
   {
    "duration": 25,
    "start_time": "2022-06-13T08:11:57.289Z"
   },
   {
    "duration": 47,
    "start_time": "2022-06-13T08:11:57.316Z"
   },
   {
    "duration": 27,
    "start_time": "2022-06-13T08:14:36.190Z"
   },
   {
    "duration": 35,
    "start_time": "2022-06-13T08:15:23.186Z"
   },
   {
    "duration": 36,
    "start_time": "2022-06-13T08:16:26.414Z"
   },
   {
    "duration": 25,
    "start_time": "2022-06-13T08:16:30.470Z"
   },
   {
    "duration": 24,
    "start_time": "2022-06-13T08:17:35.269Z"
   },
   {
    "duration": 532,
    "start_time": "2022-06-13T09:36:19.028Z"
   },
   {
    "duration": 486,
    "start_time": "2022-06-13T09:36:33.619Z"
   },
   {
    "duration": 24,
    "start_time": "2022-06-13T09:36:34.107Z"
   },
   {
    "duration": 30,
    "start_time": "2022-06-13T09:36:34.133Z"
   },
   {
    "duration": 10,
    "start_time": "2022-06-13T09:36:34.166Z"
   },
   {
    "duration": 36,
    "start_time": "2022-06-13T09:36:34.178Z"
   },
   {
    "duration": 4,
    "start_time": "2022-06-13T09:36:34.216Z"
   },
   {
    "duration": 10,
    "start_time": "2022-06-13T09:36:34.222Z"
   },
   {
    "duration": 5,
    "start_time": "2022-06-13T09:36:34.259Z"
   },
   {
    "duration": 9,
    "start_time": "2022-06-13T09:36:34.266Z"
   },
   {
    "duration": 9,
    "start_time": "2022-06-13T09:36:34.279Z"
   },
   {
    "duration": 73,
    "start_time": "2022-06-13T09:36:34.290Z"
   },
   {
    "duration": 15,
    "start_time": "2022-06-13T09:36:34.365Z"
   },
   {
    "duration": 6,
    "start_time": "2022-06-13T09:36:34.383Z"
   },
   {
    "duration": 30,
    "start_time": "2022-06-13T09:36:34.391Z"
   },
   {
    "duration": 38,
    "start_time": "2022-06-13T09:36:34.423Z"
   },
   {
    "duration": 15,
    "start_time": "2022-06-13T09:36:34.463Z"
   },
   {
    "duration": 10,
    "start_time": "2022-06-13T09:36:34.480Z"
   },
   {
    "duration": 20,
    "start_time": "2022-06-13T09:36:34.493Z"
   },
   {
    "duration": 11,
    "start_time": "2022-06-13T09:36:34.515Z"
   },
   {
    "duration": 7,
    "start_time": "2022-06-13T09:36:34.528Z"
   },
   {
    "duration": 38,
    "start_time": "2022-06-13T09:36:34.537Z"
   },
   {
    "duration": 10,
    "start_time": "2022-06-13T09:36:34.576Z"
   },
   {
    "duration": 5,
    "start_time": "2022-06-13T09:36:34.587Z"
   },
   {
    "duration": 9,
    "start_time": "2022-06-13T09:36:34.594Z"
   },
   {
    "duration": 15,
    "start_time": "2022-06-13T09:36:34.604Z"
   },
   {
    "duration": 50,
    "start_time": "2022-06-13T09:36:34.620Z"
   },
   {
    "duration": 24,
    "start_time": "2022-06-13T09:36:34.672Z"
   },
   {
    "duration": 23,
    "start_time": "2022-06-13T09:36:34.699Z"
   },
   {
    "duration": 128,
    "start_time": "2022-06-13T09:36:34.723Z"
   },
   {
    "duration": 26,
    "start_time": "2022-06-13T09:36:44.852Z"
   },
   {
    "duration": 40,
    "start_time": "2022-06-13T09:36:48.938Z"
   },
   {
    "duration": 39,
    "start_time": "2022-06-13T09:37:27.389Z"
   },
   {
    "duration": 410,
    "start_time": "2022-06-13T09:38:44.479Z"
   },
   {
    "duration": 25,
    "start_time": "2022-06-13T09:38:49.714Z"
   },
   {
    "duration": 431,
    "start_time": "2022-06-13T09:38:54.327Z"
   },
   {
    "duration": 24,
    "start_time": "2022-06-13T09:39:28.016Z"
   },
   {
    "duration": 19,
    "start_time": "2022-06-13T09:41:20.137Z"
   },
   {
    "duration": 24,
    "start_time": "2022-06-13T09:41:49.456Z"
   },
   {
    "duration": 25,
    "start_time": "2022-06-13T09:43:33.317Z"
   },
   {
    "duration": 25,
    "start_time": "2022-06-13T09:44:47.097Z"
   },
   {
    "duration": 16,
    "start_time": "2022-06-13T09:45:32.402Z"
   },
   {
    "duration": 34,
    "start_time": "2022-06-13T09:45:43.498Z"
   },
   {
    "duration": 25,
    "start_time": "2022-06-13T09:46:16.951Z"
   },
   {
    "duration": 435,
    "start_time": "2022-06-13T18:09:40.745Z"
   },
   {
    "duration": 20,
    "start_time": "2022-06-13T18:09:41.181Z"
   },
   {
    "duration": 12,
    "start_time": "2022-06-13T18:09:41.202Z"
   },
   {
    "duration": 13,
    "start_time": "2022-06-13T18:09:41.216Z"
   },
   {
    "duration": 40,
    "start_time": "2022-06-13T18:09:41.230Z"
   },
   {
    "duration": 3,
    "start_time": "2022-06-13T18:09:41.271Z"
   },
   {
    "duration": 11,
    "start_time": "2022-06-13T18:09:41.275Z"
   },
   {
    "duration": 3,
    "start_time": "2022-06-13T18:09:41.288Z"
   },
   {
    "duration": 8,
    "start_time": "2022-06-13T18:09:41.293Z"
   },
   {
    "duration": 4,
    "start_time": "2022-06-13T18:09:41.303Z"
   },
   {
    "duration": 55,
    "start_time": "2022-06-13T18:09:41.308Z"
   },
   {
    "duration": 8,
    "start_time": "2022-06-13T18:09:41.365Z"
   },
   {
    "duration": 3,
    "start_time": "2022-06-13T18:09:41.374Z"
   },
   {
    "duration": 20,
    "start_time": "2022-06-13T18:09:41.378Z"
   },
   {
    "duration": 28,
    "start_time": "2022-06-13T18:09:41.399Z"
   },
   {
    "duration": 16,
    "start_time": "2022-06-13T18:09:41.431Z"
   },
   {
    "duration": 4,
    "start_time": "2022-06-13T18:09:41.448Z"
   },
   {
    "duration": 14,
    "start_time": "2022-06-13T18:09:41.454Z"
   },
   {
    "duration": 6,
    "start_time": "2022-06-13T18:09:41.469Z"
   },
   {
    "duration": 3,
    "start_time": "2022-06-13T18:09:41.477Z"
   },
   {
    "duration": 22,
    "start_time": "2022-06-13T18:09:41.481Z"
   },
   {
    "duration": 32,
    "start_time": "2022-06-13T18:09:41.504Z"
   },
   {
    "duration": 8,
    "start_time": "2022-06-13T18:09:41.538Z"
   },
   {
    "duration": 5,
    "start_time": "2022-06-13T18:09:41.548Z"
   },
   {
    "duration": 11,
    "start_time": "2022-06-13T18:09:41.555Z"
   },
   {
    "duration": 21,
    "start_time": "2022-06-13T18:09:41.567Z"
   },
   {
    "duration": 52,
    "start_time": "2022-06-13T18:09:41.589Z"
   },
   {
    "duration": 21,
    "start_time": "2022-06-13T18:09:41.643Z"
   },
   {
    "duration": 27,
    "start_time": "2022-06-13T19:09:48.068Z"
   },
   {
    "duration": 19,
    "start_time": "2022-06-13T19:34:19.984Z"
   },
   {
    "duration": 24,
    "start_time": "2022-06-13T19:34:31.033Z"
   },
   {
    "duration": 50,
    "start_time": "2022-06-13T19:34:38.466Z"
   },
   {
    "duration": 803,
    "start_time": "2022-06-13T19:34:46.243Z"
   },
   {
    "duration": 23,
    "start_time": "2022-06-13T19:34:47.048Z"
   },
   {
    "duration": 15,
    "start_time": "2022-06-13T19:34:47.072Z"
   },
   {
    "duration": 9,
    "start_time": "2022-06-13T19:34:47.089Z"
   },
   {
    "duration": 33,
    "start_time": "2022-06-13T19:34:47.100Z"
   },
   {
    "duration": 29,
    "start_time": "2022-06-13T19:34:47.135Z"
   },
   {
    "duration": 8,
    "start_time": "2022-06-13T19:34:47.166Z"
   },
   {
    "duration": 4,
    "start_time": "2022-06-13T19:34:47.176Z"
   },
   {
    "duration": 9,
    "start_time": "2022-06-13T19:34:47.181Z"
   },
   {
    "duration": 4,
    "start_time": "2022-06-13T19:34:47.193Z"
   },
   {
    "duration": 66,
    "start_time": "2022-06-13T19:34:47.198Z"
   },
   {
    "duration": 10,
    "start_time": "2022-06-13T19:34:47.266Z"
   },
   {
    "duration": 3,
    "start_time": "2022-06-13T19:34:47.278Z"
   },
   {
    "duration": 22,
    "start_time": "2022-06-13T19:34:47.282Z"
   },
   {
    "duration": 16,
    "start_time": "2022-06-13T19:34:47.306Z"
   },
   {
    "duration": 41,
    "start_time": "2022-06-13T19:34:47.323Z"
   },
   {
    "duration": 4,
    "start_time": "2022-06-13T19:34:47.365Z"
   },
   {
    "duration": 17,
    "start_time": "2022-06-13T19:34:47.371Z"
   },
   {
    "duration": 7,
    "start_time": "2022-06-13T19:34:47.390Z"
   },
   {
    "duration": 5,
    "start_time": "2022-06-13T19:34:47.399Z"
   },
   {
    "duration": 35,
    "start_time": "2022-06-13T19:34:47.406Z"
   },
   {
    "duration": 10,
    "start_time": "2022-06-13T19:34:47.465Z"
   },
   {
    "duration": 11,
    "start_time": "2022-06-13T19:34:47.476Z"
   },
   {
    "duration": 8,
    "start_time": "2022-06-13T19:34:47.488Z"
   },
   {
    "duration": 11,
    "start_time": "2022-06-13T19:34:47.497Z"
   },
   {
    "duration": 23,
    "start_time": "2022-06-13T19:34:47.509Z"
   },
   {
    "duration": 47,
    "start_time": "2022-06-13T19:34:47.534Z"
   },
   {
    "duration": 20,
    "start_time": "2022-06-13T19:34:47.584Z"
   },
   {
    "duration": 4,
    "start_time": "2022-06-13T19:34:47.606Z"
   },
   {
    "duration": 22,
    "start_time": "2022-06-13T19:34:57.237Z"
   },
   {
    "duration": 5,
    "start_time": "2022-06-13T19:35:03.489Z"
   },
   {
    "duration": 28,
    "start_time": "2022-06-13T19:36:15.248Z"
   },
   {
    "duration": 24,
    "start_time": "2022-06-13T19:36:18.317Z"
   },
   {
    "duration": 22,
    "start_time": "2022-06-13T19:36:23.325Z"
   },
   {
    "duration": 21,
    "start_time": "2022-06-13T19:36:54.338Z"
   },
   {
    "duration": 23,
    "start_time": "2022-06-13T20:04:38.707Z"
   },
   {
    "duration": 822,
    "start_time": "2022-06-14T18:40:12.691Z"
   },
   {
    "duration": 22,
    "start_time": "2022-06-14T18:40:13.515Z"
   },
   {
    "duration": 15,
    "start_time": "2022-06-14T18:40:13.538Z"
   },
   {
    "duration": 15,
    "start_time": "2022-06-14T18:40:13.555Z"
   },
   {
    "duration": 71,
    "start_time": "2022-06-14T18:40:13.572Z"
   },
   {
    "duration": 4,
    "start_time": "2022-06-14T18:40:13.645Z"
   },
   {
    "duration": 16,
    "start_time": "2022-06-14T18:40:13.651Z"
   },
   {
    "duration": 34,
    "start_time": "2022-06-14T18:40:13.669Z"
   },
   {
    "duration": 10,
    "start_time": "2022-06-14T18:40:13.704Z"
   },
   {
    "duration": 10,
    "start_time": "2022-06-14T18:40:13.716Z"
   },
   {
    "duration": 37,
    "start_time": "2022-06-14T18:40:13.728Z"
   },
   {
    "duration": 17,
    "start_time": "2022-06-14T18:40:13.767Z"
   },
   {
    "duration": 12,
    "start_time": "2022-06-14T18:40:13.786Z"
   },
   {
    "duration": 22,
    "start_time": "2022-06-14T18:40:13.800Z"
   },
   {
    "duration": 16,
    "start_time": "2022-06-14T18:40:13.824Z"
   },
   {
    "duration": 40,
    "start_time": "2022-06-14T18:40:13.843Z"
   },
   {
    "duration": 5,
    "start_time": "2022-06-14T18:40:13.884Z"
   },
   {
    "duration": 17,
    "start_time": "2022-06-14T18:40:13.891Z"
   },
   {
    "duration": 8,
    "start_time": "2022-06-14T18:40:13.910Z"
   },
   {
    "duration": 7,
    "start_time": "2022-06-14T18:40:13.920Z"
   },
   {
    "duration": 57,
    "start_time": "2022-06-14T18:40:13.929Z"
   },
   {
    "duration": 9,
    "start_time": "2022-06-14T18:40:13.988Z"
   },
   {
    "duration": 14,
    "start_time": "2022-06-14T18:40:13.998Z"
   },
   {
    "duration": 8,
    "start_time": "2022-06-14T18:40:14.013Z"
   },
   {
    "duration": 22,
    "start_time": "2022-06-14T18:40:14.023Z"
   },
   {
    "duration": 47,
    "start_time": "2022-06-14T18:40:14.047Z"
   },
   {
    "duration": 23,
    "start_time": "2022-06-14T18:40:14.095Z"
   },
   {
    "duration": 21,
    "start_time": "2022-06-14T18:40:14.120Z"
   }
  ],
  "colab": {
   "name": "dpp_template_part2.ipynb",
   "provenance": []
  },
  "kernelspec": {
   "display_name": "Python 3 (ipykernel)",
   "language": "python",
   "name": "python3"
  },
  "language_info": {
   "codemirror_mode": {
    "name": "ipython",
    "version": 3
   },
   "file_extension": ".py",
   "mimetype": "text/x-python",
   "name": "python",
   "nbconvert_exporter": "python",
   "pygments_lexer": "ipython3",
   "version": "3.9.13"
  },
  "toc": {
   "base_numbering": 1,
   "nav_menu": {},
   "number_sections": true,
   "sideBar": true,
   "skip_h1_title": true,
   "title_cell": "Table of Contents",
   "title_sidebar": "Contents",
   "toc_cell": false,
   "toc_position": {},
   "toc_section_display": true,
   "toc_window_display": true
  }
 },
 "nbformat": 4,
 "nbformat_minor": 5
}
