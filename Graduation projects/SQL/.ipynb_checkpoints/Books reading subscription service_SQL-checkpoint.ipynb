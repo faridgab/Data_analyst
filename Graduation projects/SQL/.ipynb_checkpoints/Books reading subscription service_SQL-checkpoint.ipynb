{
 "cells": [
  {
   "cell_type": "markdown",
   "id": "b5cf7e0d",
   "metadata": {},
   "source": [
    "# SQL проект по исследованию базы данных сервиса для четния книг"
   ]
  },
  {
   "cell_type": "markdown",
   "id": "0726fc79",
   "metadata": {},
   "source": [
    "## Основная цель и задачи проекта"
   ]
  },
  {
   "cell_type": "markdown",
   "id": "f517e9d3",
   "metadata": {},
   "source": [
    "**Основная цель** - проанализировать базу данных недавно купленного сервиса для чтения книг по подписке. Результаты должны помочь сформулировать ценностное предложение для нового продукта."
   ]
  },
  {
   "cell_type": "markdown",
   "id": "1c5898ed",
   "metadata": {},
   "source": [
    "**Задания:**\n",
    "\n",
    "- Посчитайте, сколько книг вышло после 1 января 2000 года;\n",
    "- Для каждой книги посчитайте количество обзоров и среднюю оценку;\n",
    "- Определите издательство, которое выпустило наибольшее число книг толще 50 страниц — так вы исключите из анализа брошюры;\n",
    "- Определите автора с самой высокой средней оценкой книг — учитывайте только книги с 50 и более оценками;\n",
    "- Посчитайте среднее количество обзоров от пользователей, которые поставили больше 50 оценок."
   ]
  },
  {
   "cell_type": "markdown",
   "id": "6888438e",
   "metadata": {},
   "source": [
    "## Выполнение проекта"
   ]
  },
  {
   "cell_type": "markdown",
   "id": "c40c58ac",
   "metadata": {},
   "source": [
    "### Подключение к базе:"
   ]
  },
  {
   "cell_type": "code",
   "execution_count": 1,
   "id": "909a40ec",
   "metadata": {
    "ExecuteTime": {
     "end_time": "2022-12-22T13:08:48.409417Z",
     "start_time": "2022-12-22T13:08:47.156800Z"
    }
   },
   "outputs": [],
   "source": [
    "# импортируем библиотеки\n",
    "import pandas as pd \n",
    "from sqlalchemy import create_engine \n",
    "import warnings\n",
    "warnings.filterwarnings('ignore')\n",
    "# для вывода всех символов в значениях столбцов таблицы\n",
    "pd.set_option('max_colwidth', -1)\n",
    "# устанавливаем параметры\n",
    "db_config = {'user': 'praktikum_student', # имя пользователя\n",
    "'pwd': 'Sdf4$2;d-d30pp', # пароль\n",
    "'host': 'rc1b-wcoijxj3yxfsf3fs.mdb.yandexcloud.net', \n",
    "'port': 6432, # порт подключения\n",
    "'db': 'data-analyst-final-project-db'} # название базы данных\n",
    "connection_string = 'postgresql://{}:{}@{}:{}/{}'.format(db_config['user'], \n",
    " db_config['pwd'], \n",
    " db_config['host'], \n",
    " db_config['port'], \n",
    " db_config['db']) \n",
    "# сохраняем коннектор\n",
    "engine = create_engine(connection_string, connect_args={'sslmode':'require'}) "
   ]
  },
  {
   "cell_type": "markdown",
   "id": "5ccb1b3b",
   "metadata": {},
   "source": [
    "### Просмотр таблиц:"
   ]
  },
  {
   "cell_type": "markdown",
   "id": "7bdf1ab3",
   "metadata": {},
   "source": [
    "**Таблица `books`**\n",
    "\n",
    "Содержит данные о книгах:\n",
    "\n",
    "- `book_id` — идентификатор книги;\n",
    "- `author_id` — идентификатор автора;\n",
    "- `title` — название книги;\n",
    "- `num_pages` — количество страниц;\n",
    "- `publication_date` — дата публикации книги;\n",
    "- `publisher_id` — идентификатор издателя."
   ]
  },
  {
   "cell_type": "code",
   "execution_count": 2,
   "id": "5b5d40fa",
   "metadata": {
    "ExecuteTime": {
     "end_time": "2022-12-22T13:08:48.784459Z",
     "start_time": "2022-12-22T13:08:48.412410Z"
    }
   },
   "outputs": [
    {
     "data": {
      "text/html": [
       "<div>\n",
       "<style scoped>\n",
       "    .dataframe tbody tr th:only-of-type {\n",
       "        vertical-align: middle;\n",
       "    }\n",
       "\n",
       "    .dataframe tbody tr th {\n",
       "        vertical-align: top;\n",
       "    }\n",
       "\n",
       "    .dataframe thead th {\n",
       "        text-align: right;\n",
       "    }\n",
       "</style>\n",
       "<table border=\"1\" class=\"dataframe\">\n",
       "  <thead>\n",
       "    <tr style=\"text-align: right;\">\n",
       "      <th></th>\n",
       "      <th>book_id</th>\n",
       "      <th>author_id</th>\n",
       "      <th>title</th>\n",
       "      <th>num_pages</th>\n",
       "      <th>publication_date</th>\n",
       "      <th>publisher_id</th>\n",
       "    </tr>\n",
       "  </thead>\n",
       "  <tbody>\n",
       "    <tr>\n",
       "      <th>0</th>\n",
       "      <td>1</td>\n",
       "      <td>546</td>\n",
       "      <td>'Salem's Lot</td>\n",
       "      <td>594</td>\n",
       "      <td>2005-11-01</td>\n",
       "      <td>93</td>\n",
       "    </tr>\n",
       "    <tr>\n",
       "      <th>1</th>\n",
       "      <td>2</td>\n",
       "      <td>465</td>\n",
       "      <td>1 000 Places to See Before You Die</td>\n",
       "      <td>992</td>\n",
       "      <td>2003-05-22</td>\n",
       "      <td>336</td>\n",
       "    </tr>\n",
       "    <tr>\n",
       "      <th>2</th>\n",
       "      <td>3</td>\n",
       "      <td>407</td>\n",
       "      <td>13 Little Blue Envelopes (Little Blue Envelope  #1)</td>\n",
       "      <td>322</td>\n",
       "      <td>2010-12-21</td>\n",
       "      <td>135</td>\n",
       "    </tr>\n",
       "    <tr>\n",
       "      <th>3</th>\n",
       "      <td>4</td>\n",
       "      <td>82</td>\n",
       "      <td>1491: New Revelations of the Americas Before Columbus</td>\n",
       "      <td>541</td>\n",
       "      <td>2006-10-10</td>\n",
       "      <td>309</td>\n",
       "    </tr>\n",
       "    <tr>\n",
       "      <th>4</th>\n",
       "      <td>5</td>\n",
       "      <td>125</td>\n",
       "      <td>1776</td>\n",
       "      <td>386</td>\n",
       "      <td>2006-07-04</td>\n",
       "      <td>268</td>\n",
       "    </tr>\n",
       "  </tbody>\n",
       "</table>\n",
       "</div>"
      ],
      "text/plain": [
       "   book_id  author_id                                                  title  \\\n",
       "0  1        546        'Salem's Lot                                            \n",
       "1  2        465        1 000 Places to See Before You Die                      \n",
       "2  3        407        13 Little Blue Envelopes (Little Blue Envelope  #1)     \n",
       "3  4        82         1491: New Revelations of the Americas Before Columbus   \n",
       "4  5        125        1776                                                    \n",
       "\n",
       "   num_pages publication_date  publisher_id  \n",
       "0  594        2005-11-01       93            \n",
       "1  992        2003-05-22       336           \n",
       "2  322        2010-12-21       135           \n",
       "3  541        2006-10-10       309           \n",
       "4  386        2006-07-04       268           "
      ]
     },
     "execution_count": 2,
     "metadata": {},
     "output_type": "execute_result"
    }
   ],
   "source": [
    "query = ''' SELECT *\n",
    "            FROM books\n",
    "        '''\n",
    "books=pd.io.sql.read_sql(query, con = engine)\n",
    "\n",
    "books.head()"
   ]
  },
  {
   "cell_type": "markdown",
   "id": "0b96948a",
   "metadata": {},
   "source": [
    "**Таблица `authors`**\n",
    "\n",
    "Содержит данные об авторах:\n",
    "\n",
    "- `author_id` — идентификатор автора;\n",
    "- `author` — имя автора."
   ]
  },
  {
   "cell_type": "code",
   "execution_count": 3,
   "id": "1701ec5d",
   "metadata": {
    "ExecuteTime": {
     "end_time": "2022-12-22T13:08:48.862293Z",
     "start_time": "2022-12-22T13:08:48.787449Z"
    }
   },
   "outputs": [
    {
     "data": {
      "text/html": [
       "<div>\n",
       "<style scoped>\n",
       "    .dataframe tbody tr th:only-of-type {\n",
       "        vertical-align: middle;\n",
       "    }\n",
       "\n",
       "    .dataframe tbody tr th {\n",
       "        vertical-align: top;\n",
       "    }\n",
       "\n",
       "    .dataframe thead th {\n",
       "        text-align: right;\n",
       "    }\n",
       "</style>\n",
       "<table border=\"1\" class=\"dataframe\">\n",
       "  <thead>\n",
       "    <tr style=\"text-align: right;\">\n",
       "      <th></th>\n",
       "      <th>author_id</th>\n",
       "      <th>author</th>\n",
       "    </tr>\n",
       "  </thead>\n",
       "  <tbody>\n",
       "    <tr>\n",
       "      <th>0</th>\n",
       "      <td>1</td>\n",
       "      <td>A.S. Byatt</td>\n",
       "    </tr>\n",
       "    <tr>\n",
       "      <th>1</th>\n",
       "      <td>2</td>\n",
       "      <td>Aesop/Laura Harris/Laura Gibbs</td>\n",
       "    </tr>\n",
       "    <tr>\n",
       "      <th>2</th>\n",
       "      <td>3</td>\n",
       "      <td>Agatha Christie</td>\n",
       "    </tr>\n",
       "    <tr>\n",
       "      <th>3</th>\n",
       "      <td>4</td>\n",
       "      <td>Alan Brennert</td>\n",
       "    </tr>\n",
       "    <tr>\n",
       "      <th>4</th>\n",
       "      <td>5</td>\n",
       "      <td>Alan Moore/David   Lloyd</td>\n",
       "    </tr>\n",
       "  </tbody>\n",
       "</table>\n",
       "</div>"
      ],
      "text/plain": [
       "   author_id                          author\n",
       "0  1          A.S. Byatt                    \n",
       "1  2          Aesop/Laura Harris/Laura Gibbs\n",
       "2  3          Agatha Christie               \n",
       "3  4          Alan Brennert                 \n",
       "4  5          Alan Moore/David   Lloyd      "
      ]
     },
     "execution_count": 3,
     "metadata": {},
     "output_type": "execute_result"
    }
   ],
   "source": [
    "query = ''' SELECT *\n",
    "            FROM authors\n",
    "        '''\n",
    "authors=pd.io.sql.read_sql(query, con = engine)\n",
    "\n",
    "authors.head()"
   ]
  },
  {
   "cell_type": "markdown",
   "id": "9554168d",
   "metadata": {},
   "source": [
    "**Таблица `publishers`**\n",
    "\n",
    "Содержит данные об издательствах:\n",
    "\n",
    "- `publisher_id` — идентификатор издательства;\n",
    "- `publisher` — название издательства;"
   ]
  },
  {
   "cell_type": "code",
   "execution_count": 4,
   "id": "2ba60d20",
   "metadata": {
    "ExecuteTime": {
     "end_time": "2022-12-22T13:08:48.942076Z",
     "start_time": "2022-12-22T13:08:48.866239Z"
    }
   },
   "outputs": [
    {
     "data": {
      "text/html": [
       "<div>\n",
       "<style scoped>\n",
       "    .dataframe tbody tr th:only-of-type {\n",
       "        vertical-align: middle;\n",
       "    }\n",
       "\n",
       "    .dataframe tbody tr th {\n",
       "        vertical-align: top;\n",
       "    }\n",
       "\n",
       "    .dataframe thead th {\n",
       "        text-align: right;\n",
       "    }\n",
       "</style>\n",
       "<table border=\"1\" class=\"dataframe\">\n",
       "  <thead>\n",
       "    <tr style=\"text-align: right;\">\n",
       "      <th></th>\n",
       "      <th>publisher_id</th>\n",
       "      <th>publisher</th>\n",
       "    </tr>\n",
       "  </thead>\n",
       "  <tbody>\n",
       "    <tr>\n",
       "      <th>0</th>\n",
       "      <td>1</td>\n",
       "      <td>Ace</td>\n",
       "    </tr>\n",
       "    <tr>\n",
       "      <th>1</th>\n",
       "      <td>2</td>\n",
       "      <td>Ace Book</td>\n",
       "    </tr>\n",
       "    <tr>\n",
       "      <th>2</th>\n",
       "      <td>3</td>\n",
       "      <td>Ace Books</td>\n",
       "    </tr>\n",
       "    <tr>\n",
       "      <th>3</th>\n",
       "      <td>4</td>\n",
       "      <td>Ace Hardcover</td>\n",
       "    </tr>\n",
       "    <tr>\n",
       "      <th>4</th>\n",
       "      <td>5</td>\n",
       "      <td>Addison Wesley Publishing Company</td>\n",
       "    </tr>\n",
       "  </tbody>\n",
       "</table>\n",
       "</div>"
      ],
      "text/plain": [
       "   publisher_id                          publisher\n",
       "0  1             Ace                              \n",
       "1  2             Ace Book                         \n",
       "2  3             Ace Books                        \n",
       "3  4             Ace Hardcover                    \n",
       "4  5             Addison Wesley Publishing Company"
      ]
     },
     "execution_count": 4,
     "metadata": {},
     "output_type": "execute_result"
    }
   ],
   "source": [
    "query = ''' SELECT *\n",
    "            FROM publishers\n",
    "        '''\n",
    "publishers=pd.io.sql.read_sql(query, con = engine)\n",
    "\n",
    "publishers.head()"
   ]
  },
  {
   "cell_type": "markdown",
   "id": "b4bbd0cc",
   "metadata": {},
   "source": [
    "**Таблица `ratings`**\n",
    "\n",
    "Содержит данные о пользовательских оценках книг:\n",
    "\n",
    "- `rating_id` — идентификатор оценки;\n",
    "- `book_id` — идентификатор книги;\n",
    "- `username` — имя пользователя, оставившего оценку;\n",
    "- `rating` — оценка книги."
   ]
  },
  {
   "cell_type": "code",
   "execution_count": 5,
   "id": "6fe6b6b4",
   "metadata": {
    "ExecuteTime": {
     "end_time": "2022-12-22T13:08:49.050842Z",
     "start_time": "2022-12-22T13:08:48.944068Z"
    }
   },
   "outputs": [
    {
     "data": {
      "text/html": [
       "<div>\n",
       "<style scoped>\n",
       "    .dataframe tbody tr th:only-of-type {\n",
       "        vertical-align: middle;\n",
       "    }\n",
       "\n",
       "    .dataframe tbody tr th {\n",
       "        vertical-align: top;\n",
       "    }\n",
       "\n",
       "    .dataframe thead th {\n",
       "        text-align: right;\n",
       "    }\n",
       "</style>\n",
       "<table border=\"1\" class=\"dataframe\">\n",
       "  <thead>\n",
       "    <tr style=\"text-align: right;\">\n",
       "      <th></th>\n",
       "      <th>rating_id</th>\n",
       "      <th>book_id</th>\n",
       "      <th>username</th>\n",
       "      <th>rating</th>\n",
       "    </tr>\n",
       "  </thead>\n",
       "  <tbody>\n",
       "    <tr>\n",
       "      <th>0</th>\n",
       "      <td>1</td>\n",
       "      <td>1</td>\n",
       "      <td>ryanfranco</td>\n",
       "      <td>4</td>\n",
       "    </tr>\n",
       "    <tr>\n",
       "      <th>1</th>\n",
       "      <td>2</td>\n",
       "      <td>1</td>\n",
       "      <td>grantpatricia</td>\n",
       "      <td>2</td>\n",
       "    </tr>\n",
       "    <tr>\n",
       "      <th>2</th>\n",
       "      <td>3</td>\n",
       "      <td>1</td>\n",
       "      <td>brandtandrea</td>\n",
       "      <td>5</td>\n",
       "    </tr>\n",
       "    <tr>\n",
       "      <th>3</th>\n",
       "      <td>4</td>\n",
       "      <td>2</td>\n",
       "      <td>lorichen</td>\n",
       "      <td>3</td>\n",
       "    </tr>\n",
       "    <tr>\n",
       "      <th>4</th>\n",
       "      <td>5</td>\n",
       "      <td>2</td>\n",
       "      <td>mariokeller</td>\n",
       "      <td>2</td>\n",
       "    </tr>\n",
       "  </tbody>\n",
       "</table>\n",
       "</div>"
      ],
      "text/plain": [
       "   rating_id  book_id       username  rating\n",
       "0  1          1        ryanfranco     4     \n",
       "1  2          1        grantpatricia  2     \n",
       "2  3          1        brandtandrea   5     \n",
       "3  4          2        lorichen       3     \n",
       "4  5          2        mariokeller    2     "
      ]
     },
     "execution_count": 5,
     "metadata": {},
     "output_type": "execute_result"
    }
   ],
   "source": [
    "query = ''' SELECT *\n",
    "            FROM ratings\n",
    "        '''\n",
    "ratings=pd.io.sql.read_sql(query, con = engine)\n",
    "\n",
    "ratings.head()"
   ]
  },
  {
   "cell_type": "markdown",
   "id": "2d559a7f",
   "metadata": {},
   "source": [
    "**Таблица `reviews`**\n",
    "\n",
    "Содержит данные о пользовательских обзорах на книги:\n",
    "\n",
    "- `review_id` — идентификатор обзора;\n",
    "- `book_id` — идентификатор книги;\n",
    "- `username` — имя пользователя, написавшего обзор;\n",
    "- `text` — текст обзора."
   ]
  },
  {
   "cell_type": "code",
   "execution_count": 6,
   "id": "0aec6756",
   "metadata": {
    "ExecuteTime": {
     "end_time": "2022-12-22T13:08:49.176645Z",
     "start_time": "2022-12-22T13:08:49.052836Z"
    }
   },
   "outputs": [
    {
     "data": {
      "text/html": [
       "<div>\n",
       "<style scoped>\n",
       "    .dataframe tbody tr th:only-of-type {\n",
       "        vertical-align: middle;\n",
       "    }\n",
       "\n",
       "    .dataframe tbody tr th {\n",
       "        vertical-align: top;\n",
       "    }\n",
       "\n",
       "    .dataframe thead th {\n",
       "        text-align: right;\n",
       "    }\n",
       "</style>\n",
       "<table border=\"1\" class=\"dataframe\">\n",
       "  <thead>\n",
       "    <tr style=\"text-align: right;\">\n",
       "      <th></th>\n",
       "      <th>review_id</th>\n",
       "      <th>book_id</th>\n",
       "      <th>username</th>\n",
       "      <th>text</th>\n",
       "    </tr>\n",
       "  </thead>\n",
       "  <tbody>\n",
       "    <tr>\n",
       "      <th>0</th>\n",
       "      <td>1</td>\n",
       "      <td>1</td>\n",
       "      <td>brandtandrea</td>\n",
       "      <td>Mention society tell send professor analysis. Over provide race technology continue these.</td>\n",
       "    </tr>\n",
       "    <tr>\n",
       "      <th>1</th>\n",
       "      <td>2</td>\n",
       "      <td>1</td>\n",
       "      <td>ryanfranco</td>\n",
       "      <td>Foot glass pretty audience hit themselves. Among admit investment argue security.</td>\n",
       "    </tr>\n",
       "    <tr>\n",
       "      <th>2</th>\n",
       "      <td>3</td>\n",
       "      <td>2</td>\n",
       "      <td>lorichen</td>\n",
       "      <td>Listen treat keep worry. Miss husband tax but person sport treatment industry. Kitchen decision deep the. Social party body the.</td>\n",
       "    </tr>\n",
       "    <tr>\n",
       "      <th>3</th>\n",
       "      <td>4</td>\n",
       "      <td>3</td>\n",
       "      <td>johnsonamanda</td>\n",
       "      <td>Finally month interesting blue could nature cultural bit. Prepare beat finish grow that smile teach. Dream me play near.</td>\n",
       "    </tr>\n",
       "    <tr>\n",
       "      <th>4</th>\n",
       "      <td>5</td>\n",
       "      <td>3</td>\n",
       "      <td>scotttamara</td>\n",
       "      <td>Nation purpose heavy give wait song will. List dinner another whole positive radio fast. Music staff many green.</td>\n",
       "    </tr>\n",
       "  </tbody>\n",
       "</table>\n",
       "</div>"
      ],
      "text/plain": [
       "   review_id  book_id       username  \\\n",
       "0  1          1        brandtandrea    \n",
       "1  2          1        ryanfranco      \n",
       "2  3          2        lorichen        \n",
       "3  4          3        johnsonamanda   \n",
       "4  5          3        scotttamara     \n",
       "\n",
       "                                                                                                                               text  \n",
       "0  Mention society tell send professor analysis. Over provide race technology continue these.                                        \n",
       "1  Foot glass pretty audience hit themselves. Among admit investment argue security.                                                 \n",
       "2  Listen treat keep worry. Miss husband tax but person sport treatment industry. Kitchen decision deep the. Social party body the.  \n",
       "3  Finally month interesting blue could nature cultural bit. Prepare beat finish grow that smile teach. Dream me play near.          \n",
       "4  Nation purpose heavy give wait song will. List dinner another whole positive radio fast. Music staff many green.                  "
      ]
     },
     "execution_count": 6,
     "metadata": {},
     "output_type": "execute_result"
    }
   ],
   "source": [
    "query = ''' SELECT *\n",
    "            FROM reviews\n",
    "        '''\n",
    "reviews=pd.io.sql.read_sql(query, con = engine)\n",
    "\n",
    "reviews.head()"
   ]
  },
  {
   "cell_type": "markdown",
   "id": "7274a996",
   "metadata": {},
   "source": [
    "Согласно ER-диаграмме из описания задания, таблица books связывает все остальные таблицы."
   ]
  },
  {
   "cell_type": "markdown",
   "id": "89d87171",
   "metadata": {},
   "source": [
    "### Кол-во книг вышло после 1 января 2000 года:"
   ]
  },
  {
   "cell_type": "code",
   "execution_count": 7,
   "id": "15c85ac4",
   "metadata": {
    "ExecuteTime": {
     "end_time": "2022-12-22T13:08:49.268400Z",
     "start_time": "2022-12-22T13:08:49.178640Z"
    }
   },
   "outputs": [
    {
     "data": {
      "text/html": [
       "<div>\n",
       "<style scoped>\n",
       "    .dataframe tbody tr th:only-of-type {\n",
       "        vertical-align: middle;\n",
       "    }\n",
       "\n",
       "    .dataframe tbody tr th {\n",
       "        vertical-align: top;\n",
       "    }\n",
       "\n",
       "    .dataframe thead th {\n",
       "        text-align: right;\n",
       "    }\n",
       "</style>\n",
       "<table border=\"1\" class=\"dataframe\">\n",
       "  <thead>\n",
       "    <tr style=\"text-align: right;\">\n",
       "      <th></th>\n",
       "      <th>release_after_01_01_2000</th>\n",
       "    </tr>\n",
       "  </thead>\n",
       "  <tbody>\n",
       "    <tr>\n",
       "      <th>0</th>\n",
       "      <td>819</td>\n",
       "    </tr>\n",
       "  </tbody>\n",
       "</table>\n",
       "</div>"
      ],
      "text/plain": [
       "   release_after_01_01_2000\n",
       "0  819                     "
      ]
     },
     "execution_count": 7,
     "metadata": {},
     "output_type": "execute_result"
    }
   ],
   "source": [
    "query_1 = '''\n",
    "        SELECT \n",
    "            COUNT(book_id) AS release_after_01_01_2000\n",
    "            \n",
    "        FROM \n",
    "            books\n",
    "            \n",
    "        WHERE\n",
    "            publication_date > '2000-01-01'\n",
    "        '''\n",
    "query_1 = pd.io.sql.read_sql(query_1, con = engine)\n",
    "\n",
    "query_1"
   ]
  },
  {
   "cell_type": "markdown",
   "id": "2b05e574",
   "metadata": {},
   "source": [
    "После 1 января 2000 года вышло 819 книг."
   ]
  },
  {
   "cell_type": "markdown",
   "id": "e266c7eb",
   "metadata": {},
   "source": [
    "### Для каждой книги посчитайте количество обзоров и среднюю оценку"
   ]
  },
  {
   "cell_type": "code",
   "execution_count": 13,
   "id": "651a7f1a",
   "metadata": {
    "ExecuteTime": {
     "end_time": "2022-12-22T13:08:49.361152Z",
     "start_time": "2022-12-22T13:08:49.271392Z"
    }
   },
   "outputs": [
    {
     "data": {
      "text/html": [
       "<div>\n",
       "<style scoped>\n",
       "    .dataframe tbody tr th:only-of-type {\n",
       "        vertical-align: middle;\n",
       "    }\n",
       "\n",
       "    .dataframe tbody tr th {\n",
       "        vertical-align: top;\n",
       "    }\n",
       "\n",
       "    .dataframe thead th {\n",
       "        text-align: right;\n",
       "    }\n",
       "</style>\n",
       "<table border=\"1\" class=\"dataframe\">\n",
       "  <thead>\n",
       "    <tr style=\"text-align: right;\">\n",
       "      <th></th>\n",
       "      <th>book_id</th>\n",
       "      <th>title</th>\n",
       "      <th>reviews_cnt</th>\n",
       "      <th>avo_ratings</th>\n",
       "    </tr>\n",
       "  </thead>\n",
       "  <tbody>\n",
       "    <tr>\n",
       "      <th>0</th>\n",
       "      <td>948</td>\n",
       "      <td>Twilight (Twilight  #1)</td>\n",
       "      <td>7</td>\n",
       "      <td>3.662500</td>\n",
       "    </tr>\n",
       "    <tr>\n",
       "      <th>1</th>\n",
       "      <td>302</td>\n",
       "      <td>Harry Potter and the Prisoner of Azkaban (Harry Potter  #3)</td>\n",
       "      <td>6</td>\n",
       "      <td>4.414634</td>\n",
       "    </tr>\n",
       "    <tr>\n",
       "      <th>2</th>\n",
       "      <td>299</td>\n",
       "      <td>Harry Potter and the Chamber of Secrets (Harry Potter  #2)</td>\n",
       "      <td>6</td>\n",
       "      <td>4.287500</td>\n",
       "    </tr>\n",
       "    <tr>\n",
       "      <th>3</th>\n",
       "      <td>656</td>\n",
       "      <td>The Book Thief</td>\n",
       "      <td>6</td>\n",
       "      <td>4.264151</td>\n",
       "    </tr>\n",
       "    <tr>\n",
       "      <th>4</th>\n",
       "      <td>734</td>\n",
       "      <td>The Glass Castle</td>\n",
       "      <td>6</td>\n",
       "      <td>4.206897</td>\n",
       "    </tr>\n",
       "    <tr>\n",
       "      <th>...</th>\n",
       "      <td>...</td>\n",
       "      <td>...</td>\n",
       "      <td>...</td>\n",
       "      <td>...</td>\n",
       "    </tr>\n",
       "    <tr>\n",
       "      <th>995</th>\n",
       "      <td>191</td>\n",
       "      <td>Disney's Beauty and the Beast (A Little Golden Book)</td>\n",
       "      <td>0</td>\n",
       "      <td>4.000000</td>\n",
       "    </tr>\n",
       "    <tr>\n",
       "      <th>996</th>\n",
       "      <td>387</td>\n",
       "      <td>Leonardo's Notebooks</td>\n",
       "      <td>0</td>\n",
       "      <td>4.000000</td>\n",
       "    </tr>\n",
       "    <tr>\n",
       "      <th>997</th>\n",
       "      <td>221</td>\n",
       "      <td>Essential Tales and Poems</td>\n",
       "      <td>0</td>\n",
       "      <td>4.000000</td>\n",
       "    </tr>\n",
       "    <tr>\n",
       "      <th>998</th>\n",
       "      <td>83</td>\n",
       "      <td>Anne Rice's The Vampire Lestat: A Graphic Novel</td>\n",
       "      <td>0</td>\n",
       "      <td>3.666667</td>\n",
       "    </tr>\n",
       "    <tr>\n",
       "      <th>999</th>\n",
       "      <td>808</td>\n",
       "      <td>The Natural Way to Draw</td>\n",
       "      <td>0</td>\n",
       "      <td>3.000000</td>\n",
       "    </tr>\n",
       "  </tbody>\n",
       "</table>\n",
       "<p>1000 rows × 4 columns</p>\n",
       "</div>"
      ],
      "text/plain": [
       "     book_id                                                        title  \\\n",
       "0    948      Twilight (Twilight  #1)                                       \n",
       "1    302      Harry Potter and the Prisoner of Azkaban (Harry Potter  #3)   \n",
       "2    299      Harry Potter and the Chamber of Secrets (Harry Potter  #2)    \n",
       "3    656      The Book Thief                                                \n",
       "4    734      The Glass Castle                                              \n",
       "..   ...                   ...                                              \n",
       "995  191      Disney's Beauty and the Beast (A Little Golden Book)          \n",
       "996  387      Leonardo's Notebooks                                          \n",
       "997  221      Essential Tales and Poems                                     \n",
       "998  83       Anne Rice's The Vampire Lestat: A Graphic Novel               \n",
       "999  808      The Natural Way to Draw                                       \n",
       "\n",
       "     reviews_cnt  avo_ratings  \n",
       "0    7            3.662500     \n",
       "1    6            4.414634     \n",
       "2    6            4.287500     \n",
       "3    6            4.264151     \n",
       "4    6            4.206897     \n",
       "..  ..                 ...     \n",
       "995  0            4.000000     \n",
       "996  0            4.000000     \n",
       "997  0            4.000000     \n",
       "998  0            3.666667     \n",
       "999  0            3.000000     \n",
       "\n",
       "[1000 rows x 4 columns]"
      ]
     },
     "execution_count": 13,
     "metadata": {},
     "output_type": "execute_result"
    }
   ],
   "source": [
    "query_2 = '''\n",
    "        SELECT \n",
    "            books.book_id,\n",
    "            books.title,\n",
    "            COUNT(DISTINCT reviews.review_id) AS reviews_cnt, \n",
    "            AVG (CAST(ratings.rating AS integer)) AS avo_ratings\n",
    "             \n",
    "        FROM \n",
    "            books\n",
    "        LEFT JOIN reviews ON reviews.book_id = books.book_id \n",
    "        LEFT JOIN ratings ON ratings.book_id = books.book_id\n",
    "            \n",
    "        GROUP BY \n",
    "            books.book_id,\n",
    "            books.title\n",
    "            \n",
    "        ORDER BY \n",
    "            reviews_cnt DESC,\n",
    "            avo_ratings DESC         \n",
    "                        \n",
    "               '''\n",
    "query_2 = pd.io.sql.read_sql(query_2, con = engine)\n",
    "\n",
    "query_2"
   ]
  },
  {
   "cell_type": "markdown",
   "id": "1a6d1d9e",
   "metadata": {},
   "source": [
    "По кол-ву обзоров список из первых 5 книг выглядит следующим образом:\n",
    "1. Twilight (Twilight #1)\t                                    \t\n",
    "2. Harry Potter and the Prisoner of Azkaban (Harry Potter #3)\t\n",
    "3. Harry Potter and the Chamber of Secrets (Harry Potter #2)\t\n",
    "4. The Book Thief                                           \t\t\n",
    "5. The Glass Castle\t                                            \n",
    "\n"
   ]
  },
  {
   "cell_type": "code",
   "execution_count": 9,
   "id": "b8233eed",
   "metadata": {
    "ExecuteTime": {
     "end_time": "2022-12-22T13:08:49.455220Z",
     "start_time": "2022-12-22T13:08:49.363146Z"
    }
   },
   "outputs": [
    {
     "data": {
      "text/html": [
       "<div>\n",
       "<style scoped>\n",
       "    .dataframe tbody tr th:only-of-type {\n",
       "        vertical-align: middle;\n",
       "    }\n",
       "\n",
       "    .dataframe tbody tr th {\n",
       "        vertical-align: top;\n",
       "    }\n",
       "\n",
       "    .dataframe thead th {\n",
       "        text-align: right;\n",
       "    }\n",
       "</style>\n",
       "<table border=\"1\" class=\"dataframe\">\n",
       "  <thead>\n",
       "    <tr style=\"text-align: right;\">\n",
       "      <th></th>\n",
       "      <th>book_id</th>\n",
       "      <th>title</th>\n",
       "      <th>reviews_cnt</th>\n",
       "      <th>avo_ratings</th>\n",
       "    </tr>\n",
       "  </thead>\n",
       "  <tbody>\n",
       "    <tr>\n",
       "      <th>0</th>\n",
       "      <td>17</td>\n",
       "      <td>A Dirty Job (Grim Reaper  #1)</td>\n",
       "      <td>4</td>\n",
       "      <td>5.0</td>\n",
       "    </tr>\n",
       "    <tr>\n",
       "      <th>1</th>\n",
       "      <td>444</td>\n",
       "      <td>Moneyball: The Art of Winning an Unfair Game</td>\n",
       "      <td>3</td>\n",
       "      <td>5.0</td>\n",
       "    </tr>\n",
       "    <tr>\n",
       "      <th>2</th>\n",
       "      <td>553</td>\n",
       "      <td>School's Out—Forever (Maximum Ride  #2)</td>\n",
       "      <td>3</td>\n",
       "      <td>5.0</td>\n",
       "    </tr>\n",
       "    <tr>\n",
       "      <th>3</th>\n",
       "      <td>57</td>\n",
       "      <td>Act of Treason (Mitch Rapp  #9)</td>\n",
       "      <td>2</td>\n",
       "      <td>5.0</td>\n",
       "    </tr>\n",
       "    <tr>\n",
       "      <th>4</th>\n",
       "      <td>20</td>\n",
       "      <td>A Fistful of Charms (The Hollows  #4)</td>\n",
       "      <td>2</td>\n",
       "      <td>5.0</td>\n",
       "    </tr>\n",
       "  </tbody>\n",
       "</table>\n",
       "</div>"
      ],
      "text/plain": [
       "   book_id                                         title  reviews_cnt  \\\n",
       "0  17       A Dirty Job (Grim Reaper  #1)                 4             \n",
       "1  444      Moneyball: The Art of Winning an Unfair Game  3             \n",
       "2  553      School's Out—Forever (Maximum Ride  #2)       3             \n",
       "3  57       Act of Treason (Mitch Rapp  #9)               2             \n",
       "4  20       A Fistful of Charms (The Hollows  #4)         2             \n",
       "\n",
       "   avo_ratings  \n",
       "0  5.0          \n",
       "1  5.0          \n",
       "2  5.0          \n",
       "3  5.0          \n",
       "4  5.0          "
      ]
     },
     "execution_count": 9,
     "metadata": {},
     "output_type": "execute_result"
    }
   ],
   "source": [
    "query_3 = '''\n",
    "        SELECT \n",
    "            books.book_id,\n",
    "            books.title,\n",
    "            COUNT(DISTINCT reviews.review_id) AS reviews_cnt, \n",
    "            AVG (CAST(ratings.rating AS integer)) AS avo_ratings\n",
    "             \n",
    "        FROM \n",
    "            books\n",
    "        LEFT JOIN reviews ON reviews.book_id = books.book_id \n",
    "        LEFT JOIN ratings ON ratings.book_id = books.book_id\n",
    "            \n",
    "        GROUP BY \n",
    "            books.book_id,\n",
    "            books.title\n",
    "            \n",
    "        ORDER BY \n",
    "            avo_ratings DESC,\n",
    "            reviews_cnt DESC                     \n",
    "        LIMIT 5                \n",
    "               '''\n",
    "query_3 = pd.io.sql.read_sql(query_3, con = engine)\n",
    "\n",
    "query_3"
   ]
  },
  {
   "cell_type": "markdown",
   "id": "4018ab9f",
   "metadata": {},
   "source": [
    "Первые пять книг со средним рейтингом 5:\n",
    "1. A Dirty Job (Grim Reaper #1)\n",
    "2. Moneyball: The Art of Winning an Unfair Game\n",
    "3. School's Out—Forever (Maximum Ride #2)\t\n",
    "4. Act of Treason (Mitch Rapp #9)\t\n",
    "5. A Fistful of Charms (The Hollows #4)\t"
   ]
  },
  {
   "cell_type": "markdown",
   "id": "635015e5",
   "metadata": {},
   "source": [
    "### Определите издательство, которое выпустило наибольшее число книг толще 50 страниц"
   ]
  },
  {
   "cell_type": "code",
   "execution_count": 10,
   "id": "45d9f371",
   "metadata": {
    "ExecuteTime": {
     "end_time": "2022-12-22T13:08:49.532354Z",
     "start_time": "2022-12-22T13:08:49.461206Z"
    }
   },
   "outputs": [
    {
     "data": {
      "text/html": [
       "<div>\n",
       "<style scoped>\n",
       "    .dataframe tbody tr th:only-of-type {\n",
       "        vertical-align: middle;\n",
       "    }\n",
       "\n",
       "    .dataframe tbody tr th {\n",
       "        vertical-align: top;\n",
       "    }\n",
       "\n",
       "    .dataframe thead th {\n",
       "        text-align: right;\n",
       "    }\n",
       "</style>\n",
       "<table border=\"1\" class=\"dataframe\">\n",
       "  <thead>\n",
       "    <tr style=\"text-align: right;\">\n",
       "      <th></th>\n",
       "      <th>publisher_id</th>\n",
       "      <th>publisher</th>\n",
       "      <th>books_cnt</th>\n",
       "    </tr>\n",
       "  </thead>\n",
       "  <tbody>\n",
       "    <tr>\n",
       "      <th>0</th>\n",
       "      <td>212</td>\n",
       "      <td>Penguin Books</td>\n",
       "      <td>42</td>\n",
       "    </tr>\n",
       "  </tbody>\n",
       "</table>\n",
       "</div>"
      ],
      "text/plain": [
       "   publisher_id      publisher  books_cnt\n",
       "0  212           Penguin Books  42       "
      ]
     },
     "execution_count": 10,
     "metadata": {},
     "output_type": "execute_result"
    }
   ],
   "source": [
    "query_4 = '''\n",
    "        SELECT \n",
    "            publishers.publisher_id,\n",
    "            publishers.publisher,\n",
    "            COUNT(books.book_id) AS books_cnt\n",
    "            \n",
    "             \n",
    "        FROM \n",
    "            books\n",
    "        LEFT JOIN publishers ON publishers.publisher_id = books.publisher_id \n",
    "        \n",
    "        WHERE\n",
    "            books.num_pages >= 50\n",
    "        \n",
    "        GROUP BY\n",
    "            publishers.publisher_id,\n",
    "            publishers.publisher\n",
    "            \n",
    "        ORDER BY\n",
    "            books_cnt DESC\n",
    "                       \n",
    "        LIMIT 1\n",
    "             \n",
    "        '''\n",
    "query_4 = pd.io.sql.read_sql(query_4, con = engine)\n",
    "\n",
    "query_4"
   ]
  },
  {
   "cell_type": "markdown",
   "id": "bd132c56",
   "metadata": {},
   "source": [
    "Издательством выпустившим наибольшее кол-во книг толще 50 страниц является Penguin Books\t"
   ]
  },
  {
   "cell_type": "markdown",
   "id": "5d194018",
   "metadata": {},
   "source": [
    "### Определите автора с самой высокой средней оценкой книг — учитывайте только книги с 50 и более оценками"
   ]
  },
  {
   "cell_type": "code",
   "execution_count": 11,
   "id": "c766f78a",
   "metadata": {
    "ExecuteTime": {
     "end_time": "2022-12-22T13:08:49.624548Z",
     "start_time": "2022-12-22T13:08:49.535348Z"
    }
   },
   "outputs": [
    {
     "data": {
      "text/html": [
       "<div>\n",
       "<style scoped>\n",
       "    .dataframe tbody tr th:only-of-type {\n",
       "        vertical-align: middle;\n",
       "    }\n",
       "\n",
       "    .dataframe tbody tr th {\n",
       "        vertical-align: top;\n",
       "    }\n",
       "\n",
       "    .dataframe thead th {\n",
       "        text-align: right;\n",
       "    }\n",
       "</style>\n",
       "<table border=\"1\" class=\"dataframe\">\n",
       "  <thead>\n",
       "    <tr style=\"text-align: right;\">\n",
       "      <th></th>\n",
       "      <th>author_id</th>\n",
       "      <th>author</th>\n",
       "      <th>cnt_rating</th>\n",
       "      <th>sum_rating</th>\n",
       "      <th>avg_rating</th>\n",
       "    </tr>\n",
       "  </thead>\n",
       "  <tbody>\n",
       "    <tr>\n",
       "      <th>0</th>\n",
       "      <td>236</td>\n",
       "      <td>J.K. Rowling/Mary GrandPré</td>\n",
       "      <td>310.0</td>\n",
       "      <td>1329.0</td>\n",
       "      <td>4.287097</td>\n",
       "    </tr>\n",
       "  </tbody>\n",
       "</table>\n",
       "</div>"
      ],
      "text/plain": [
       "   author_id                      author  cnt_rating  sum_rating  avg_rating\n",
       "0  236        J.K. Rowling/Mary GrandPré  310.0       1329.0      4.287097  "
      ]
     },
     "execution_count": 11,
     "metadata": {},
     "output_type": "execute_result"
    }
   ],
   "source": [
    "query_5 = '''\n",
    "        SELECT \n",
    "            authors.author_id, \n",
    "            authors.author,\n",
    "            SUM(COUNT_RATING_BOOK.cnt_rating) AS cnt_rating,\n",
    "            SUM(COUNT_RATING_BOOK.sum_rating) AS sum_rating,\n",
    "            SUM(COUNT_RATING_BOOK.sum_rating) / SUM(COUNT_RATING_BOOK.cnt_rating) AS avg_rating\n",
    "             \n",
    "        FROM \n",
    "        (SELECT \n",
    "            books.book_id,\n",
    "            books.title,\n",
    "            books.author_id,\n",
    "            COUNT(ratings.rating) AS cnt_rating,\n",
    "            SUM(ratings.rating) AS sum_rating\n",
    "             \n",
    "        FROM \n",
    "            books\n",
    "        INNER JOIN ratings ON ratings.book_id = books.book_id\n",
    "             \n",
    "        GROUP BY\n",
    "            books.book_id,\n",
    "            books.title,\n",
    "            books.author_id          \n",
    "            \n",
    "        HAVING\n",
    "            COUNT(ratings.rating) >= 50           \n",
    "        ) AS COUNT_RATING_BOOK\n",
    "        \n",
    "        LEFT JOIN authors ON authors.author_id = COUNT_RATING_BOOK.author_id\n",
    "        \n",
    "        GROUP BY\n",
    "            authors.author_id, \n",
    "            authors.author\n",
    "            \n",
    "            \n",
    "        --HAVING--\n",
    "            \n",
    "            \n",
    "        ORDER BY\n",
    "            avg_rating DESC\n",
    "            \n",
    "                       \n",
    "        LIMIT 1\n",
    "             \n",
    "        '''\n",
    "query_5 = pd.io.sql.read_sql(query_5, con = engine)\n",
    "\n",
    "query_5"
   ]
  },
  {
   "cell_type": "markdown",
   "id": "29ec1fd9",
   "metadata": {},
   "source": [
    "Автор с самой высокой средней оценкой книг - J.K. Rowling/Mary GrandPré - средняя оценка 4.28."
   ]
  },
  {
   "cell_type": "markdown",
   "id": "1bd538c6",
   "metadata": {},
   "source": [
    "### Посчитайте среднее количество обзоров от пользователей, которые поставили больше 50 оценок"
   ]
  },
  {
   "cell_type": "code",
   "execution_count": 12,
   "id": "af7ec32d",
   "metadata": {
    "ExecuteTime": {
     "end_time": "2022-12-22T13:08:49.701697Z",
     "start_time": "2022-12-22T13:08:49.626543Z"
    }
   },
   "outputs": [
    {
     "data": {
      "text/html": [
       "<div>\n",
       "<style scoped>\n",
       "    .dataframe tbody tr th:only-of-type {\n",
       "        vertical-align: middle;\n",
       "    }\n",
       "\n",
       "    .dataframe tbody tr th {\n",
       "        vertical-align: top;\n",
       "    }\n",
       "\n",
       "    .dataframe thead th {\n",
       "        text-align: right;\n",
       "    }\n",
       "</style>\n",
       "<table border=\"1\" class=\"dataframe\">\n",
       "  <thead>\n",
       "    <tr style=\"text-align: right;\">\n",
       "      <th></th>\n",
       "      <th>avg_reviews</th>\n",
       "    </tr>\n",
       "  </thead>\n",
       "  <tbody>\n",
       "    <tr>\n",
       "      <th>0</th>\n",
       "      <td>24</td>\n",
       "    </tr>\n",
       "  </tbody>\n",
       "</table>\n",
       "</div>"
      ],
      "text/plain": [
       "   avg_reviews\n",
       "0  24         "
      ]
     },
     "execution_count": 12,
     "metadata": {},
     "output_type": "execute_result"
    }
   ],
   "source": [
    "query_5 = '''\n",
    "        SELECT \n",
    "            COUNT(reviews.review_id) / COUNT(DISTINCT reviews.username) AS avg_reviews\n",
    "             \n",
    "        FROM \n",
    "        (SELECT \n",
    "            ratings.username,\n",
    "            COUNT(ratings.rating_id)\n",
    "            \n",
    "        FROM \n",
    "            ratings  \n",
    "            \n",
    "        GROUP BY\n",
    "            ratings.username\n",
    "                    \n",
    "        HAVING\n",
    "            COUNT(ratings.rating_id) >= 50\n",
    "        ) AS users_50_rating_score\n",
    "        \n",
    "                 \n",
    "        INNER JOIN reviews ON reviews.username = users_50_rating_score.username\n",
    "             \n",
    "        '''\n",
    "\n",
    "query_5 = pd.io.sql.read_sql(query_5, con = engine)\n",
    "\n",
    "query_5"
   ]
  },
  {
   "cell_type": "markdown",
   "id": "bfc45b30",
   "metadata": {},
   "source": [
    "Среднее кол-во обзоров от пользователей поставивших более 50 оценок составляет 24"
   ]
  },
  {
   "cell_type": "markdown",
   "id": "b1da63e8",
   "metadata": {},
   "source": [
    "## Общие выводы и рекомендации:\n"
   ]
  },
  {
   "cell_type": "markdown",
   "id": "987da841",
   "metadata": {
    "ExecuteTime": {
     "end_time": "2022-12-22T13:07:09.066496Z",
     "start_time": "2022-12-22T13:07:09.031573Z"
    }
   },
   "source": [
    "- после 1 января 2000 года вышло 819 книг;\n",
    "- Для каждой книги посчитали количество обзоров и среднюю оценку:\n"
   ]
  },
  {
   "attachments": {
    "image.png": {
     "image/png": "[encoded data removed]"
    }
   },
   "cell_type": "markdown",
   "id": "3ee8bf1d",
   "metadata": {},
   "source": [
    "![image.png](attachment:image.png)"
   ]
  },
  {
   "cell_type": "markdown",
   "id": "f003053e",
   "metadata": {},
   "source": [
    "- Издательством выпустившим наибольшее кол-во книг толще 50 страниц является Penguin Books\n",
    "- Автор с самой высокой средней оценкой книг - J.K. Rowling/Mary GrandPré - средняя оценка 4.28.\n",
    "- Среднее кол-во обзоров от пользователей поставивших более 50 оценок составляет 24"
   ]
  }
 ],
 "metadata": {
  "ExecuteTimeLog": [
   {
    "duration": 8562,
    "start_time": "2022-12-23T21:04:31.824Z"
   },
   {
    "duration": 68,
    "start_time": "2022-12-23T21:04:40.388Z"
   },
   {
    "duration": 15,
    "start_time": "2022-12-23T21:04:40.458Z"
   },
   {
    "duration": 25,
    "start_time": "2022-12-23T21:04:40.474Z"
   },
   {
    "duration": 28,
    "start_time": "2022-12-23T21:04:40.501Z"
   },
   {
    "duration": 20,
    "start_time": "2022-12-23T21:04:40.531Z"
   },
   {
    "duration": 23,
    "start_time": "2022-12-23T21:04:40.553Z"
   },
   {
    "duration": 25,
    "start_time": "2022-12-23T21:04:40.578Z"
   },
   {
    "duration": 24,
    "start_time": "2022-12-23T21:04:40.606Z"
   },
   {
    "duration": 23,
    "start_time": "2022-12-23T21:04:40.632Z"
   },
   {
    "duration": 30,
    "start_time": "2022-12-23T21:04:40.657Z"
   },
   {
    "duration": 22,
    "start_time": "2022-12-23T21:04:40.688Z"
   },
   {
    "duration": 30,
    "start_time": "2022-12-23T21:05:11.417Z"
   }
  ],
  "kernelspec": {
   "display_name": "Python 3 (ipykernel)",
   "language": "python",
   "name": "python3"
  },
  "language_info": {
   "codemirror_mode": {
    "name": "ipython",
    "version": 3
   },
   "file_extension": ".py",
   "mimetype": "text/x-python",
   "name": "python",
   "nbconvert_exporter": "python",
   "pygments_lexer": "ipython3",
   "version": "3.9.13"
  },
  "toc": {
   "base_numbering": 1,
   "nav_menu": {},
   "number_sections": true,
   "sideBar": true,
   "skip_h1_title": true,
   "title_cell": "Table of Contents",
   "title_sidebar": "Contents",
   "toc_cell": false,
   "toc_position": {
    "height": "calc(100% - 180px)",
    "left": "10px",
    "top": "150px",
    "width": "341.333px"
   },
   "toc_section_display": true,
   "toc_window_display": true
  }
 },
 "nbformat": 4,
 "nbformat_minor": 5
}
